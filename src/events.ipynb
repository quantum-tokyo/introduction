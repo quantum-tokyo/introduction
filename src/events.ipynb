{
 "cells": [
  {
   "cell_type": "markdown",
   "metadata": {},
   "source": [
    "# Qiskitコミュニティー関連イベント案内\n",
    "\n",
    "## 現在開催中のイベント\n",
    "**Quantum Tokyo (日本国内のQiskit勉強会)** の[イベントサイト](https://quantum-tokyo.connpass.com/)：不定期に開催しています。\n",
    "\n",
    "## 資格・コミュニティー活動\n",
    "(1) **[Qiskit Advocate](https://www.ibm.com/quantum/community#advocates)** : 新しくなったQiskit Advocateプログラムは、1年を通して申請が可能で、審査は毎月あります。\n",
    "\n",
    "(2) **[Qiskit デベロッパー認定制度 v2.X](https://www.ibm.com/training/certification/ibm-certified-quantum-computation-using-qiskit-v2x-developer-associate-C9008400)** \n",
    "\n",
    "\n",
    "## Qiskit Slack\n",
    "[QiskitコミュニティーのSlack](https://qisk.it/join-slack) の中の #japan では日本語で会話しています！"
   ]
  },
  {
   "cell_type": "markdown",
   "metadata": {},
   "source": []
  }
 ],
 "metadata": {
  "kernelspec": {
   "display_name": "Python 3",
   "language": "python",
   "name": "python3"
  },
  "language_info": {
   "codemirror_mode": {
    "name": "ipython",
    "version": 3
   },
   "file_extension": ".py",
   "mimetype": "text/x-python",
   "name": "python",
   "nbconvert_exporter": "python",
   "pygments_lexer": "ipython3",
   "version": "3.8.0"
  },
  "widgets": {
   "application/vnd.jupyter.widget-state+json": {
    "state": {},
    "version_major": 2,
    "version_minor": 0
   }
  }
 },
 "nbformat": 4,
 "nbformat_minor": 4
}
