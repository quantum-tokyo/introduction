{
 "cells": [
  {
   "cell_type": "markdown",
   "metadata": {},
   "source": [
    "The University of Tokyo  \n",
    "Special Lectures in Information Science Ⅱ  \n",
    "Introduction to Near-Term Quantum Computing  \n",
    "# 8. 古典計算によるシミュレーション\n",
    "\n",
    "Yoshiaki Kawase (Jun 07, 2024)\n",
    "\n",
    "元のコードは[こちら](https://github.com/puyokw/2024UTokyo_lecture8/blob/main/20240607_UTokyo_ClassicalSimulation_revised_0909.ipynb)、元のスライドは[こちら](https://github.com/puyokw/2024UTokyo_lecture8/blob/main/20240607_UTokyo_ClassicalSimulation_slide_revised.pdf)をご覧ください。"
   ]
  },
  {
   "cell_type": "code",
   "execution_count": 1,
   "metadata": {},
   "outputs": [],
   "source": [
    "%matplotlib inline\n",
    "import matplotlib.pyplot as plt"
   ]
  },
  {
   "cell_type": "code",
   "execution_count": 2,
   "metadata": {},
   "outputs": [
    {
     "data": {
      "text/plain": [
       "'1.2.0'"
      ]
     },
     "execution_count": 2,
     "metadata": {},
     "output_type": "execute_result"
    }
   ],
   "source": [
    "import qiskit\n",
    "qiskit.__version__"
   ]
  },
  {
   "cell_type": "code",
   "execution_count": 2,
   "metadata": {},
   "outputs": [],
   "source": [
    "import numpy as np\n",
    "import math\n",
    "import random\n",
    "import time\n",
    "\n",
    "from qiskit import QuantumCircuit, transpile\n",
    "from qiskit_aer import AerSimulator\n",
    "\n",
    "#from qiskit_ibm_runtime import EstimatorV2 as Estimator\n",
    "from qiskit_aer.primitives import EstimatorV2 as Estimator\n",
    "from qiskit_aer.primitives import SamplerV2 as Sampler\n",
    "from qiskit.quantum_info import SparsePauliOp"
   ]
  },
  {
   "cell_type": "markdown",
   "metadata": {},
   "source": [
    "## 行列積状態 (Matrics Product State, MPS) シミュレーター\n",
    "以下の回路を使って、MPS シミュレーターで、それがどのように機能するかを確認します。"
   ]
  },
  {
   "cell_type": "code",
   "execution_count": 3,
   "metadata": {},
   "outputs": [
    {
     "data": {
      "image/png": "[encoded data removed]",
      "text/plain": [
       "<Figure size 1123.41x284.278 with 1 Axes>"
      ]
     },
     "metadata": {},
     "output_type": "display_data"
    }
   ],
   "source": [
    "mps_simulator = AerSimulator(method='matrix_product_state')\n",
    "n_qubits=2\n",
    "seed = 1\n",
    "np.random.seed(seed)\n",
    "random.seed(seed)\n",
    "angles = np.random.rand(9)*math.pi # ランダムな角度を準備します\n",
    "\n",
    "qc = QuantumCircuit(n_qubits, n_qubits)\n",
    "qc.save_matrix_product_state(label='mps_init')\n",
    "\n",
    "qc.u(angles[0], angles[1], angles[2], 0) # prepare a random quantum state\n",
    "qc.u(angles[3], angles[4], angles[5], 1) # prepare a random quantum state\n",
    "qc.save_matrix_product_state(label='mps1')\n",
    "\n",
    "qc.cx(0,1)\n",
    "qc.save_matrix_product_state(label='mps2')\n",
    "qc.measure(range(n_qubits), range(n_qubits))\n",
    "qc.draw(output=\"mpl\")\n",
    "plt.show()"
   ]
  },
  {
   "cell_type": "markdown",
   "metadata": {},
   "source": [
    "まず初期状態、`mps_init` での状態を確認します。"
   ]
  },
  {
   "cell_type": "code",
   "execution_count": 5,
   "metadata": {},
   "outputs": [
    {
     "data": {
      "text/plain": [
       "([(array([[1.+0.j]]), array([[0.+0.j]])),\n",
       "  (array([[1.+0.j]]), array([[0.+0.j]]))],\n",
       " [array([1.])])"
      ]
     },
     "execution_count": 5,
     "metadata": {},
     "output_type": "execute_result"
    }
   ],
   "source": [
    "tqc = transpile(qc, mps_simulator)\n",
    "result = mps_simulator.run(tqc).result()\n",
    "result.data(0)['mps_init']"
   ]
  },
  {
   "cell_type": "markdown",
   "metadata": {},
   "source": [
    "Qiskit Aerのチュートリアル https://qiskit.github.io/qiskit-aer/tutorials/7_matrix_product_state_method.html#id1 より、\n",
    "MPS シミュレーターを使用すると、 量子状態は、正規形式 $\\Gamma^{(1)} \\lambda^{(1)} \\cdots \\Gamma^{(n-1)} \\lambda^{(n-1)} \\Gamma^{(n)}$ で表されます。 \n",
    "ここで、$\\Gamma$ はテンソルを表し、$\\lambda$ は正規化係数を表します。\n",
    "したがって、シミュレーターはテンソルと正規化係数のリストを持ちます。"
   ]
  },
  {
   "cell_type": "markdown",
   "metadata": {},
   "source": [
    "シミュレーターの出力は、テンソル A と B のリストと正規化係数 $\\lambda$ のリストを含みます。\n",
    "量子状態を $ |\\psi_{init}\\rangle = \\sum_{\\sigma_0,\\sigma_1} A^{\\sigma_0} \\lambda B^{\\sigma_1} |\\sigma_0 \\sigma_1 \\rangle$ で記述すると、出力は、テンソルのリスト $[A,B]=[A^0,A^1,B^0,B^1]$ と正規化係数 $[\\lambda]$ になります。\n"
   ]
  },
  {
   "cell_type": "markdown",
   "metadata": {},
   "source": [
    "上の `mps_init` 時点での出力結果から、初期状態 $|00\\rangle$ は $A^{0} = 1, A^{1}=0, B^{0}=1, B^{1}=0, \\lambda=1$ となる $ |\\psi_{init}\\rangle = \\sum_{\\sigma_0,\\sigma_1} A^{\\sigma_0} \\lambda B^{\\sigma_1} |\\sigma_0 \\sigma_1 \\rangle$ で記述されていることがわかります。\n"
   ]
  },
  {
   "cell_type": "code",
   "execution_count": 6,
   "metadata": {},
   "outputs": [],
   "source": [
    "A0 = 1\n",
    "A1 = 0\n",
    "B0 = 1\n",
    "B1 = 0"
   ]
  },
  {
   "cell_type": "markdown",
   "metadata": {},
   "source": [
    "次に、上記回路では、q0にユニタリーゲートUを作用させています。ユニタリーゲートは、以下のような $2 \\times 2$ 行列"
   ]
  },
  {
   "cell_type": "markdown",
   "metadata": {},
   "source": [
    "$U=\n",
    "\\begin{pmatrix}\n",
    "u_{00} & u_{01} \\\\\n",
    "u_{10} & u_{11}\n",
    "\\end{pmatrix}\n",
    "=u_{00} |0\\rangle \\langle 0|+u_{01} |0\\rangle \\langle 1|+u_{10} |1\\rangle \\langle 0|+u_{11} |1\\rangle \\langle 1|$　であるため、この作用は"
   ]
  },
  {
   "cell_type": "markdown",
   "metadata": {},
   "source": [
    "$(U\\otimes I)|\\psi_{init} \\rangle \n",
    "= \\sum_{\\sigma_0} U A^{\\sigma_0} |\\sigma_0\\rangle \\otimes \\sum_{\\sigma_1} B^{\\sigma_1} |\\sigma_1 \\rangle\n",
    "= \\bigg( ( A^{0}u_{00} + A^{1}u_{01} )|0\\rangle + (A^{0}u_{10} + A^{1}u_{11} ) |1\\rangle \\bigg) \\otimes \\sum_{\\sigma_1} B^{\\sigma_1} |\\sigma_1 \\rangle$"
   ]
  },
  {
   "cell_type": "markdown",
   "metadata": {},
   "source": [
    "となります。QiskitのUゲートの定義より、\n",
    "\n",
    "\n",
    "$U(\\theta_1,\\theta_2,\\theta_3)=\n",
    "\\begin{pmatrix}\n",
    "\\cos{(\\theta_1/2)} & -e^{i\\theta_3}\\sin{(\\theta_1/2)} \\\\\n",
    "e^{i\\theta_2}\\sin{(\\theta_1/2)} & e^{i(\\theta_2+\\theta_3)} \\cos{(\\theta_1/2)}\n",
    "\\end{pmatrix}\n",
    "$"
   ]
  },
  {
   "cell_type": "markdown",
   "metadata": {},
   "source": [
    "$\\theta_1、\\theta_2$、$\\theta_3$に値を割り当て、Uゲートを量子状態に適用し$A^0$ と $A^1$ を計算します："
   ]
  },
  {
   "cell_type": "code",
   "execution_count": 7,
   "metadata": {},
   "outputs": [
    {
     "name": "stdout",
     "output_type": "stream",
     "text": [
      "new A^0= (0.7930134282051604+0j) new A^1= (-0.3887996598361402+0.4690037603235188j)\n"
     ]
    }
   ],
   "source": [
    "# QiskitのUゲートの定義より\n",
    "u00 = np.cos(angles[0]/2)\n",
    "u01 = -np.exp(1.0j*angles[2])*np.sin(angles[0]/2)\n",
    "u10 = np.exp(1.0j*angles[1])*np.sin(angles[0]/2)\n",
    "u11 = np.exp(1.0j*(angles[1]+angles[2]))*np.cos(angles[0]/2)\n",
    "print( \"new A^0=\", A0*u00+A1*u01, \"new A^1=\", A0*u10+A1*u11)"
   ]
  },
  {
   "cell_type": "markdown",
   "metadata": {},
   "source": [
    "同様に、q1にユニタリーゲートUを作用させ、$B^0$ と $B^1$ を次のように計算します："
   ]
  },
  {
   "cell_type": "code",
   "execution_count": 8,
   "metadata": {},
   "outputs": [
    {
     "name": "stdout",
     "output_type": "stream",
     "text": [
      "new B^0= (0.8893371274812134+0j) new B^1= (0.4095090690923406+0.20342516072155026j)\n"
     ]
    }
   ],
   "source": [
    "# Uゲートの定義より\n",
    "v00 = np.cos(angles[3]/2)\n",
    "v01 = -np.exp(1.0j*angles[5])*np.sin(angles[3]/2)\n",
    "v10 = np.exp(1.0j*angles[4])*np.sin(angles[3]/2)\n",
    "v11 = np.exp(1.0j*(angles[4]+angles[5]))*np.cos(angles[3]/2)\n",
    "print( \"new B^0=\", B0*v00+B1*u01, \"new B^1=\", B0*v10+B1*v11)"
   ]
  },
  {
   "cell_type": "markdown",
   "metadata": {},
   "source": [
    "MPSシミュレーターによる `mps1` 時点でのテンソル A と B の値と正規化係数 $\\lambda$ を見てみましょう。"
   ]
  },
  {
   "cell_type": "code",
   "execution_count": 9,
   "metadata": {},
   "outputs": [
    {
     "data": {
      "text/plain": [
       "([(array([[0.79301343+0.j]]), array([[-0.38879966+0.46900376j]])),\n",
       "  (array([[0.88933713+0.j]]), array([[0.40950907+0.20342516j]]))],\n",
       " [array([1.])])"
      ]
     },
     "execution_count": 9,
     "metadata": {},
     "output_type": "execute_result"
    }
   ],
   "source": [
    "result.data(0)['mps1']"
   ]
  },
  {
   "cell_type": "markdown",
   "metadata": {},
   "source": [
    "上記のケースと同様に、シミュレーターの出力には、テンソルAとBのリストと、正規化係数$\\lambda$を含むリストが含まれます。\n",
    "量子状態を $ |\\psi_{1}\\rangle = \\sum_{\\sigma_0,\\sigma_1} A^{\\sigma_0} \\lambda B^{\\sigma_1} |\\sigma_0 \\sigma_1 \\rangle$ で記述すると、出力はテンソル $[A,B]=[A^0,A^1,B^0,B^1]$ と正規化係数 $[\\lambda]$ のリストとなり、テンソルと正規化係数は、以下のように求められます。"
   ]
  },
  {
   "cell_type": "code",
   "execution_count": 10,
   "metadata": {},
   "outputs": [
    {
     "name": "stdout",
     "output_type": "stream",
     "text": [
      "A^0= [0.79301343+0.j] , A^1= [-0.38879966+0.46900376j] \n",
      "B^0= [0.88933713+0.j] , B^1= [0.40950907+0.20342516j] \n",
      "lambda= [1.]\n"
     ]
    }
   ],
   "source": [
    "print(\"A^0=\", result.data(0)['mps1'][0][0][0][0], \", A^1=\", result.data(0)['mps1'][0][0][1][0], \n",
    "      \"\\nB^0=\", result.data(0)['mps1'][0][1][0][0], \", B^1=\", result.data(0)['mps1'][0][1][1][0], \n",
    "      \"\\nlambda=\", result.data(0)['mps1'][1][0])"
   ]
  },
  {
   "cell_type": "markdown",
   "metadata": {},
   "source": [
    "`mps1` の状態において、ユニタリーゲートの定義から計算した結果が、MPSシミュレーターの結果と一致していることがわかります。"
   ]
  },
  {
   "cell_type": "code",
   "execution_count": 11,
   "metadata": {},
   "outputs": [
    {
     "name": "stdout",
     "output_type": "stream",
     "text": [
      "new A^0= (0.7930134282051604+0j) , new A^1= (-0.3887996598361402+0.4690037603235188j)\n",
      "new B^0= (0.8893371274812134+0j) , new B^1= (0.4095090690923406+0.20342516072155026j)\n"
     ]
    }
   ],
   "source": [
    "print( \"new A^0=\", A0*u00+A1*u01, \", new A^1=\", A0*u10+A1*u11)\n",
    "print( \"new B^0=\", B0*v00+B1*u01, \", new B^1=\", B0*v10+B1*v11)"
   ]
  },
  {
   "cell_type": "markdown",
   "metadata": {},
   "source": [
    "次に、シミュレーターがどのように機能するかを確認するために、ここでテンソルの値を更新しておきます："
   ]
  },
  {
   "cell_type": "code",
   "execution_count": 12,
   "metadata": {},
   "outputs": [
    {
     "name": "stdout",
     "output_type": "stream",
     "text": [
      "(0.7930134282051604+0j) (-0.3887996598361402+0.4690037603235188j) (0.8893371274812134+0j) (0.4095090690923406+0.20342516072155026j)\n"
     ]
    }
   ],
   "source": [
    "A0 = result.data(0)['mps1'][0][0][0][0][0]\n",
    "A1 = result.data(0)['mps1'][0][0][1][0][0]\n",
    "B0 = result.data(0)['mps1'][0][1][0][0][0]\n",
    "B1 = result.data(0)['mps1'][0][1][1][0][0]\n",
    "print(A0, A1, B0, B1)"
   ]
  },
  {
   "cell_type": "markdown",
   "metadata": {},
   "source": [
    "次に、上記回路では量子状態にCNOTゲートを適用しています。"
   ]
  },
  {
   "cell_type": "markdown",
   "metadata": {},
   "source": [
    "CNOTゲートは$CX_{c,t} = |0_c\\rangle \\langle 0_c|\\otimes I_t + |1_c\\rangle \\langle 1_c|\\otimes X_t$です。 \n",
    "`mps1` 時点での量子状態$|\\psi_1 \\rangle$に$CX_{0,1}$を適用すると、`mps2` 時点での量子状態$|\\psi_2 \\rangle$ は、以下のようになります。"
   ]
  },
  {
   "cell_type": "markdown",
   "metadata": {},
   "source": [
    "$|\\psi_2 \\rangle := CX_{0,1} |\\psi_1\\rangle= \n",
    "(|0\\rangle \\langle 0| \\otimes I + |1\\rangle \\langle 1| \\otimes X)\n",
    "(A^0 B^0|00\\rangle+A^0 B^1 |01\\rangle+A^1 B^0|10\\rangle+A^1 B^1|11\\rangle)$\n",
    "\n",
    "$=(A^0 B^0|00\\rangle+A^0 B^1 |01\\rangle+A^1 B^1|10\\rangle+A^1 B^0|11\\rangle)$"
   ]
  },
  {
   "cell_type": "markdown",
   "metadata": {},
   "source": [
    "ここで $|\\psi_2 \\rangle$の振幅は以下のように計算されます。"
   ]
  },
  {
   "cell_type": "code",
   "execution_count": 13,
   "metadata": {},
   "outputs": [
    {
     "name": "stdout",
     "output_type": "stream",
     "text": [
      "(0.7052562842940068+0j) (0.3247461907620209+0.1613188840869823j) (-0.25462415208573974+0.11296966000024053j) (-0.3457739726443458+0.4171024569840057j)\n"
     ]
    }
   ],
   "source": [
    "c00 = A0*B0\n",
    "c01 = A0*B1\n",
    "c10 = A1*B1\n",
    "c11 = A1*B0\n",
    "print(c00, c01, c10, c11)"
   ]
  },
  {
   "cell_type": "markdown",
   "metadata": {},
   "source": [
    "次に、特異値分解 (singular value decomposition, SVD) を使用して $(A^0 B^0|00\\rangle+A^0 B^1 |01\\rangle+A^1 B^1|10\\rangle+A^1 B^0|11\\rangle)$をMPS形式に分解します。\n"
   ]
  },
  {
   "cell_type": "markdown",
   "metadata": {},
   "source": [
    "ここでは、$|\\psi\\rangle = c_{00} |00\\rangle + c_{01} |01\\rangle + c_{10} |10\\rangle + c_{11} |11\\rangle$ とその係数からなる行列$M=\\begin{pmatrix}\n",
    "c_{00} & c_{01} \\\\\n",
    "c_{10} & c_{11}\n",
    "\\end{pmatrix}$を考えます。 \n",
    "この行列にSVDを適用すると、次のようになります。\n"
   ]
  },
  {
   "cell_type": "markdown",
   "metadata": {},
   "source": [
    "$\\begin{pmatrix}\n",
    "c_{00} & c_{01} \\\\\n",
    "c_{10} & c_{11}\n",
    "\\end{pmatrix}\n",
    "=UDV^\\dagger=\n",
    "\\begin{pmatrix}\n",
    "u_{00} & u_{01} \\\\\n",
    "u_{10} & u_{11}\n",
    "\\end{pmatrix}\n",
    "\\begin{pmatrix}\n",
    "\\lambda_{0} & 0 \\\\\n",
    "0 & \\lambda_{1}\n",
    "\\end{pmatrix}\n",
    "\\begin{pmatrix}\n",
    "v_{00} & v_{01} \\\\\n",
    "v_{10} & v_{11}\n",
    "\\end{pmatrix}$"
   ]
  },
  {
   "cell_type": "markdown",
   "metadata": {},
   "source": [
    "したがって、この係数は $c_{\\sigma_0 \\sigma_1}=\\sum_{k=0}^1 u_{\\sigma_0 k} \\lambda_{k} v_{k\\sigma_1}$ と書くことができます。 \n",
    "これを $|\\psi\\rangle = c_{00} |00\\rangle + c_{01} |01\\rangle + c_{10} |10\\rangle + c_{11} |11\\rangle$ に代入すると、次のようになります。\n"
   ]
  },
  {
   "cell_type": "markdown",
   "metadata": {},
   "source": [
    "$|\\psi \\rangle=\\sum_{\\sigma_0=0}^1\\sum_{\\sigma_j=0}^1 c_{\\sigma_0\\sigma_1} |\\sigma_0\\rangle |\\sigma_1\\rangle \n",
    "=\\sum_{\\sigma_0=0}^1 \\sum_{\\sigma_1=0}^1 \\sum_{k=0}^1 u_{\\sigma_0 k} \\lambda_k v_{k \\sigma_1} |\\sigma_0\\rangle |\\sigma_1\\rangle$."
   ]
  },
  {
   "cell_type": "markdown",
   "metadata": {},
   "source": [
    "この式に、$u_{00}=A_0^0, u_{01}=A_1^0, u_{10}=A_0^1, u_{11}=A_1^1, v_{00}=B_0^0, v_{01}=B_0^1, v_{10}=B_1^0, v_{11}=B_1^1$を代入することで、$ |\\psi_2 \\rangle$を$\\sum_{\\sigma_1=0}^1 \\sum_{\\sigma_0=0}^1 \\sum_{k=0}^1 A^{\\sigma_0}_k \\lambda_k B^{\\sigma_1}_k |\\sigma_0 \\sigma_1 \\rangle$ と表現できます。"
   ]
  },
  {
   "cell_type": "markdown",
   "metadata": {},
   "source": [
    "以下のセルで、係数行列\n",
    "$\\begin{pmatrix}\n",
    "c_{00} & c_{01} \\\\\n",
    "c_{10} & c_{11}\n",
    "\\end{pmatrix}$ \n",
    "を作成し、SVDを適用し、A、B、$\\lambda$の値を計算しました。\n"
   ]
  },
  {
   "cell_type": "code",
   "execution_count": 14,
   "metadata": {},
   "outputs": [
    {
     "data": {
      "text/plain": [
       "array([[ 0.70525628+0.j        ,  0.32474619+0.16131888j],\n",
       "       [-0.25462415+0.11296966j, -0.34577397+0.41710246j]])"
      ]
     },
     "execution_count": 14,
     "metadata": {},
     "output_type": "execute_result"
    }
   ],
   "source": [
    "M = np.array([\n",
    "    [c00,c01],\n",
    "    [c10,c11]\n",
    "])\n",
    "M"
   ]
  },
  {
   "cell_type": "code",
   "execution_count": 15,
   "metadata": {},
   "outputs": [
    {
     "data": {
      "text/plain": [
       "SVDResult(U=array([[-0.81577887-0.08031113j, -0.51037011+0.25995635j],\n",
       "       [ 0.40698376-0.40301262j, -0.1797446 +0.79977304j]]), S=array([0.9352768, 0.3539171]), Vh=array([[-0.77462551+0.j        , -0.62729957-0.08031542j],\n",
       "       [-0.6324202 +0.j        ,  0.76835346+0.09837506j]]))"
      ]
     },
     "execution_count": 15,
     "metadata": {},
     "output_type": "execute_result"
    }
   ],
   "source": [
    "res = np.linalg.svd(M)\n",
    "rank = len(res.S)\n",
    "# res.U @np.diag(res.S)@res.Vh[:rank,:]\n",
    "res"
   ]
  },
  {
   "cell_type": "markdown",
   "metadata": {},
   "source": [
    "SVDの結果と上記の説明から、係数を次のように決定できます。"
   ]
  },
  {
   "cell_type": "code",
   "execution_count": 16,
   "metadata": {},
   "outputs": [],
   "source": [
    "A00 = res.U[0][0]\n",
    "A01 = res.U[0][1]\n",
    "A10 = res.U[1][0]\n",
    "A11 = res.U[1][1]\n",
    "lam = res.S\n",
    "B00 = res.Vh[0][0]\n",
    "B01 = res.Vh[1][0]\n",
    "B10 = res.Vh[0][1]\n",
    "B11 = res.Vh[1][1]"
   ]
  },
  {
   "cell_type": "markdown",
   "metadata": {},
   "source": [
    "一方、MPSシミュレーターの結果は以下です。"
   ]
  },
  {
   "cell_type": "code",
   "execution_count": 17,
   "metadata": {},
   "outputs": [
    {
     "data": {
      "text/plain": [
       "([(array([[ 0.81577887+0.08031113j, -0.51037011+0.25995635j]]),\n",
       "   array([[-0.40698376+0.40301262j, -0.1797446 +0.79977304j]])),\n",
       "  (array([[ 0.77462551-0.j],\n",
       "          [-0.6324202 -0.j]]),\n",
       "   array([[0.62729957+0.08031542j],\n",
       "          [0.76835346+0.09837506j]]))],\n",
       " [array([0.9352768, 0.3539171])])"
      ]
     },
     "execution_count": 17,
     "metadata": {},
     "output_type": "execute_result"
    }
   ],
   "source": [
    "result.data(0)['mps2']"
   ]
  },
  {
   "cell_type": "markdown",
   "metadata": {},
   "source": [
    "この出力は、テンソル A と B を含むリストで構成され、正規化係数 $\\lambda$ が含まれます。量子状態を $\\sum_{\\sigma_0=0}^1 \\sum_{\\sigma_1=0}^1 \\sum_{k=0}^1 A^{\\sigma_0}_k \\lambda_k B^{\\sigma_1}_k |\\sigma_0 \\sigma_1 \\rangle$ で記述すると、この出力にはテンソル $[A,B]=[[A^0_0,A^0_1],[A^1_0,A^1_1]],[[B^0_0,B^0_1],[B^1_0,B^1_1]]]$ と正規化係数 $[\\lambda_0,\\lambda_1]$ が含まれます。\n"
   ]
  },
  {
   "cell_type": "markdown",
   "metadata": {},
   "source": [
    "固有値について、SVDの結果の`lam`とMPS シミュレーターの結果$[\\lambda_0,\\lambda_1]$を比べてみましょう。以下のように一致していることがわかります："
   ]
  },
  {
   "cell_type": "code",
   "execution_count": 18,
   "metadata": {},
   "outputs": [
    {
     "name": "stdout",
     "output_type": "stream",
     "text": [
      "[0.9352768 0.3539171] [array([0.9352768, 0.3539171])]\n"
     ]
    }
   ],
   "source": [
    "print(lam, result.data(0)['mps2'][1])"
   ]
  },
  {
   "cell_type": "markdown",
   "metadata": {},
   "source": [
    "テンソルの値については、MPSシミュレーターの出力では次のようになっています。"
   ]
  },
  {
   "cell_type": "code",
   "execution_count": 19,
   "metadata": {},
   "outputs": [
    {
     "name": "stdout",
     "output_type": "stream",
     "text": [
      "A^0_0=(0.81577887+0.08031113j), A^0_1=(-0.51037011+0.25995635j), A^1_0=(-0.40698376+0.40301262j), A^1_1=(-0.1797446+0.79977304j)\n",
      "B^0_0=0.77462551, B^0_1=-0.6324202, B^1_0=(0.62729957+0.08031542j), B^1_1=(0.76835346+0.09837506j)\n"
     ]
    }
   ],
   "source": [
    "print(f\"A^0_0={0.81577887+0.08031113j}, A^0_1={-0.51037011+0.25995635j}, A^1_0={-0.40698376+0.40301262j}, A^1_1={-0.1797446 +0.79977304j}\")\n",
    "print(f\"B^0_0={0.77462551}, B^0_1={-0.6324202}, B^1_0={0.62729957+0.08031542j}, B^1_1={0.76835346+0.09837506j}\")"
   ]
  },
  {
   "cell_type": "markdown",
   "metadata": {},
   "source": [
    "一方、SVDの計算結果から、テンソルの値は以下のようになります。"
   ]
  },
  {
   "cell_type": "code",
   "execution_count": 20,
   "metadata": {},
   "outputs": [
    {
     "name": "stdout",
     "output_type": "stream",
     "text": [
      "A^0_0=-0.81577887-0.08031113j, A^0_1=-0.51037011+0.25995635j, A^1_0=0.40698376-0.40301262j, A^1_1=-0.17974460+0.79977304j\n",
      "\n",
      "B^0_0=-0.77462551+0.00000000j, B^0_1=-0.63242020+0.00000000j, B^1_0=-0.62729957-0.08031542j, B^1_1=0.76835346+0.09837506j\n"
     ]
    }
   ],
   "source": [
    "print(f\"A^0_0={A00:.8f}, A^0_1={A01:.8f}, A^1_0={A10:.8f}, A^1_1={A11:.8f}\\n\")\n",
    "print(f\"B^0_0={B00:.8f}, B^0_1={B01:.8f}, B^1_0={B10:.8f}, B^1_1={B11:.8f}\")"
   ]
  },
  {
   "cell_type": "markdown",
   "metadata": {},
   "source": [
    "このテンソルの値についてMPSシミュレーターの結果と比較すると、$A_0^0、A_0^1、B_0^0,$、$B_0^1$は、反対の符号を持っていますが、以下のように量子状態$|\\psi_2 \\rangle$について確認すると、MPSシミュレーターとSVDの結果は同じ量子状態を表していることがわかります。"
   ]
  },
  {
   "cell_type": "markdown",
   "metadata": {},
   "source": [
    "$|\\psi_2\\rangle = \n",
    "\\lambda_0 \\bigg( (A^0_0 |0\\rangle + A^1_0 |1\\rangle) \\otimes (B^0_0 |0\\rangle + B^1_0 |1\\rangle) \\bigg)\n",
    "+\\lambda_1 \\bigg( (A^0_1 |0\\rangle + A^1_1 |1\\rangle) \\otimes (B^0_1 |0\\rangle + B^1_1 |1\\rangle) \\bigg)$\n",
    "\n",
    "$=\\lambda_0 \\bigg( (-A^0_0 |0\\rangle - A^1_0 |1\\rangle) \\otimes (-B^0_0 |0\\rangle - B^1_0 |1\\rangle) \\bigg)\n",
    "+\\lambda_1 \\bigg( (A^0_1 |0\\rangle + A^1_1 |1\\rangle) \\otimes (B^0_1 |0\\rangle + B^1_1 |1\\rangle) \\bigg)$"
   ]
  },
  {
   "cell_type": "markdown",
   "metadata": {},
   "source": [
    "## スタビライザー・シミュレーター\n",
    "以下の回路を使って、スタビライザー・シミュレーターがどのように機能するかを確認します。"
   ]
  },
  {
   "cell_type": "code",
   "execution_count": 21,
   "metadata": {},
   "outputs": [
    {
     "data": {
      "image/png": "[encoded data removed]",
      "text/plain": [
       "<Figure size 1207.02x284.278 with 1 Axes>"
      ]
     },
     "metadata": {},
     "output_type": "display_data"
    }
   ],
   "source": [
    "stab_simulator = AerSimulator(method='stabilizer')\n",
    "\n",
    "n_qubits = 2\n",
    "qc = QuantumCircuit(n_qubits, n_qubits)\n",
    "qc.save_clifford(label='clf_init')\n",
    "\n",
    "qc.h(0)\n",
    "qc.save_clifford(label='clf_h')\n",
    "\n",
    "qc.cx(0, 1)\n",
    "qc.save_clifford(label='clf_hcx')\n",
    "\n",
    "qc.cz(0, 1)\n",
    "qc.save_clifford(label='clf_hcxcz')\n",
    "\n",
    "qc.measure(range(n_qubits), range(n_qubits))\n",
    "tcirc = transpile(qc, stab_simulator)\n",
    "result = stab_simulator.run(tcirc).result()\n",
    "\n",
    "qc.draw(output=\"mpl\")\n",
    "plt.show()"
   ]
  },
  {
   "cell_type": "markdown",
   "metadata": {},
   "source": [
    "初期状態 $|00\\rangle$ のスタビライザー演算子は $I_2Z_1、Z_2I_1$ であるため、バイナリー・テーブルは次のように表されます。"
   ]
  },
  {
   "cell_type": "markdown",
   "metadata": {},
   "source": [
    "| |$x_1x_2$|$z_1z_2$|\n",
    "|-|-|-|\n",
    "|$Z_1I_2$|$00$|$10$|\n",
    "|$I_1Z_2$|$00$|$01$|"
   ]
  },
  {
   "cell_type": "code",
   "execution_count": 22,
   "metadata": {},
   "outputs": [
    {
     "data": {
      "text/plain": [
       "array([[0, 0, 1, 0, 0],\n",
       "       [0, 0, 0, 1, 0]])"
      ]
     },
     "execution_count": 22,
     "metadata": {},
     "output_type": "execute_result"
    }
   ],
   "source": [
    "result.data(0)['clf_init'].stab.astype(int)"
   ]
  },
  {
   "cell_type": "markdown",
   "metadata": {},
   "source": [
    "シミュレーターでは、テーブルの最後にグローバル・フェーズを処理するために列が追加されています。\n",
    "\n",
    "Hゲートが第1量子ビットに作用した後の量子状態は、列を$x_1$と$z_1$の間で入れ替えることで見ることができます。\n"
   ]
  },
  {
   "cell_type": "code",
   "execution_count": 23,
   "metadata": {},
   "outputs": [
    {
     "data": {
      "text/plain": [
       "array([[1, 0, 0, 0, 0],\n",
       "       [0, 0, 0, 1, 0]])"
      ]
     },
     "execution_count": 23,
     "metadata": {},
     "output_type": "execute_result"
    }
   ],
   "source": [
    "result.data(0)['clf_h'].stab.astype(int)"
   ]
  },
  {
   "cell_type": "markdown",
   "metadata": {},
   "source": [
    "このときのスタビライザーは $X_1I_2,I_1Z_2$ なので、量子状態は $|0\\rangle \\otimes \\frac{|0\\rangle+|1\\rangle}{\\sqrt{2}}$ です。(右端の量子ビットは 1 番目の量子ビットであることに注意してください。)"
   ]
  },
  {
   "cell_type": "markdown",
   "metadata": {},
   "source": [
    "CNOTゲートを第1量子ビットを制御、第2量子ビットをターゲットとして作用します。 \n",
    "バイナリー・テーブルは、$x_2^{new}=x_1\\oplus x_2、z_1^{new}=z_1\\oplus z_2$ によって更新されます。"
   ]
  },
  {
   "cell_type": "code",
   "execution_count": 24,
   "metadata": {},
   "outputs": [
    {
     "data": {
      "text/plain": [
       "array([[1, 1, 0, 0, 0],\n",
       "       [0, 0, 1, 1, 0]])"
      ]
     },
     "execution_count": 24,
     "metadata": {},
     "output_type": "execute_result"
    }
   ],
   "source": [
    "result.data(0)['clf_hcx'].stab.astype(int)"
   ]
  },
  {
   "cell_type": "markdown",
   "metadata": {},
   "source": [
    "スタビライザー演算子は $X_1X_2$ と $Z_1 Z_2$ であるため、現在の量子状態は $\\frac{|00\\rangle+|11\\rangle}{\\sqrt{2}}$ です。"
   ]
  },
  {
   "cell_type": "markdown",
   "metadata": {},
   "source": [
    "CZゲートを第1量子ビットを制御、第2量子ビットをターゲットとして作用します。 \n",
    "\n",
    "バイナリー・テーブルは、$z_1^{new}=x_2\\oplus z_1、z_2^{new}=x_1\\oplus z_2$によって更新されます。\n"
   ]
  },
  {
   "cell_type": "code",
   "execution_count": 25,
   "metadata": {},
   "outputs": [
    {
     "data": {
      "text/plain": [
       "array([[1, 1, 1, 1, 0],\n",
       "       [0, 0, 1, 1, 0]])"
      ]
     },
     "execution_count": 25,
     "metadata": {},
     "output_type": "execute_result"
    }
   ],
   "source": [
    "result.data(0)['clf_hcxcz'].stab.astype(int)"
   ]
  },
  {
   "cell_type": "markdown",
   "metadata": {},
   "source": [
    "スタビライザー演算子は $Y_1Y_2、Z_1Z_2$ であるため、このときの量子状態は $(|00\\rangle-|11\\rangle)/\\sqrt{2}$ です。"
   ]
  },
  {
   "cell_type": "code",
   "execution_count": 26,
   "metadata": {},
   "outputs": [
    {
     "data": {
      "text/plain": [
       "{'0x0': 493, '0x3': 531}"
      ]
     },
     "execution_count": 26,
     "metadata": {},
     "output_type": "execute_result"
    }
   ],
   "source": [
    "result.data(0)['counts']"
   ]
  },
  {
   "cell_type": "markdown",
   "metadata": {},
   "source": [
    "クリフォード・ゲートには、回転角度が $m\\pi/2$ ($m$ は整数) の単一量子ビット ゲートも含まれます。"
   ]
  },
  {
   "cell_type": "markdown",
   "metadata": {},
   "source": [
    "# statevector、MPS、スタビライザー・シミュレーターの実行時間の比較 \n",
    "GHZ状態を生成する実行時間を比較します。\n"
   ]
  },
  {
   "cell_type": "code",
   "execution_count": 27,
   "metadata": {},
   "outputs": [],
   "source": [
    "statevec_simulator = AerSimulator(method='statevector')\n",
    "stab_simulator = AerSimulator(method='stabilizer')\n",
    "mps_simulator = AerSimulator(method='matrix_product_state')\n",
    "\n",
    "def simulation(n_qubits, simulator):\n",
    "    circ = QuantumCircuit(n_qubits, n_qubits)\n",
    "    circ.h(0)\n",
    "    for i in range (0, n_qubits-1):\n",
    "        circ.cx(i, i+1)\n",
    "    circ.measure(range(n_qubits), range(n_qubits))\n",
    "    tcirc = transpile(circ, simulator)\n",
    "    result = simulator.run(tcirc).result()\n",
    "    return result.time_taken\n",
    "\n",
    "nqubits_state_vec_list = [i for i in range(10,25,2)]\n",
    "nqubits_mps_list = [i for i in range(10,61,5)]\n",
    "nqubits_stab_list = [i for i in range(10,101,5)]\n",
    "statevec_exec_time = [simulation(n_qubits, statevec_simulator) for n_qubits in nqubits_state_vec_list ]\n",
    "mps_exec_time = [simulation(n_qubits, mps_simulator) for n_qubits in nqubits_mps_list]\n",
    "stab_exec_time = [simulation(n_qubits, stab_simulator) for n_qubits in nqubits_stab_list]"
   ]
  },
  {
   "cell_type": "code",
   "execution_count": 28,
   "metadata": {},
   "outputs": [
    {
     "data": {
      "image/png": "[encoded data removed]",
      "text/plain": [
       "<Figure size 640x480 with 1 Axes>"
      ]
     },
     "metadata": {},
     "output_type": "display_data"
    }
   ],
   "source": [
    "plt.scatter(nqubits_state_vec_list, statevec_exec_time, label=\"state_vec\")\n",
    "plt.scatter(nqubits_mps_list, mps_exec_time, label=\"mps\")\n",
    "plt.scatter(nqubits_stab_list, stab_exec_time, label=\"clifford\")\n",
    "plt.xlabel(\"n_qubits\", fontsize=12)\n",
    "plt.xticks(np.linspace(10,100,10),minor=True)\n",
    "plt.ylabel(\"sec\", fontsize=12)\n",
    "#plt.ylim(0,0.3)\n",
    "plt.legend(bbox_to_anchor=(1.05, 1), loc='upper left', borderaxespad=0)\n",
    "plt.show()"
   ]
  },
  {
   "cell_type": "markdown",
   "metadata": {},
   "source": [
    "スタビライザー・シミュレーターは高速で、100量子ビットをシミュレートできます。 \n",
    "MPS シミュレーターはスタビライザー・シミュレーターよりも遅いですが、60 量子ビットをシミュレートできます。 \n",
    "Statevectorシミュレーターは、20量子ビット未満において、MPSシミュレーターよりも高速です(これはキャッシュサイズによって異なります)が、実行時間とメモリー要件は 20 量子ビットを超えると指数関数的に増加します。\n"
   ]
  },
  {
   "cell_type": "markdown",
   "metadata": {},
   "source": [
    "次に、以下のイジング・ハミルトニアンのシミュレーション時間を比較します。 \n",
    "\n",
    "$$H=h \\sum_{i=1}^n X_i + j \\sum_{i=1}^n \\sum_{j=1}^i Z_iZ_j$$\n",
    "\n",
    "トロッター分解を用いて、以下の回路を計算します。\n",
    "\n",
    "$$e^{-iH \\Delta t} \\simeq (\\Pi_{j=1}^n e^{-i h X_j \\Delta t})(\\Pi_{j=1}^n \\Pi_{k=1}^{j-1} e^{-i J Z_j Z_k \\Delta t})$$\n",
    "\n",
    "初期状態は $|+\\rangle^{\\otimes n}$ として準備します。\n"
   ]
  },
  {
   "cell_type": "code",
   "execution_count": 29,
   "metadata": {},
   "outputs": [],
   "source": [
    "J = np.random.rand()\n",
    "h = np.random.rand()\n",
    "\n",
    "delta = 1e-3\n",
    "def simulating_ising_model(n_qubits, simulator):\n",
    "    qc = QuantumCircuit(n_qubits, n_qubits)\n",
    "    # to prepare |+...+>\n",
    "    for i in range(n_qubits):\n",
    "        qc.h(i)\n",
    "    # time-evolution by Ising Hamiltonian\n",
    "    for i in range(n_qubits):\n",
    "        qc.rx(-2*(-h*delta), i)\n",
    "    for i in range(n_qubits):\n",
    "        for j in range(i):\n",
    "            qc.rzz(-2*(-J*delta), i, j)\n",
    "    qc.measure(range(n_qubits), range(n_qubits))\n",
    "    tcirc = transpile(qc, simulator)\n",
    "    result = simulator.run(tcirc).result()\n",
    "    return result.time_taken\n",
    "\n",
    "nqubits_state_vec_list = [i for i in range(10,25,2)]\n",
    "nqubits_mps_list = [i for i in range(10,61,5)]\n",
    "statevec_exec_time = [simulating_ising_model(n_qubits, statevec_simulator) for n_qubits in nqubits_state_vec_list ]\n",
    "mps_exec_time = [simulating_ising_model(n_qubits, mps_simulator) for n_qubits in nqubits_mps_list]"
   ]
  },
  {
   "cell_type": "code",
   "execution_count": 30,
   "metadata": {},
   "outputs": [
    {
     "data": {
      "image/png": "[encoded data removed]",
      "text/plain": [
       "<Figure size 640x480 with 1 Axes>"
      ]
     },
     "metadata": {},
     "output_type": "display_data"
    }
   ],
   "source": [
    "plt.scatter(nqubits_state_vec_list, statevec_exec_time, label=\"state_vec\")\n",
    "plt.scatter(nqubits_mps_list, mps_exec_time, label=\"mps\")\n",
    "plt.xlabel(\"n_qubits\", fontsize=12)\n",
    "plt.xticks(np.linspace(10,60,11),minor=True)\n",
    "plt.ylabel(\"sec\", fontsize=12)\n",
    "#plt.ylim(0,1.5)\n",
    "plt.legend(bbox_to_anchor=(1.05, 1), loc='upper left', borderaxespad=0)\n",
    "plt.show()"
   ]
  },
  {
   "cell_type": "markdown",
   "metadata": {},
   "source": [
    "さきほどの結果と同様に、MPSシミュレーターを使用すると、Statevectorシミュレータよりも大きなシステムをシミュレートできます。"
   ]
  }
 ],
 "metadata": {
  "kernelspec": {
   "display_name": "Python 3 (ipykernel)",
   "language": "python",
   "name": "python3"
  },
  "language_info": {
   "codemirror_mode": {
    "name": "ipython",
    "version": 3
   },
   "file_extension": ".py",
   "mimetype": "text/x-python",
   "name": "python",
   "nbconvert_exporter": "python",
   "pygments_lexer": "ipython3",
   "version": "3.12.3"
  }
 },
 "nbformat": 4,
 "nbformat_minor": 4
}
