{
 "cells": [
  {
   "cell_type": "code",
   "execution_count": null,
   "metadata": {
    "vscode": {
     "languageId": "plaintext"
    }
   },
   "outputs": [],
   "source": []
  },
  {
   "cell_type": "markdown",
   "metadata": {},
   "source": [
    "# 新版 Qiskitテキストブック 日本語版 (Qiskitコース)\n",
    "\n",
    "0. 量子コンピューター入門</br>\n",
    "0.1 [なぜ量子コンピューティングなのか？](https://github.com/Qiskit/textbook/blob/main/translations/ja/intro/why-quantum-computing.ipynb)</br>\n",
    "0.2 [計算の原子](https://github.com/Qiskit/textbook/blob/main/translations/ja/intro/atoms-of-computation.ipynb)</br>\n",
    "0.3 [量子とは何か？](https://github.com/Qiskit/textbook/blob/main/translations/ja/intro/what-is-quantum.ipynb)</br>\n",
    "0.4 [量子コンピューターの記述](https://github.com/Qiskit/textbook/blob/main/translations/ja/intro/describing-quantum-computers.ipynb)</br>\n",
    "0.5 [エンタングル状態](https://github.com/Qiskit/textbook/blob/main/translations/ja/intro/entangled-states.ipynb)</br>\n",
    "0.6 [エンタングルメントの可視化](https://github.com/Qiskit/textbook/blob/main/translations/ja/intro/visualizing-entanglement.ipynb)</br>\n",
    "0.7 [グローバー探索アルゴリズム](https://github.com/Qiskit/textbook/blob/main/translations/ja/intro/grover-intro.ipynb)</br>\n",
    "0.8 [プロジェクト](https://github.com/Qiskit/textbook/blob/main/translations/ja/intro/project.ipynb)</br>\n"
   ]
  },
  {
   "cell_type": "markdown",
   "metadata": {},
   "source": [
    "1. 量子の情報の基礎</br>\n",
    "1.1 [単一システム](https://github.com/Qiskit/textbook/blob/main/translations/ja/basics/single-systems.ipynb)</br>\n",
    "1.2 [複数システム](https://github.com/Qiskit/textbook/blob/main/translations/ja/basics/multiple-systems.ipynb)</br>\n",
    "1.3 [量子回路](https://github.com/Qiskit/textbook/blob/main/translations/ja/basics/quantum-circuits.ipynb)</br>\n",
    "1.4 [エンタングルメントの動作](https://github.com/Qiskit/textbook/blob/main/translations/ja/basics/entanglement-in-action.ipynb)</br>\n",
    "\n"
   ]
  },
  {
   "cell_type": "markdown",
   "metadata": {},
   "source": [
    "2. 量子アルゴリズムの基礎(未翻訳)<br>\n",
    "2.1 [量子クエリーアルゴリズム (未翻訳)](https://github.com/Qiskit/textbook/blob/main/notebooks/algorithms/01.query-algorithms/quantum-query-algorithms.ipynb)</br>\n",
    "2.2 [アルゴリズムの基礎 (未翻訳)](https://github.com/Qiskit/textbook/blob/main/notebooks/algorithms/02.algorithmic-foundations/algorithmic-foundations.ipynb)</br>\n",
    "2.3 [位相推定と因数分解 (未翻訳)](https://github.com/Qiskit/textbook/blob/main/notebooks/algorithms/03.phase-estimation/phase-estimation-and-factoring.ipynb)</br>\n",
    "2.4 [グローバーのアルゴリズム (未翻訳)](https://learning.quantum-computing.ibm.com/course/fundamentals-of-quantum-algorithms/grovers-algorithm)"
   ]
  },
  {
   "cell_type": "markdown",
   "metadata": {},
   "source": [
    "3. 変分アルゴリズムデザイン<br>\n",
    "3.1 [変分アルゴリズム](https://github.com/Qiskit/textbook/blob/main/translations/ja/algorithm-design/variational/variational.ipynb)</br>\n",
    "3.2 [参照状態](https://github.com/Qiskit/textbook/blob/main/translations/ja/algorithm-design/reference/reference.ipynb)</br>\n",
    "3.3 [Ansatzと変分フォーム](https://github.com/Qiskit/textbook/blob/main/translations/ja/algorithm-design/ansatz/ansatz.ipynb)</br>\n",
    "3.4 [コスト関数](https://github.com/Qiskit/textbook/blob/main/translations/ja/algorithm-design/cost_function/cost_function.ipynb)</br>\n",
    "3.5 [最適化ループ](https://github.com/Qiskit/textbook/blob/main/translations/ja/algorithm-design/optimization/optimization.ipynb)</br>\n",
    "3.6 [インスタンスと拡張機能 (翻訳中)](https://learning.quantum-computing.ibm.com/course/variational-algorithm-design/instances-and-extensions)</br>\n",
    "3.7 [例とアプリケーション](https://github.com/Qiskit/textbook/blob/main/translations/ja/algorithm-design/applications/applications.ipynb)</br>\n",
    "3.8 [バッジの取得](https://github.com/Qiskit/textbook/blob/main/translations/ja/algorithm-design/badge/badge.ipynb)</br>"
   ]
  },
  {
   "cell_type": "markdown",
   "metadata": {},
   "source": [
    "4. 量子機械学習<br>\n",
    "4.1 [はじめに](https://github.com/Qiskit/textbook/blob/main/translations/ja/quantum-machine-learning/introduction.ipynb)</br>\n",
    "4.2 [パラメーター化された量子回路](https://github.com/Qiskit/textbook/blob/main/translations/ja/quantum-machine-learning/pqc.ipynb)</br>\n",
    "4.3 [データの符号化](https://github.com/Qiskit/textbook/blob/main/translations/ja/quantum-machine-learning/encoding.ipynb)</br>\n",
    "4.4 [パラメータ化された量子回路の訓練](https://github.com/Qiskit/textbook/blob/main/translations/ja/quantum-machine-learning/training.ipynb)</br>\n",
    "4.5 [教師あり学習](https://github.com/Qiskit/textbook/blob/main/translations/ja/quantum-machine-learning/supervised.ipynb)</br>\n",
    "4.6 [変分分類](https://github.com/Qiskit/textbook/blob/main/translations/ja/quantum-machine-learning/vqc.ipynb)</br>\n",
    "4.7 [量子特徴量マップとカーネル](https://github.com/Qiskit/textbook/blob/main/translations/ja/quantum-machine-learning/kernel.ipynb)</br>\n",
    "4.8 [教師なし学習](https://github.com/Qiskit/textbook/blob/main/translations/ja/quantum-machine-learning/unsupervised.ipynb)</br>\n",
    "4.9 [量子敵対的生成ネットワーク](https://github.com/Qiskit/textbook/blob/main/translations/ja/quantum-machine-learning/qgan.ipynb)</br>\n",
    "4.10 [プロジェクト](https://github.com/Qiskit/textbook/blob/main/translations/ja/quantum-machine-learning/project.ipynb)</br>"
   ]
  }
 ],
 "metadata": {
  "kernelspec": {
   "display_name": "Python 3",
   "language": "python",
   "name": "python3"
  },
  "language_info": {
   "codemirror_mode": {
    "name": "ipython",
    "version": 3
   },
   "file_extension": ".py",
   "mimetype": "text/x-python",
   "name": "python",
   "nbconvert_exporter": "python",
   "pygments_lexer": "ipython3",
   "version": "3.8.0"
  },
  "widgets": {
   "application/vnd.jupyter.widget-state+json": {
    "state": {},
    "version_major": 2,
    "version_minor": 0
   }
  }
 },
 "nbformat": 4,
 "nbformat_minor": 4
}
