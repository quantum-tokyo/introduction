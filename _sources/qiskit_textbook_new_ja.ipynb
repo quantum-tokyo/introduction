{
 "cells": [
  {
   "cell_type": "code",
   "execution_count": null,
   "metadata": {
    "vscode": {
     "languageId": "plaintext"
    }
   },
   "outputs": [],
   "source": []
  },
  {
   "cell_type": "markdown",
   "metadata": {},
   "source": [
    "# 新版 Qiskitテキストブック 日本語版 (Qiskitコース)\n",
    "Archiveされているため、コードはQiskitの最新バージョンではないためご注意ください。最新のQiskitドキュメントは[こちら](https://docs.quantum.ibm.com/)を、最新の学習コンテンツは[IBM Quantum Learning](https://learning.quantum.ibm.com/)をご確認ください。\n",
    "\n",
    "0. 量子コンピューター入門</br>\n",
    "0.1 [なぜ量子コンピューティングなのか？](https://github.com/Qiskit/textbook/blob/main/translations/ja/intro/why-quantum-computing.ipynb)</br>\n",
    "0.2 [計算の原子](https://github.com/Qiskit/textbook/blob/main/translations/ja/intro/atoms-of-computation.ipynb)</br>\n",
    "0.3 [量子とは何か？](https://github.com/Qiskit/textbook/blob/main/translations/ja/intro/what-is-quantum.ipynb)</br>\n",
    "0.4 [量子コンピューターの記述](https://github.com/Qiskit/textbook/blob/main/translations/ja/intro/describing-quantum-computers.ipynb)</br>\n",
    "0.5 [エンタングル状態](https://github.com/Qiskit/textbook/blob/main/translations/ja/intro/entangled-states.ipynb)</br>\n",
    "0.6 [エンタングルメントの可視化](https://github.com/Qiskit/textbook/blob/main/translations/ja/intro/visualizing-entanglement.ipynb)</br>\n",
    "0.7 [グローバー探索アルゴリズム](https://github.com/Qiskit/textbook/blob/main/translations/ja/intro/grover-intro.ipynb)</br>\n",
    "0.8 [プロジェクト](https://github.com/Qiskit/textbook/blob/main/translations/ja/intro/project.ipynb)</br>\n"
   ]
  },
  {
   "cell_type": "markdown",
   "metadata": {},
   "source": [
    "1. 量子の情報の基礎</br>\n",
    "1.1 [単一システム](https://github.com/Qiskit/textbook/blob/main/translations/ja/basics/single-systems.ipynb)</br>\n",
    "1.2 [複数システム](https://github.com/Qiskit/textbook/blob/main/translations/ja/basics/multiple-systems.ipynb)</br>\n",
    "1.3 [量子回路](https://github.com/Qiskit/textbook/blob/main/translations/ja/basics/quantum-circuits.ipynb)</br>\n",
    "1.4 [エンタングルメントの動作](https://github.com/Qiskit/textbook/blob/main/translations/ja/basics/entanglement-in-action.ipynb)</br>\n",
    "参考：[最新コードの英語版](https://learning.quantum.ibm.com/course/basics-of-quantum-information/single-systems)\n",
    "\n"
   ]
  },
  {
   "cell_type": "markdown",
   "metadata": {},
   "source": [
    "2. 変分アルゴリズムデザイン<br>\n",
    "2.1 [変分アルゴリズム](https://github.com/Qiskit/textbook/blob/main/translations/ja/algorithm-design/variational/variational.ipynb)</br>\n",
    "2.2 [参照状態](https://github.com/Qiskit/textbook/blob/main/translations/ja/algorithm-design/reference/reference.ipynb)</br>\n",
    "2.3 [Ansatzと変分フォーム](https://github.com/Qiskit/textbook/blob/main/translations/ja/algorithm-design/ansatz/ansatz.ipynb)</br>\n",
    "2.4 [コスト関数](https://github.com/Qiskit/textbook/blob/main/translations/ja/algorithm-design/cost_function/cost_function.ipynb)</br>\n",
    "2.5 [最適化ループ](https://github.com/Qiskit/textbook/blob/main/translations/ja/algorithm-design/optimization/optimization.ipynb)</br>\n",
    "2.6 [インスタンスと拡張機能 (翻訳中)](https://learning.quantum-computing.ibm.com/course/variational-algorithm-design/instances-and-extensions)</br>\n",
    "2.7 [例とアプリケーション](https://github.com/Qiskit/textbook/blob/main/translations/ja/algorithm-design/applications/applications.ipynb)</br>\n",
    "2.8 [バッジの取得](https://github.com/Qiskit/textbook/blob/main/translations/ja/algorithm-design/badge/badge.ipynb)</br>\n",
    "参考：[最新コードの英語版](https://learning.quantum.ibm.com/course/variational-algorithm-design/variational-algorithms)"
   ]
  },
  {
   "cell_type": "markdown",
   "metadata": {},
   "source": [
    "3. 量子機械学習<br>\n",
    "3.1 [はじめに](https://github.com/Qiskit/textbook/blob/main/translations/ja/quantum-machine-learning/introduction.ipynb)</br>\n",
    "3.2 [パラメーター化された量子回路](https://github.com/Qiskit/textbook/blob/main/translations/ja/quantum-machine-learning/pqc.ipynb)</br>\n",
    "3.3 [データの符号化](https://github.com/Qiskit/textbook/blob/main/translations/ja/quantum-machine-learning/encoding.ipynb)</br>\n",
    "3.4 [パラメータ化された量子回路の訓練](https://github.com/Qiskit/textbook/blob/main/translations/ja/quantum-machine-learning/training.ipynb)</br>\n",
    "3.5 [教師あり学習](https://github.com/Qiskit/textbook/blob/main/translations/ja/quantum-machine-learning/supervised.ipynb)</br>\n",
    "3.6 [変分分類](https://github.com/Qiskit/textbook/blob/main/translations/ja/quantum-machine-learning/vqc.ipynb)</br>\n",
    "3.7 [量子特徴量マップとカーネル](https://github.com/Qiskit/textbook/blob/main/translations/ja/quantum-machine-learning/kernel.ipynb)</br>\n",
    "3.8 [教師なし学習](https://github.com/Qiskit/textbook/blob/main/translations/ja/quantum-machine-learning/unsupervised.ipynb)</br>\n",
    "3.9 [量子敵対的生成ネットワーク](https://github.com/Qiskit/textbook/blob/main/translations/ja/quantum-machine-learning/qgan.ipynb)</br>\n",
    "3.10 [プロジェクト](https://github.com/Qiskit/textbook/blob/main/translations/ja/quantum-machine-learning/project.ipynb)</br>"
   ]
  }
 ],
 "metadata": {
  "kernelspec": {
   "display_name": "Python 3",
   "language": "python",
   "name": "python3"
  },
  "language_info": {
   "codemirror_mode": {
    "name": "ipython",
    "version": 3
   },
   "file_extension": ".py",
   "mimetype": "text/x-python",
   "name": "python",
   "nbconvert_exporter": "python",
   "pygments_lexer": "ipython3",
   "version": "3.8.0"
  },
  "widgets": {
   "application/vnd.jupyter.widget-state+json": {
    "state": {},
    "version_major": 2,
    "version_minor": 0
   }
  }
 },
 "nbformat": 4,
 "nbformat_minor": 4
}
