{
 "cells": [
  {
   "cell_type": "markdown",
   "metadata": {},
   "source": [
    "# 新版 Qiskitテキストブック 日本語版 (Qiskitコース)\n",
    "\n",
    "0. 量子コンピューター入門</br>\n",
    "0.1 [なぜ量子コンピューティングなのか？](https://ja.learn.qiskit.org/course/introduction/why-quantum-computing)</br>\n",
    "0.2 [計算の原子](https://ja.learn.qiskit.org/course/introduction/the-atoms-of-computation)</br>\n",
    "0.3 [量子とは何か？](https://ja.learn.qiskit.org/course/introduction/what-is-quantum)</br>\n",
    "0.4 [量子コンピューターの記述](https://ja.learn.qiskit.org/course/introduction/describing-quantum-computers)</br>\n",
    "0.5 [エンタングル状態](https://ja.learn.qiskit.org/course/introduction/entangled-states)</br>\n",
    "0.6 [エンタングルメントの可視化](https://ja.learn.qiskit.org/course/introduction/visualizing-entanglement)</br>\n",
    "0.7 [グローバー探索アルゴリズム](https://ja.learn.qiskit.org/course/introduction/grovers-search-algorithm)</br>\n",
    "0.8 [プロジェクト](https://ja.learn.qiskit.org/course/introduction/project)</br>\n"
   ]
  },
  {
   "cell_type": "markdown",
   "metadata": {},
   "source": [
    "1. 量子の情報の基礎</br>\n",
    "1.1 [単一システム](https://ja.learn.qiskit.org/course/basics/single-systems)</br>\n",
    "&emsp;1.1.1 [古典情報](https://ja.learn.qiskit.org/course/basics/single-systems#single-systems-classical)</br>\n",
    "&emsp;1.1.2 [量子情報](https://ja.learn.qiskit.org/course/basics/single-systems#single-systems-quantum)</br>\n",
    "&emsp;1.1.3 [コード例 ](https://ja.learn.qiskit.org/course/basics/single-systems#single-14-0)</br>\n",
    "1.2 [複数システム](https://ja.learn.qiskit.org/course/basics/multiple-systems)</br>\n",
    "1.3 [量子回路](https://ja.learn.qiskit.org/course/basics/quantum-circuits)</br>\n",
    "1.4 [エンタングルメントの動作](https://ja.learn.qiskit.org/course/basics/entanglement-in-action)</br>\n",
    "\n"
   ]
  },
  {
   "cell_type": "markdown",
   "metadata": {},
   "source": [
    "2. 量子アルゴリズムの基礎(未翻訳)<br>\n",
    "2.1 [量子クエリーアルゴリズム(未翻訳)](https://learn.qiskit.org/course/algorithms/query-algorithms)</br>\n",
    "2.2 [アルゴリズムの基礎(未翻訳)](https://learn.qiskit.org/course/algorithms/algorithmic-foundations)</br>\n",
    "2.3 [位相推定と因数分解(未翻訳)](https://learn.qiskit.org/course/algorithms/phase-estimation)</br>"
   ]
  },
  {
   "cell_type": "markdown",
   "metadata": {},
   "source": [
    "3. 変分アルゴリズムデザイン<br>\n",
    "3.1 [変分アルゴリズム](https://github.com/Qiskit/platypus/blob/main/translations/ja/algorithm-design/variational/variational.ipynb)</br>\n",
    "3.2 [参照状態](https://github.com/Qiskit/platypus/blob/main/translations/ja/algorithm-design/reference/reference.ipynb)</br>\n",
    "3.3 [Ansatzと変分フォーム](https://github.com/kifumi/platypus/blob/ja_algorithm-design/translations/ja/algorithm-design/ansatz/ansatz.ipynb)</br>\n",
    "3.4 [コスト関数](https://github.com/kifumi/platypus/blob/ja_algorithm-design/translations/ja/algorithm-design/cost_function/cost_function.ipynb)</br>\n",
    "3.5 [最適化ループ](https://github.com/Qiskit/platypus/blob/main/translations/ja/algorithm-design/optimization/optimization.ipynb)</br>\n",
    "3.6 [インスタンスと拡張機能(翻訳中)]()</br>\n",
    "3.7 [例とアプリケーション](https://github.com/kifumi/platypus/blob/ja_algorithm-design/translations/ja/algorithm-design/applications/applications.ipynb)</br>\n",
    "3.8 [バッジの取得](https://github.com/Qiskit/platypus/blob/main/translations/ja/algorithm-design/badge/badge.ipynb)</br>"
   ]
  },
  {
   "cell_type": "markdown",
   "metadata": {},
   "source": [
    "4. 量子機械学習<br>\n",
    "4.1 [はじめに](https://ja.learn.qiskit.org/course/machine-learning/introduction)</br>\n",
    "4.2 [パラメーター化された量子回路](https://ja.learn.qiskit.org/course/machine-learning/parameterized-quantum-circuits)</br>\n",
    "4.3 [データの符号化](https://ja.learn.qiskit.org/course/machine-learning/data-encoding)</br>\n",
    "4.4 [パラメータ化された量子回路の訓練](https://ja.learn.qiskit.org/course/machine-learning/training-quantum-circuits)</br>\n",
    "4.5 [教師あり学習](https://ja.learn.qiskit.org/course/machine-learning/supervised-learning)</br>\n",
    "4.6 [変分分類](https://ja.learn.qiskit.org/course/machine-learning/variational-classification)</br>\n",
    "4.7 [量子特徴量マップとカーネル](https://ja.learn.qiskit.org/course/machine-learning/quantum-feature-maps-kernels)</br>\n",
    "4.8 [教師なし学習](https://ja.learn.qiskit.org/course/machine-learning/unsupervised-learning)</br>\n",
    "4.9 [量子敵対的生成ネットワーク](https://ja.learn.qiskit.org/course/machine-learning/quantum-generative-adversarial-networks)</br>\n",
    "4.10 [プロジェクト](https://ja.learn.qiskit.org/course/machine-learning/project)</br>"
   ]
  }
 ],
 "metadata": {
  "kernelspec": {
   "display_name": "Python 3",
   "language": "python",
   "name": "python3"
  },
  "language_info": {
   "codemirror_mode": {
    "name": "ipython",
    "version": 3
   },
   "file_extension": ".py",
   "mimetype": "text/x-python",
   "name": "python",
   "nbconvert_exporter": "python",
   "pygments_lexer": "ipython3",
   "version": "3.8.0"
  },
  "widgets": {
   "application/vnd.jupyter.widget-state+json": {
    "state": {},
    "version_major": 2,
    "version_minor": 0
   }
  }
 },
 "nbformat": 4,
 "nbformat_minor": 4
}
