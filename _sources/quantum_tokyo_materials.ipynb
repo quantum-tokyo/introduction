{
 "cells": [
  {
   "cell_type": "markdown",
   "metadata": {},
   "source": [
    "# Quantum Tokyo 過去イベント資料\n",
    "\n",
    "## Qiskit テキストブック 勉強会\n",
    "\n",
    "- 旧版 Qiskit テキストブック [勉強会資料](https://github.com/quantum-tokyo/introduction/tree/main/qiskit_textbook)・[録画](https://youtube.com/playlist?list=PLA-UlvpIBvpvrxo_39QEiElWuvyw-MEjZ&si=gdGEJMxzqOhgkx2Z)\n",
    "- 新版 Qiskit テキストブック 勉強会資料 [量子機械学習編](https://github.com/quantum-tokyo/introduction/tree/main/qiskit_textbook/New_textbook/quantum-machine-learning)・[録画](https://youtube.com/playlist?list=PLA-UlvpIBvpvgtSXXxVXjJafGLwEpBESL&si=DzXTnMoQKfYZ1_eY)\n",
    "- 新版 Qiskit テキストブック 勉強会資料 [量子情報の基礎編](https://github.com/quantum-tokyo/introduction/tree/main/qiskit_textbook/New_textbook/basics)・[録画](https://youtube.com/playlist?list=PLA-UlvpIBvpvgtSXXxVXjJafGLwEpBESL&si=DzXTnMoQKfYZ1_eY)\n",
    "\n",
    "## Qiskit ドキュメント チュートリアル 勉強会\n",
    "\n",
    "- [勉強会資料](https://github.com/quantum-tokyo/introduction/tree/main/qiskit_tutorials)・[録画](https://youtube.com/playlist?list=PLA-UlvpIBvpuvOm5qRb2yN_ndWywsAEQq&si=2RRVo-zGpSdMsq7a)\n",
    "\n",
    "\n",
    "## ハンズオン シリーズ\n",
    "\n",
    "- [ハンズオン資料](https://github.com/quantum-tokyo/qiskit-handson)・[録画](https://youtube.com/playlist?list=PLA-UlvpIBvpvy2tnVtaVjhCKPgcyV6CGT&si=G0OAqjjeI9xy3wa1)\n",
    "\n",
    "## 特別講演シリーズ\n",
    "\n",
    "- [講演資料](https://github.com/quantum-tokyo/introduction/tree/main/qiskit_lecture)・[録画](https://youtube.com/playlist?list=PLA-UlvpIBvpuGftoU-wml2qzCMohRVeGU&si=ehHzojV_en0msuKy)\n",
    "\n"
   ]
  },
  {
   "cell_type": "markdown",
   "metadata": {},
   "source": []
  }
 ],
 "metadata": {
  "kernelspec": {
   "display_name": "Python 3",
   "language": "python",
   "name": "python3"
  },
  "language_info": {
   "codemirror_mode": {
    "name": "ipython",
    "version": 3
   },
   "file_extension": ".py",
   "mimetype": "text/x-python",
   "name": "python",
   "nbconvert_exporter": "python",
   "pygments_lexer": "ipython3",
   "version": "3.8.0"
  },
  "widgets": {
   "application/vnd.jupyter.widget-state+json": {
    "state": {},
    "version_major": 2,
    "version_minor": 0
   }
  }
 },
 "nbformat": 4,
 "nbformat_minor": 4
}
