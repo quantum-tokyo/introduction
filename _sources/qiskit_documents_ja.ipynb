{
 "cells": [
  {
   "cell_type": "markdown",
   "metadata": {},
   "source": [
    "# (旧) Qiskitドキュメント・チュートリアル 日本語版リンク集\n",
    "\n",
    "旧版Qiskitドキュメント・チュートリアルの和訳集です。最新の情報は[こちら](https://docs.quantum.ibm.com/)をご確認ください。</br>\n",
    "- [ドキュメントのホーム](https://qiskit-org-web-resources.s3.us.cloud-object-storage.appdomain.cloud/documentation/locale/ja_JP/index.html)</br>\n",
    "- [量子コンピューティングの概要](https://qiskit-org-web-resources.s3.us.cloud-object-storage.appdomain.cloud/documentation/locale/ja_JP/qc_intro.html)</br>\n",
    "- [はじめに](https://qiskit-org-web-resources.s3.us.cloud-object-storage.appdomain.cloud/documentation/locale/ja_JP/getting_started.html)</br>\n",
    "- [Qiskit 入門](https://qiskit-org-web-resources.s3.us.cloud-object-storage.appdomain.cloud/documentation/locale/ja_JP/intro_tutorial1.html)</br>\n",
    "- [チュートリアル](https://qiskit-org-web-resources.s3.us.cloud-object-storage.appdomain.cloud/documentation/locale/ja_JP/tutorials.html)</br>\n",
    "\n",
    "- [Qiskit Runtime](https://qiskit.org/ecosystem/ibm-runtime/locale/ja_JP/index.html)<br>\n",
    "- [Qiskit Finance](https://qiskit.org/ecosystem/finance/locale/ja_JP/index.html) (量子金融)</br>\n",
    "- [Qiskit Nature](https://qiskit.org/ecosystem/nature/locale/ja_JP/index.html) (量子化学)</br>\n",
    "- [Qiskit Optimization](https://qiskit.org/ecosystem/optimization/locale/ja_JP/index.html) (量子最適化)</br>\n",
    "- [Qiskit Machine Learning](https://qiskit.org/ecosystem/machine-learning/locale/ja_JP/index.html) (量子機械学習)"
   ]
  },
  {
   "cell_type": "markdown",
   "metadata": {},
   "source": []
  }
 ],
 "metadata": {
  "kernelspec": {
   "display_name": "Python 3",
   "language": "python",
   "name": "python3"
  },
  "language_info": {
   "codemirror_mode": {
    "name": "ipython",
    "version": 3
   },
   "file_extension": ".py",
   "mimetype": "text/x-python",
   "name": "python",
   "nbconvert_exporter": "python",
   "pygments_lexer": "ipython3",
   "version": "3.8.0"
  },
  "widgets": {
   "application/vnd.jupyter.widget-state+json": {
    "state": {},
    "version_major": 2,
    "version_minor": 0
   }
  }
 },
 "nbformat": 4,
 "nbformat_minor": 4
}
