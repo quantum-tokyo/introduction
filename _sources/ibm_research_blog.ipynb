{
 "cells": [
  {
   "cell_type": "markdown",
   "metadata": {},
   "source": [
    "# IBM Research Blog 日本語版\n",
    "\n",
    "## [IBM Research Blog 日本語版](https://www.ibm.com/blogs/systems/jp-ja/category/ibm-research/quantum/)\n",
    "[IBM Research Blog](https://research.ibm.com/blog?tag=quantum-computing) から量子コンピューターに関連したブログを翻訳しています。\n",
    "\n",
    "\n",
    "- [Qiskit Functions Catalogの発表](https://www.ibm.com/blogs/systems/jp-ja/qiskit-functions-catalog/) </br>\n",
    "- [量子SDKのパフォーマンス試験で実証された Qiskitの優位性](https://www.ibm.com/blogs/systems/jp-ja/qiskit-performance/) </br>\n",
    "- [クラウドで Qiskit Functionsの基盤を築く Qiskit Serverless](https://www.ibm.com/blogs/systems/jp-ja/qiskit-serverless/) </br>\n",
    "- [Qiskit SDK v1.2がリリースされました！](https://ibm.com/blogs/systems/jp-ja/qiskit-1-2-release-summary/) </br>\n",
    "- [未来のコンピューティングを具現化する IBM Researchのラボ](https://www.ibm.com/blogs/systems/jp-ja/think-lab-ibm-research-yorktown/) </br>\n",
    "- [宇宙の極限状態をシミュレーションする実用規模の量子計算](https://www.ibm.com/blogs/systems/jp-ja/hadron-dynamics-simulations/) </br>\n",
    "- [量子ユーティリティーとは？](https://www.ibm.com/blogs/systems/jp-ja/what-is-quantum-utlity/) </br>\n",
    "- [Qiskit SDKの設計理念](https://www.ibm.com/blogs/systems/jp-ja/defining-and-citing-the-qiskit-sdk/) </br>\n",
    "- [Qiskit向けの新しい推奨ノートブック環境](https://www.ibm.com/blogs/systems/jp-ja/qiskit-notebook-environments/) </br>\n",
    "- [ユーティリティー・スケールの計算タスクを効率化する実行モード](https://www.ibm.com/blogs/systems/jp-ja/execution-modes/) </br>\n",
    "- [Qiskit SDK v1.1.0がリリースされました！](https://www.ibm.com/blogs/systems/jp-ja/qiskit-1-1-release-summary/) </br>\n",
    "- [AIで強化したトランスパイラー・パスで量子回路を最適化](https://www.ibm.com/blogs/systems/jp-ja/ai-transpiler-passes/) </br>\n",
    "- [近い将来のユースケースを開拓する量子ワーキング・グループ](https://www.ibm.com/blogs/systems/jp-ja/quantum-working-groups/) </br>\n",
    "- [グラフ状態スタビライザーに対するノイズの影響の特性評価に有用なQiskitツール](https://www.ibm.com/blogs/systems/jp-ja/graph-state-stabilizers/) </br>\n",
    "- [エラー訂正機能を持つ量子コンピューターでの演算](https://www.ibm.com/blogs/systems/jp-ja/qldpc-codes/) </br>\n",
    "- [ISA回路とは](https://www.ibm.com/blogs/systems/jp-ja/isa-circuits/) </br>\n",
    "- [Mthree Qiskit拡張による測定エラー緩和](https://www.ibm.com/blogs/systems/jp-ja/mthree-qiskit-extension/) </br>\n",
    "- [ウィグナーの友人とQiskit：観測者の観測がいかにして量子測定の問題を生むか](https://www.ibm.com/blogs/systems/jp-ja/wigners-friend-qiskit/) </br>\n",
    "- [IBMのランドマーク的エラー訂正論文がNature誌の表紙に掲載](https://www.ibm.com/blogs/systems/jp-ja/nature-qldpc-error-correction/) </br>\n",
    "- [量子ユーティリティー時代のハードウェア／ソフトウェアがここに](https://www.ibm.com/blogs/systems/jp-ja/quantum-roadmap-2033/) </br>"
   ]
  },
  {
   "cell_type": "markdown",
   "metadata": {},
   "source": []
  }
 ],
 "metadata": {
  "kernelspec": {
   "display_name": "Python 3 (ipykernel)",
   "language": "python",
   "name": "python3"
  },
  "language_info": {
   "codemirror_mode": {
    "name": "ipython",
    "version": 3
   },
   "file_extension": ".py",
   "mimetype": "text/x-python",
   "name": "python",
   "nbconvert_exporter": "python",
   "pygments_lexer": "ipython3",
   "version": "3.10.0"
  },
  "widgets": {
   "application/vnd.jupyter.widget-state+json": {
    "state": {},
    "version_major": 2,
    "version_minor": 0
   }
  }
 },
 "nbformat": 4,
 "nbformat_minor": 4
}
