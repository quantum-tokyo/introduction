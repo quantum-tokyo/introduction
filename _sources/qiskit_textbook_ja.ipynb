{
 "cells": [
  {
   "cell_type": "markdown",
   "metadata": {},
   "source": [
    "# Qiskitテキストブック 日本語版\n",
    "\n",
    "## Qiskit を使った量子計算の学習\n",
    "\n",
    "0. 前提条件</br>\n",
    "0.1 [Qiskitテキストブックで作業するための環境設定ガイド](https://ja.learn.qiskit.org/course/ch-prerequisites/environment-setup-guide-to-work-with-qiskit-textbook)</br>\n",
    "0.2 [Python 及び Jupyter notebook 入門](https://ja.learn.qiskit.org/course/ch-prerequisites/introduction-to-python-and-jupyter-notebooks)\n",
    "\n",
    "1. 量子状態と量子ビット</br>\n",
    "1.1 [はじめに](https://ja.learn.qiskit.org/course/ch-states/introduction) </br>\n",
    "1.2 [計算の原子](https://ja.learn.qiskit.org/course/ch-states/the-atoms-of-computation)</br>\n",
    "1.3 [量子ビット状態を表現する](https://ja.learn.qiskit.org/course/ch-states/representing-qubit-states)</br>\n",
    "1.4 [単一量子ビットゲート](https://ja.learn.qiskit.org/course/ch-states/single-qubit-gates)</br>\n",
    "1.5 [量子コンピューターの場合](https://ja.learn.qiskit.org/course/ch-states/the-case-for-quantum-computers)</br>\n",
    "\n",
    "2. 複数量子ビットともつれ状態<br>\n",
    "2.1 [はじめに](https://ja.learn.qiskit.org/course/ch-gates/introduction)<br>\n",
    "2.2 [複数量子ビットともつれ状態](https://ja.learn.qiskit.org/course/ch-gates/multiple-qubits-and-entangled-states)<br>\n",
    "2.3 [位相キックバック](https://ja.learn.qiskit.org/course/ch-gates/phase-kickback)<br>\n",
    "2.4 [基本的な回路の等価性](https://ja.learn.qiskit.org/course/ch-gates/basic-circuit-identities)<br>\n",
    "2.5 [普遍性の証明](https://ja.learn.qiskit.org/course/ch-gates/proving-universality)<br>\n",
    "2.6 [量子コンピューター上の古典計算](https://ja.learn.qiskit.org/course/ch-gates/classical-computation-on-a-quantum-computer)<br>\n",
    "\n",
    "3. 量子プロトコルと量子アルゴリズム<br>\n",
    "3.1 [量子回路](https://ja.learn.qiskit.org/course/ch-algorithms/quantum-circuits)<br>\n",
    "3.2 [ドイチ-ジョサのアルゴリズム](https://ja.learn.qiskit.org/course/ch-algorithms/deutsch-jozsa-algorithm)<br>\n",
    "3.3 [ベルンシュタイン・ヴァジラニ アルゴリズム](https://ja.learn.qiskit.org/course/ch-algorithms/bernstein-vazirani-algorithm)<br>\n",
    "3.4 [サイモンのアルゴリズム](https://ja.learn.qiskit.org/course/ch-algorithms/simons-algorithm)<br>\n",
    "3.5 [量子フーリエ変換](https://ja.learn.qiskit.org/course/ch-algorithms/quantum-fourier-transform)<br>\n",
    "3.6 [量子位相推定](https://ja.learn.qiskit.org/course/ch-algorithms/quantum-phase-estimation)<br>\n",
    "3.7 [ショアのアルゴリズム](https://ja.learn.qiskit.org/course/ch-algorithms/shors-algorithm)<br>\n",
    "3.8 [グローバーのアルゴリズム](https://ja.learn.qiskit.org/course/ch-algorithms/grovers-algorithm)<br>\n",
    "3.9 [量子数え上げ](https://ja.learn.qiskit.org/course/ch-algorithms/quantum-counting)<br>\n",
    "3.10 [量子ウォークによる探索アルゴリズム](https://ja.learn.qiskit.org/course/ch-algorithms/quantum-walk-search-algorithm)<br>\n",
    "3.11 [量子鍵配送](https://ja.learn.qiskit.org/course/ch-algorithms/quantum-key-distribution)<br>\n",
    "3.12 [超密度符号化](https://ja.learn.qiskit.org/course/ch-algorithms/superdense-coding)<br>\n",
    "3.13 [量子テレポーテーション](https://ja.learn.qiskit.org/course/ch-algorithms/quantum-teleportation)<br>\n",
    "\n",
    "4. 量子アプリケーションのアルゴリズム<br>\n",
    "4.1 [HHL を利用して線形方程式系を解きQiskit で実装する](https://ja.learn.qiskit.org/course/ch-applications/solving-linear-systems-of-equations-using-hhl-and-its-qiskit-implementation)<br>\n",
    "4.2 [VQEを利用した分子シミュレーション](https://ja.learn.qiskit.org/course/ch-applications/simulating-molecules-using-vqe)<br>\n",
    "4.3 [QAOA を利用して、組合せ最適化問題を解く](https://ja.learn.qiskit.org/course/ch-applications/solving-combinatorial-optimization-problems-using-qaoa)<br>\n",
    "4.4 [Groverのアルゴリズムを用いた充足可能性問題の解法](https://ja.learn.qiskit.org/course/ch-applications/solving-satisfiability-problems-using-grovers-algorithm)<br>\n",
    "4.5 [PyTorchとQiskitを用いた量子古典ハイブリッド・ニューラル・ネットワーク](https://ja.learn.qiskit.org/course/ch-applications/hybrid-quantum-classical-neural-networks-with-pytorch-and-qiskit)<br>\n",
    "4.6 [量子変分線型ソルバー（Valiational Quantum Linear Solver](https://ja.learn.qiskit.org/course/ch-applications/the-variational-quantum-linear-solver)<br>\n",
    "4.7 [量子画像の柔軟な表現（FRQI）](https://ja.learn.qiskit.org/course/ch-applications/flexible-representation-of-quantum-images-frqi)<br>\n",
    "4.8 [量子顔表情認識](https://ja.learn.qiskit.org/course/ch-applications/facial-expression-recognition)<br>\n",
    "\n",
    "\n",
    "5. 量子回路による量子ハードウェアの探求<br>\n",
    "5.1 [反復符号による量子エラー訂正の導入](https://ja.learn.qiskit.org/course/quantum-hardware/introduction-to-quantum-error-correction-via-the-repetition-code)<br>\n",
    "5.2 [測定エラーの軽減](https://ja.learn.qiskit.org/course/quantum-hardware/measurement-error-mitigation)<br>\n",
    "5.3 [ランダマイズド・ベンチマーキング](https://ja.learn.qiskit.org/course/quantum-hardware/randomized-benchmarking)<br>\n",
    "5.4 [量子ボリュームの測定](https://ja.learn.qiskit.org/course/quantum-hardware/measuring-quantum-volume)<br>\n",
    "5.5 [密度行列と混合状態](https://ja.learn.qiskit.org/course/quantum-hardware/density-matrix)<br>\n",
    "\n",
    "\n",
    "6. マイクロ波パルスによる量子ハードウェアの探求<br>\n",
    "6.1 [Qiskit Pulseで量子ビットを較正する](https://ja.learn.qiskit.org/course/quantum-hardware-pulses/calibrating-qubits-using-qiskit-pulse)<br>\n",
    "6.2 [Qiskit Pulseで高エネルギー状態へアクセスする](https://ja.learn.qiskit.org/course/quantum-hardware-pulses/accessing-higher-energy-states-with-qiskit-pulse)<br>\n",
    "6.3 [トランズモン物理入門](https://ja.learn.qiskit.org/course/quantum-hardware-pulses/introduction-to-transmon-physics)<br>\n",
    "6.4 [回路量子電磁力学](https://ja.learn.qiskit.org/course/quantum-hardware-pulses/circuit-quantum-electrodynamics)<br>\n",
    "6.5 [Qiskit Pulseを用いたJaynes-Cummingsハミルトニアンの探究](https://ja.learn.qiskit.org/course/quantum-hardware-pulses/exploring-the-jaynes-cummings-hamiltonian-with-qiskit-pulse)<br>\n",
    "\n",
    "7. 練習問題<br>\n",
    "7.1 [ラボ1 量子回路](https://ja.learn.qiskit.org/course/ch-labs/lab-1-quantum-circuits)<br>\n",
    "7.2 [ラボ2 単一量子ビットゲート](https://ja.learn.qiskit.org/course/ch-labs/lab-2-single-qubit-gates)<br>\n",
    "7.3 [ラボ3 量子測定](https://ja.learn.qiskit.org/course/ch-labs/lab-3-quantum-measurements)<br>\n",
    "7.4 [ラボ4 ベル回路とGHZ回路](https://ja.learn.qiskit.org/course/ch-labs/lab-4-bell-ghz-circuit)<br>\n",
    "7.5 [ラボ9 検索アルゴリズムとしての量子シミュレーション](https://ja.learn.qiskit.org/course/ch-labs/lab-9-quantum-simulation-as-a-search-algorithm)<br>"
   ]
  },
  {
   "cell_type": "markdown",
   "metadata": {},
   "source": []
  }
 ],
 "metadata": {
  "kernelspec": {
   "display_name": "Python 3",
   "language": "python",
   "name": "python3"
  },
  "language_info": {
   "codemirror_mode": {
    "name": "ipython",
    "version": 3
   },
   "file_extension": ".py",
   "mimetype": "text/x-python",
   "name": "python",
   "nbconvert_exporter": "python",
   "pygments_lexer": "ipython3",
   "version": "3.8.0"
  },
  "widgets": {
   "application/vnd.jupyter.widget-state+json": {
    "state": {},
    "version_major": 2,
    "version_minor": 0
   }
  }
 },
 "nbformat": 4,
 "nbformat_minor": 4
}
