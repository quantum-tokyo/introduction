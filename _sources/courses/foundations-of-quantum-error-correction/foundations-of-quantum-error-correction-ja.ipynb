{
 "cells": [
  {
   "cell_type": "markdown",
   "id": "ef9fd007-3587-4f81-aedf-409eaa2ec3ad",
   "metadata": {},
   "source": [
    "# 量子エラー訂正の基礎\n",
    "Foundations of quantum error correction\n",
    "\n",
    "- [量子エラーの訂正](correcting_quantum_errors_ja.ipynb)\n",
    "- [スタビライザー形式]()\n",
    "- [量子符号構築]()\n"
   ]
  }
 ],
 "metadata": {
  "kernelspec": {
   "display_name": "Python 3 (ipykernel)",
   "language": "python",
   "name": "python3"
  },
  "language_info": {
   "codemirror_mode": {
    "name": "ipython",
    "version": 3
   },
   "file_extension": ".py",
   "mimetype": "text/x-python",
   "name": "python",
   "nbconvert_exporter": "python",
   "pygments_lexer": "ipython3",
   "version": "3.12.3"
  }
 },
 "nbformat": 4,
 "nbformat_minor": 5
}
