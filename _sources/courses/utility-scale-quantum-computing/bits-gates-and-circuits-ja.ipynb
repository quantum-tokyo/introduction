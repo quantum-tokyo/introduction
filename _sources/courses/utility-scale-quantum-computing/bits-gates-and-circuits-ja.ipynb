{
 "cells": [
  {
   "cell_type": "markdown",
   "id": "4233533a-fcd2-4bd7-bcb8-8e0be95326e6",
   "metadata": {},
   "source": [
    "# 量子ビット、量子ゲート、量子回路\n",
    "\n",
    "<Admonition type=\"note\">\n",
    "  沼田 祈史(19 Apr 2024)\n",
    "\n",
    "  講義ノートのPDFは近日公開予定です。一部のコード スニペットは静的イメージであるため、非推奨になる可能性があることに注意してください。\n",
    "  \n",
    "  *Approximate QPU time to run this experiment is 5 seconds.*\n",
    "</Admonition>\n",
    "\n"
   ]
  },
  {
   "cell_type": "markdown",
   "id": "ec475aee-075f-4411-8dbe-8a427865714b",
   "metadata": {},
   "source": [
    "## 1.紹介\n",
    "\n",
    "ビット、ゲート、および回路は、量子コンピューティングの基本的な構成要素です。量子ビットと量子ゲートを用いた回路モデルによる量子計算を学び、重ね合わせ、測定、エンタングルメントの復習も行います。\n",
    "\n",
    "このレッスンでは、次のことを学びます。\n",
    "\n",
    "* 単一量子ビットゲート\n",
    "* ブロッホ球\n",
    "* 重ね合わせ\n",
    "* 測定\n",
    "* 2量子ビットゲートとエンタングルメント状態\n",
    "\n",
    "この講義の最後には、ユーティリティスケールの量子コンピューティングに不可欠な回路の深さについて学びます。\n",
    "\n"
   ]
  },
  {
   "cell_type": "markdown",
   "id": "ed761072-54aa-47af-a2e1-a5c40a0471d1",
   "metadata": {},
   "source": [
    "## 2. Computation as a diagram\n",
    "\n",
    "量子ビットを使用する場合もビットを使用する場合も、入力を必要な出力に変換するためにそれらを操作する必要があります。少数のビット用の非常に単純なプログラムでは、このプロセスを **回路図** と呼ばれる図で表すと便利です。    \n",
    "左下の図が古典回路の例、右下の図が量子回路の例です。\n",
    "どちらの場合も、左側に入力があり、出力が右側で、その間に演算が記号によって表されます。演算に用いられる記号は、主に歴史的な背景から「ゲート」と呼ばれます。\n",
    "\n",
    "![\"classical logic and quantum circuit\"](https://quantum.cloud.ibm.com/assets-docs-learning/_next/image?url=%2Flearning%2Fimages%2Fcourses%2Futility-scale-quantum-computing%2Fbits-gates-and-circuits%2Fclassical-vs-quantum.avif&w=3840&q=75)\n",
    "\n"
   ]
  },
  {
   "cell_type": "markdown",
   "id": "87f8d07a-1544-4acb-82fb-3a43f1a99f8c",
   "metadata": {},
   "source": [
    "## 3.  単一量子ビットゲート\n",
    "\n",
    "### 3.1 量子状態とブロッホ球\n",
    "\n",
    "量子ビットの状態は、$|0\\rangle$と$|1\\rangle$ の重ね合わせの状態で表します。任意の量子ビットは以下のように表します。\n",
    "\n",
    "$$\\psi =\\alpha|0\\rangle+ \\beta|1\\rangle$$ \n",
    "\n",
    "ここで $\\alpha$ と $\\beta$ は、 $|\\alpha|^2+|\\beta|^2=1$ を満たす複素数で、確率振幅と呼ばれます。\n",
    "\n",
    "$|0\\rangle$と$|1\\rangle$は、\n",
    "$|0\\rangle = \\begin{bmatrix}\n",
    "1 \\\\\n",
    "0\n",
    "\\end{bmatrix}$、\n",
    "$|1\\rangle = \\begin{bmatrix}\n",
    "0\\\\\n",
    "1\n",
    "\\end{bmatrix}$\n",
    "とかけるので、\n",
    "\n",
    "$$|\\psi\\rangle = \\alpha\\begin{bmatrix}\n",
    "1 \\\\\n",
    "0\n",
    "\\end{bmatrix}+ \\beta\\begin{bmatrix}0\\\\\n",
    "1\n",
    "\\end{bmatrix} = \\begin{bmatrix}\n",
    "\\alpha \\\\\n",
    "\\beta\n",
    "\\end{bmatrix}$$\n",
    "\n",
    "とも表すことができ、これから量子ビットの状態は、$|0\\rangle$と$|1\\rangle$を正規直交基底とする2次元の複素内積空間の単位ベクトルであることがわかります。その大きさは1に規格化されています。\n",
    "$$\\langle\\psi|\\psi\\rangle = \\begin{bmatrix}\n",
    "\\alpha^* & \\beta^*\n",
    "\\end{bmatrix}\n",
    "\\begin{bmatrix}\n",
    "\\alpha \\\\\n",
    "\\beta\n",
    "\\end{bmatrix} = 1$$\n",
    "\n",
    "$|\\psi\\rangle =\\begin{bmatrix}\n",
    "\\alpha \\\\\n",
    "\\beta\n",
    "\\end{bmatrix}$ は状態ベクトルとも呼びます。\n",
    "\n",
    "1量子ビットの状態は **ブロッホ球** を使うと理解しやすいです。このとき、$|\\psi\\rangle =\\cos\\frac{\\theta}{2}|0\\rangle+e^{i\\varphi}\\sin\\frac{\\theta}{2}|1\\rangle= \n",
    "\\left(\n",
    "\\begin{matrix}\n",
    "\\cos\\frac{\\theta}{2}\\\\\n",
    "e^{i\\varphi}\\sin\\frac{\\theta}{2}\n",
    "\\end{matrix}\n",
    "\\right)\n",
    "$ です。\n",
    "\n",
    "ここで、$\\theta$と$\\varphi$は、次の図のブロッホ球の角度です。\n",
    "\n",
    "![Bloch sphere](https://quantum.cloud.ibm.com/assets-docs-learning/_next/image?url=%2Flearning%2Fimages%2Fcourses%2Futility-scale-quantum-computing%2Fbits-gates-and-circuits%2Fbloch.avif&w=3840&q=75)\n",
    "\n"
   ]
  },
  {
   "cell_type": "markdown",
   "id": "86a3a654-3fb7-492c-bf4b-ecf23b4b71a6",
   "metadata": {},
   "source": [
    "量子演算について、Qiskitで基本的な計算方法を学びます。     \n",
    "コードセルは、セルを選択して「Shift」＋「Enter」で実行できます。まずライブラリーをインポートします。\n",
    "\n"
   ]
  },
  {
   "cell_type": "code",
   "execution_count": null,
   "id": "113bc3fe-3295-4524-9bf8-c1f36e51554b",
   "metadata": {},
   "outputs": [],
   "source": [
    "# Import the qiskit library\n",
    "from qiskit import QuantumCircuit\n",
    "from qiskit_aer import AerSimulator\n",
    "from qiskit.quantum_info import Statevector\n",
    "from qiskit.visualization import plot_bloch_multivector\n",
    "from qiskit_ibm_runtime import Sampler\n",
    "from qiskit.transpiler.preset_passmanagers import generate_preset_pass_manager\n",
    "from qiskit.visualization import plot_histogram"
   ]
  },
  {
   "cell_type": "markdown",
   "id": "dbb2272c-996f-46a9-b5b0-f62d60c4deb3",
   "metadata": {},
   "source": [
    "#### 空の回路\n",
    "1量子ビットの回路を作成し、描画します。\n"
   ]
  },
  {
   "cell_type": "code",
   "execution_count": 5,
   "id": "fdef9137-9e39-4b05-afa9-9091766053f6",
   "metadata": {},
   "outputs": [
    {
     "data": {
      "text/plain": [
       "<Image src=\"/learning/images/courses/utility-scale-quantum-computing/bits-gates-and-circuits/extracted-outputs/fdef9137-9e39-4b05-afa9-9091766053f6-0.avif\" alt=\"Output of the previous code cell\" />"
      ]
     },
     "execution_count": 5,
     "metadata": {},
     "output_type": "execute_result"
    }
   ],
   "source": [
    "# Create the single-qubit quantum circuit\n",
    "qc = QuantumCircuit(1)\n",
    "\n",
    "# Draw the circuit\n",
    "qc.draw(\"mpl\")"
   ]
  },
  {
   "cell_type": "markdown",
   "id": "50ffcbab-e427-4582-9864-92e1491544a1",
   "metadata": {},
   "source": [
    "#### Xゲート\n",
    "Xゲートはブロッホ球の$x$軸周りの$\\pi$回転です。\n",
    "$|0\\rangle$にXゲートを適用すると$|1\\rangle$、$|1\\rangle$にXゲートを適用すると$|0\\rangle$になるので、古典のNOTゲートのような操作が実現でき、ビット反転とも呼ばれます。\n",
    "\n",
    "$X = \\begin{pmatrix}\n",
    "0 & 1 \\\\\n",
    "1 & 0 \\\\\n",
    "\\end{pmatrix}$\n"
   ]
  },
  {
   "cell_type": "code",
   "execution_count": 4,
   "id": "b3468430-0cbc-44ab-bd21-901436662a4b",
   "metadata": {},
   "outputs": [
    {
     "data": {
      "text/plain": [
       "<Image src=\"/learning/images/courses/utility-scale-quantum-computing/bits-gates-and-circuits/extracted-outputs/b3468430-0cbc-44ab-bd21-901436662a4b-0.avif\" alt=\"Output of the previous code cell\" />"
      ]
     },
     "execution_count": 4,
     "metadata": {},
     "output_type": "execute_result"
    }
   ],
   "source": [
    "qc = QuantumCircuit(1)  # Prepare the single-qubit quantum circuit\n",
    "\n",
    "# Apply a X gate to qubit 0\n",
    "qc.x(0)\n",
    "\n",
    "# Draw the circuit\n",
    "qc.draw(\"mpl\")"
   ]
  },
  {
   "cell_type": "markdown",
   "id": "c944e04b-09b3-429b-82d8-12be6b94d86d",
   "metadata": {},
   "source": [
    " IBM Quantum®では、初期状態は$|0\\rangle$にセットされていますので、上記の量子回路は、行列ベクトル表示では\n",
    "\n",
    "$X|0\\rangle=  \\begin{pmatrix}\n",
    "0 & 1 \\\\\\\n",
    "1 & 0\n",
    "\\end{pmatrix} \n",
    "\\begin{pmatrix}\n",
    "1 \\\\\\\n",
    "0\n",
    "\\end{pmatrix} \n",
    " =\\begin{pmatrix}\n",
    "0 \\\\\\\n",
    "1\n",
    "\\end{pmatrix} = |1\\rangle$ \n",
    "\n",
    "となります。次にこの回路の出力ベクトルを状態ベクトルシミュレーターを使って実行してみます。\n"
   ]
  },
  {
   "cell_type": "code",
   "execution_count": 6,
   "id": "efb727e8-f51e-4903-aa0f-e4c099316815",
   "metadata": {},
   "outputs": [
    {
     "name": "stdout",
     "output_type": "stream",
     "text": [
      "Statevector([0.+0.j, 1.+0.j],\n",
      "            dims=(2,))\n"
     ]
    },
    {
     "data": {
      "text/plain": [
       "<Image src=\"/learning/images/courses/utility-scale-quantum-computing/bits-gates-and-circuits/extracted-outputs/efb727e8-f51e-4903-aa0f-e4c099316815-1.avif\" alt=\"Output of the previous code cell\" />"
      ]
     },
     "execution_count": 6,
     "metadata": {},
     "output_type": "execute_result"
    }
   ],
   "source": [
    "# See the statevector\n",
    "out_vector = Statevector(qc)\n",
    "print(out_vector)\n",
    "\n",
    "# Draw a Bloch sphere\n",
    "plot_bloch_multivector(out_vector)"
   ]
  },
  {
   "cell_type": "markdown",
   "id": "b4262b2d-10d8-42a8-b632-4d4872ccc3c3",
   "metadata": {},
   "source": [
    "縦ベクトルが横ベクトル表示で、複素数(虚部の添字は $j$)で表示されています。\n",
    "\n",
    "#### Hゲート\n",
    "\n",
    "Hadamardゲート(アダマールゲート)はブロッホ球の$x$軸と$z$軸の中間の軸周りの$\\pi$回転です。\n",
    "例えば$|0\\rangle$にHゲートを適用すると、$\\frac{|0\\rangle + |1\\rangle}{\\sqrt{2}}$のような重ね合わせ状態を作ることができます。\n",
    "\n",
    "$H = \\frac{1}{\\sqrt{2}}\\begin{pmatrix}\n",
    "1 & 1 \\\\\n",
    "1 & -1 \\\\\n",
    "\\end{pmatrix}$"
   ]
  },
  {
   "cell_type": "code",
   "execution_count": 7,
   "id": "574c35f0-26a9-423a-8d65-7140ba7398e3",
   "metadata": {},
   "outputs": [
    {
     "data": {
      "text/plain": [
       "<Image src=\"/learning/images/courses/utility-scale-quantum-computing/bits-gates-and-circuits/extracted-outputs/574c35f0-26a9-423a-8d65-7140ba7398e3-0.avif\" alt=\"Output of the previous code cell\" />"
      ]
     },
     "execution_count": 7,
     "metadata": {},
     "output_type": "execute_result"
    }
   ],
   "source": [
    "qc = QuantumCircuit(1)  # Create the single-qubit quantum circuit\n",
    "\n",
    "# Apply an Hadamard gate to qubit 0\n",
    "qc.h(0)\n",
    "\n",
    "# Draw the circuit\n",
    "qc.draw(output=\"mpl\")"
   ]
  },
  {
   "cell_type": "code",
   "execution_count": 8,
   "id": "7adf0e93-6db3-4aa8-800f-c91c8cc46001",
   "metadata": {},
   "outputs": [
    {
     "name": "stdout",
     "output_type": "stream",
     "text": [
      "Statevector([0.70710678+0.j, 0.70710678+0.j],\n",
      "            dims=(2,))\n"
     ]
    },
    {
     "data": {
      "text/plain": [
       "<Image src=\"/learning/images/courses/utility-scale-quantum-computing/bits-gates-and-circuits/extracted-outputs/7adf0e93-6db3-4aa8-800f-c91c8cc46001-1.avif\" alt=\"Output of the previous code cell\" />"
      ]
     },
     "execution_count": 8,
     "metadata": {},
     "output_type": "execute_result"
    }
   ],
   "source": [
    "# See the statevector\n",
    "out_vector = Statevector(qc)\n",
    "print(out_vector)\n",
    "\n",
    "# Draw a Bloch sphere\n",
    "plot_bloch_multivector(out_vector)"
   ]
  },
  {
   "cell_type": "markdown",
   "id": "2c9b271a-7dcd-426f-b79d-378575f41dfb",
   "metadata": {},
   "source": [
    "これは、\n",
    "\n",
    "$$\n",
    "H|0\\rangle= \\frac{1}{\\sqrt{2}} \\begin{pmatrix}\n",
    "1 & 1 \\\\\n",
    "1 & -1\n",
    "\\end{pmatrix}\n",
    "\\begin{pmatrix}\n",
    "1 \\\\0\n",
    "\\end{pmatrix}\n",
    " =\\frac{1}{\\sqrt{2}}\\begin{pmatrix}\n",
    "1 \\\\\n",
    "1\n",
    "\\end{pmatrix}\n",
    "=\\begin{pmatrix}\n",
    "0.707 \\\\\n",
    "0.707\n",
    "\\end{pmatrix}\n",
    "=\\frac{1}{\\sqrt{2}}(|0\\rangle+|1\\rangle)\n",
    "$$\n",
    "です。\n",
    "\n",
    "この重ね合わせ状態は非常に一般的で重要であるため、独自の記号が付けられています。\n",
    "\n",
    "\n",
    "$$\n",
    "|+\\rangle \\equiv \\frac{1}{\\sqrt{2}}(|0\\rangle+|1\\rangle).\n",
    "$$\n",
    "\n",
    "$H$ゲートを$|0\\rangle$に実行すると、$|0\\rangle$と$|1\\rangle$の均等な重ね合わせ状態が作れることが分かります。\n",
    "\n",
    "\n"
   ]
  },
  {
   "cell_type": "markdown",
   "id": "07fdfe64-f6ae-4995-8857-e6559ae4a3b6",
   "metadata": {},
   "source": [
    "#### $|-\\rangle$ 状態\n",
    "\n",
    "You may have guessed that there is a corresponding  $|-\\rangle$ state:\n",
    "\n",
    "$$\n",
    "|-\\rangle \\equiv \\frac{|0\\rangle -|1\\rangle}{\\sqrt{2}}.\n",
    "$$\n",
    "\n",
    "To create this state, first apply an X gate to make $|1\\rangle$, then apply an H gate.\n",
    "\n"
   ]
  },
  {
   "cell_type": "code",
   "execution_count": 9,
   "id": "b8e96fc4-6708-415e-b8fc-ac69eaeae750",
   "metadata": {},
   "outputs": [
    {
     "data": {
      "text/plain": [
       "<Image src=\"/learning/images/courses/utility-scale-quantum-computing/bits-gates-and-circuits/extracted-outputs/b8e96fc4-6708-415e-b8fc-ac69eaeae750-0.avif\" alt=\"Output of the previous code cell\" />"
      ]
     },
     "execution_count": 9,
     "metadata": {},
     "output_type": "execute_result"
    }
   ],
   "source": [
    "qc = QuantumCircuit(1)  # Create the single-qubit quantum circuit\n",
    "\n",
    "# Apply a X gate to qubit 0\n",
    "qc.x(0)\n",
    "\n",
    "# Apply an Hadamard gate to qubit 0\n",
    "qc.h(0)\n",
    "\n",
    "# draw the circuit\n",
    "qc.draw(output=\"mpl\")"
   ]
  },
  {
   "cell_type": "code",
   "execution_count": 10,
   "id": "f42b82aa-7a15-4f81-8530-b997d4c6e0de",
   "metadata": {},
   "outputs": [
    {
     "name": "stdout",
     "output_type": "stream",
     "text": [
      "Statevector([ 0.70710678+0.j, -0.70710678+0.j],\n",
      "            dims=(2,))\n"
     ]
    },
    {
     "data": {
      "text/plain": [
       "<Image src=\"/learning/images/courses/utility-scale-quantum-computing/bits-gates-and-circuits/extracted-outputs/f42b82aa-7a15-4f81-8530-b997d4c6e0de-1.avif\" alt=\"Output of the previous code cell\" />"
      ]
     },
     "execution_count": 10,
     "metadata": {},
     "output_type": "execute_result"
    }
   ],
   "source": [
    "# See the statevector\n",
    "out_vector = Statevector(qc)\n",
    "print(out_vector)\n",
    "\n",
    "# Draw a Bloch sphere\n",
    "plot_bloch_multivector(out_vector)"
   ]
  },
  {
   "cell_type": "markdown",
   "id": "2d27e9ca-67be-4c69-8930-b70bbdf03b8d",
   "metadata": {},
   "source": [
    "これは以下になります。\n",
    "\n",
    "$$\n",
    "H|1\\rangle= \\frac{1}{\\sqrt{2}} \\begin{pmatrix}\n",
    "1 & 1 \\\\\\\n",
    "1 & -1\n",
    "\\end{pmatrix}\n",
    "\\begin{pmatrix}\n",
    "0 \\\\\\\n",
    "1\n",
    "\\end{pmatrix}\n",
    " =\\frac{1}{\\sqrt{2}}\\begin{pmatrix}\n",
    "1 \\\\\\\n",
    "-1\n",
    "\\end{pmatrix}\n",
    "=\\begin{pmatrix}\n",
    "0.707 \\\\\\\n",
    "-0.707\n",
    "\\end{pmatrix}\n",
    "=\\frac{1}{\\sqrt{2}}(|0\\rangle-|1\\rangle) = |-\\rangle\n",
    "$$\n",
    "\n",
    "$|1\\rangle$に$H$ゲートを実行した結果、$|0\\rangle$と$|1\\rangle$の均等な重ね合わせ状態になりますが、$|1\\rangle$の符号がマイナスになります。\n",
    "\n"
   ]
  },
  {
   "cell_type": "markdown",
   "id": "bbc2aac6-cf44-45dd-a635-7b75fa197262",
   "metadata": {},
   "source": [
    "### 3.2 量子状態とユニタリー行列\n",
    "\n",
    "これまでQiskitで確認した量子状態の変化は、ユニタリー行列をかけることで表されます。\n",
    "$$|\\psi^{'}\\rangle = U|\\psi\\rangle$$\n",
    "\n",
    "ユニタリー行列とは、以下を満たす行列でした。\n",
    "$$U^{\\dagger}U =U U^{\\dagger} = I$$\n",
    "\n",
    "このユニタリー行列による変化が量子ビットに量子ゲートをかけることを意味します。代表的な1量子ビットゲートには以下のものがあります。　\n",
    "\n",
    "パウリゲート\n",
    "\n",
    "$$X = \\begin{pmatrix}\n",
    "0 & 1 \\\\\n",
    "1 & 0 \\\\\n",
    "\\end{pmatrix}\n",
    "= |0\\rangle \\langle 1|+|1\\rangle \\langle 0|$$\n",
    "$$Y = \\begin{pmatrix}\n",
    "0 & -i \\\\\n",
    "i & 0 \\\\\n",
    "\\end{pmatrix}\n",
    "= -i|0\\rangle \\langle 1|+i|1\\rangle \\langle 0|$$\n",
    "$$Z = \\begin{pmatrix}\n",
    "1 & 0 \\\\\n",
    "0 & -1 \\\\\n",
    "\\end{pmatrix}\n",
    "= |0\\rangle \\langle 0|-|1\\rangle \\langle 1|$$\n",
    "量ここで、外積は以下のように計算されました。\n",
    "$$|0\\rangle \\langle 0|= \n",
    "\\begin{bmatrix}\n",
    "1 \\\\\n",
    "0\n",
    "\\end{bmatrix}\n",
    "\\begin{bmatrix}\n",
    "1 & 0\n",
    "\\end{bmatrix}\n",
    "=\\begin{bmatrix}\n",
    "1 & 0 \\\\\n",
    "0 & 0 \\\\\n",
    "\\end{bmatrix}, \\quad\n",
    "|1\\rangle \\langle 0|= \n",
    "\\begin{bmatrix}\n",
    "0 \\\\\n",
    "1\n",
    "\\end{bmatrix}\n",
    "\\begin{bmatrix}\n",
    "1 & 0\n",
    "\\end{bmatrix}\n",
    "=\\begin{bmatrix}\n",
    "0 & 0 \\\\\n",
    "1 & 0 \\\\\n",
    "\\end{bmatrix}, \\quad$$\n",
    "\n",
    "$$|0\\rangle \\langle 1|= \n",
    "\\begin{bmatrix}\n",
    "1 \\\\\n",
    "0\n",
    "\\end{bmatrix}\n",
    "\\begin{bmatrix}\n",
    "0 & 1\n",
    "\\end{bmatrix}\n",
    "=\\begin{bmatrix}\n",
    "0 & 1 \\\\\n",
    "0 & 0 \\\\\n",
    "\\end{bmatrix}, \\quad\n",
    "|1\\rangle \\langle 1|= \n",
    "\\begin{bmatrix}\n",
    "0 \\\\\n",
    "1\n",
    "\\end{bmatrix}\n",
    "\\begin{bmatrix}\n",
    "0 & 1\n",
    "\\end{bmatrix}\n",
    "=\\begin{bmatrix}\n",
    "0 & 0 \\\\\n",
    "0 & 1 \\\\\n",
    "\\end{bmatrix}, \\quad$$\n",
    "\n",
    "そのほかの代表的な1量子ビットゲート\n",
    "\n",
    "$$H= \\frac{1}{\\sqrt{2}}\\begin{bmatrix}\n",
    "1 & 1 \\\\\n",
    "1 & -1 \\\\\n",
    "\\end{bmatrix},\\quad\n",
    "S = \\begin{bmatrix}\n",
    "1 & 0 \\\\\n",
    "0 & -i \\\\\n",
    "\\end{bmatrix}, \\quad\n",
    "T = \\begin{bmatrix}\n",
    "1 & 0 \\\\\n",
    "0 & exp(i\\pi/4) \\\\\n",
    "\\end{bmatrix}$$\n",
    "\n",
    "$$ R_x(\\theta) = e^{-i\\theta X/2} = cos\\frac{\\theta}{2}I - i sin \\frac{\\theta}{2}X = \\begin{bmatrix}\n",
    "cos\\frac{\\theta}{2} &  -i sin \\frac{\\theta}{2} \\\\\n",
    "-i sin \\frac{\\theta}{2} & cos\\frac{\\theta}{2} \\\\\n",
    "\\end{bmatrix}$$\n",
    "\n",
    "$$ R_y(\\theta) = e^{-i\\theta Y/2} = cos\\frac{\\theta}{2}I - i sin \\frac{\\theta}{2}Y = \\begin{bmatrix}\n",
    "cos\\frac{\\theta}{2} &  - sin \\frac{\\theta}{2} \\\\\n",
    "sin \\frac{\\theta}{2} & cos\\frac{\\theta}{2} \\\\\n",
    "\\end{bmatrix}$$\n",
    "\n",
    "$$ R_z(\\theta) = e^{-i\\theta Z/2} = cos\\frac{\\theta}{2}I - i sin \\frac{\\theta}{2}Z = \\begin{bmatrix}\n",
    "e^{-i\\theta /2} &  0 \\\\\n",
    "0 & e^{i\\theta /2} \\\\\n",
    "\\end{bmatrix}$$こ\n",
    "\n",
    "こで、外積は以下のように計算されました。\n",
    "$$|0\\rangle \\langle 0|= \n",
    "\\begin{bmatrix}\n",
    "1 \\\\\n",
    "0\n",
    "\\end{bmatrix}\n",
    "\\begin{bmatrix}\n",
    "1 & 0\n",
    "\\end{bmatrix}\n",
    "=\\begin{bmatrix}\n",
    "1 & 0 \\\\\n",
    "0 & 0 \\\\\n",
    "\\end{bmatrix}, \\quad\n",
    "|1\\rangle \\langle 0|= \n",
    "\\begin{bmatrix}\n",
    "0 \\\\\n",
    "1\n",
    "\\end{bmatrix}\n",
    "\\begin{bmatrix}\n",
    "1 & 0\n",
    "\\end{bmatrix}\n",
    "=\\begin{bmatrix}\n",
    "0 & 0 \\\\\n",
    "1 & 0 \\\\\n",
    "\\end{bmatrix}, \\quad$$\n",
    "\n",
    "$$|0\\rangle \\langle 1|= \n",
    "\\begin{bmatrix}\n",
    "1 \\\\\n",
    "0\n",
    "\\end{bmatrix}\n",
    "\\begin{bmatrix}\n",
    "0 & 1\n",
    "\\end{bmatrix}\n",
    "=\\begin{bmatrix}\n",
    "0 & 1 \\\\\n",
    "0 & 0 \\\\\n",
    "\\end{bmatrix}, \\quad\n",
    "|1\\rangle \\langle 1|= \n",
    "\\begin{bmatrix}\n",
    "0 \\\\\n",
    "1\n",
    "\\end{bmatrix}\n",
    "\\begin{bmatrix}\n",
    "0 & 1\n",
    "\\end{bmatrix}\n",
    "=\\begin{bmatrix}\n",
    "0 & 0 \\\\\n",
    "0 & 1 \\\\\n",
    "\\end{bmatrix}, \\quad$$\n",
    "\n",
    "そのほかの代表的な1量子ビットゲート\n",
    "\n",
    "$$H= \\frac{1}{\\sqrt{2}}\\begin{bmatrix}\n",
    "1 & 1 \\\\\n",
    "1 & -1 \\\\\n",
    "\\end{bmatrix},\\quad\n",
    "S = \\begin{bmatrix}\n",
    "1 & 0 \\\\\n",
    "0 & -i \\\\\n",
    "\\end{bmatrix}, \\quad\n",
    "T = \\begin{bmatrix}\n",
    "1 & 0 \\\\\n",
    "0 & exp(i\\pi/4) \\\\\n",
    "\\end{bmatrix}$$\n",
    "\n",
    "$$ R_x(\\theta) = e^{-i\\theta X/2} = cos\\frac{\\theta}{2}I - i sin \\frac{\\theta}{2}X = \\begin{bmatrix}\n",
    "cos\\frac{\\theta}{2} &  -i sin \\frac{\\theta}{2} \\\\\n",
    "-i sin \\frac{\\theta}{2} & cos\\frac{\\theta}{2} \\\\\n",
    "\\end{bmatrix}$$\n",
    "\n",
    "$$ R_y(\\theta) = e^{-i\\theta Y/2} = cos\\frac{\\theta}{2}I - i sin \\frac{\\theta}{2}Y = \\begin{bmatrix}\n",
    "cos\\frac{\\theta}{2} &  - sin \\frac{\\theta}{2} \\\\\n",
    "sin \\frac{\\theta}{2} & cos\\frac{\\theta}{2} \\\\\n",
    "\\end{bmatrix}$$\n",
    "\n",
    "$$ R_z(\\theta) = e^{-i\\theta Z/2} = cos\\frac{\\theta}{2}I - i sin \\frac{\\theta}{2}Z = \\begin{bmatrix}\n",
    "e^{-i\\theta /2} &  0 \\\\\n",
    "0 & e^{i\\theta /2} \\\\\n",
    "\\end{bmatrix}$$$$$$子状態とユニタリー行列\n",
    "\n",
    "これまでQiskitで確認した量子状態の変化は、ユニタリー行列をかけることで表されます。\n",
    "$$|\\psi^{'}\\rangle = U|\\psi\\rangle$$\n",
    "\n",
    "ユニタリー行列とは、以下を満たす行列でした。\n",
    "$$U^{\\dagger}U =U U^{\\dagger} = I$$\n",
    "\n",
    "このユニタリー行列による変化が量子ビットに量子ゲートをかけることを意味します。代表的な1量子ビットゲートには以下のものがあります。　\n",
    "\n",
    "パウリゲート\n",
    "\n",
    "$$X = \\begin{pmatrix}\n",
    "0 & 1 \\\\\n",
    "1 & 0 \\\\\n",
    "\\end{pmatrix}\n",
    "= |0\\rangle \\langle 1|+|1\\rangle \\langle 0|$$\n",
    "$$Y = \\begin{pmatrix}\n",
    "0 & -i \\\\\n",
    "i & 0 \\\\\n",
    "\\end{pmatrix}\n",
    "= -i|0\\rangle \\langle 1|+i|1\\rangle \\langle 0|$$\n",
    "$$Z = \\begin{pmatrix}\n",
    "1 & 0 \\\\\n",
    "0 & -1 \\\\\n",
    "\\end{pmatrix}\n",
    "= |0\\rangle \\langle 0|-|1\\rangle \\langle 1|$$\n",
    "\n",
    "ここで、外積は以下のように計算されました。\n",
    "$$|0\\rangle \\langle 0|= \n",
    "\\begin{bmatrix}\n",
    "1 \\\\\n",
    "0\n",
    "\\end{bmatrix}\n",
    "\\begin{bmatrix}\n",
    "1 & 0\n",
    "\\end{bmatrix}\n",
    "=\\begin{bmatrix}\n",
    "1 & 0 \\\\\n",
    "0 & 0 \\\\\n",
    "\\end{bmatrix}, \\quad\n",
    "|1\\rangle \\langle 0|= \n",
    "\\begin{bmatrix}\n",
    "0 \\\\\n",
    "1\n",
    "\\end{bmatrix}\n",
    "\\begin{bmatrix}\n",
    "1 & 0\n",
    "\\end{bmatrix}\n",
    "=\\begin{bmatrix}\n",
    "0 & 0 \\\\\n",
    "1 & 0 \\\\\n",
    "\\end{bmatrix}, \\quad$$\n",
    "\n",
    "$$|0\\rangle \\langle 1|= \n",
    "\\begin{bmatrix}\n",
    "1 \\\\\n",
    "0\n",
    "\\end{bmatrix}\n",
    "\\begin{bmatrix}\n",
    "0 & 1\n",
    "\\end{bmatrix}\n",
    "=\\begin{bmatrix}\n",
    "0 & 1 \\\\\n",
    "0 & 0 \\\\\n",
    "\\end{bmatrix}, \\quad\n",
    "|1\\rangle \\langle 1|= \n",
    "\\begin{bmatrix}\n",
    "0 \\\\\n",
    "1\n",
    "\\end{bmatrix}\n",
    "\\begin{bmatrix}\n",
    "0 & 1\n",
    "\\end{bmatrix}\n",
    "=\\begin{bmatrix}\n",
    "0 & 0 \\\\\n",
    "0 & 1 \\\\\n",
    "\\end{bmatrix}, \\quad$$\n",
    "\n",
    "そのほかの代表的な1量子ビットゲート\n",
    "\n",
    "$$H= \\frac{1}{\\sqrt{2}}\\begin{bmatrix}\n",
    "1 & 1 \\\\\n",
    "1 & -1 \\\\\n",
    "\\end{bmatrix},\\quad\n",
    "S = \\begin{bmatrix}\n",
    "1 & 0 \\\\\n",
    "0 & -i \\\\\n",
    "\\end{bmatrix}, \\quad\n",
    "T = \\begin{bmatrix}\n",
    "1 & 0 \\\\\n",
    "0 & exp(i\\pi/4) \\\\\n",
    "\\end{bmatrix}$$\n",
    "\n",
    "$$ R_x(\\theta) = e^{-i\\theta X/2} = cos\\frac{\\theta}{2}I - i sin \\frac{\\theta}{2}X = \\begin{bmatrix}\n",
    "cos\\frac{\\theta}{2} &  -i sin \\frac{\\theta}{2} \\\\\n",
    "-i sin \\frac{\\theta}{2} & cos\\frac{\\theta}{2} \\\\\n",
    "\\end{bmatrix}$$\n",
    "\n",
    "$$ R_y(\\theta) = e^{-i\\theta Y/2} = cos\\frac{\\theta}{2}I - i sin \\frac{\\theta}{2}Y = \\begin{bmatrix}\n",
    "cos\\frac{\\theta}{2} &  - sin \\frac{\\theta}{2} \\\\\n",
    "sin \\frac{\\theta}{2} & cos\\frac{\\theta}{2} \\\\\n",
    "\\end{bmatrix}$$\n",
    "\n",
    "$$ R_z(\\theta) = e^{-i\\theta Z/2} = cos\\frac{\\theta}{2}I - i sin \\frac{\\theta}{2}Z = \\begin{bmatrix}\n",
    "e^{-i\\theta /2} &  0 \\\\\n",
    "0 & e^{i\\theta /2} \\\\\n",
    "\\end{bmatrix}$$$$$$量子状態とユニタリー行列\n",
    "\n",
    "これまでQiskitで確認した量子状態の変化は、ユニタリー行列をかけることで表されます。\n",
    "$$|\\psi^{'}\\rangle = U|\\psi\\rangle$$\n",
    "\n",
    "ユニタリー行列とは、以下を満たす行列でした。\n",
    "$$U^{\\dagger}U =U U^{\\dagger} = I$$\n",
    "\n",
    "このユニタリー行列による変化が量子ビットに量子ゲートをかけることを意味します。代表的な1量子ビットゲートには以下のものがあります。　\n",
    "\n",
    "パウリゲート\n",
    "\n",
    "$$X = \\begin{pmatrix}\n",
    "0 & 1 \\\\\n",
    "1 & 0 \\\\\n",
    "\\end{pmatrix}\n",
    "= |0\\rangle \\langle 1|+|1\\rangle \\langle 0|$$\n",
    "$$Y = \\begin{pmatrix}\n",
    "0 & -i \\\\\n",
    "i & 0 \\\\\n",
    "\\end{pmatrix}\n",
    "= -i|0\\rangle \\langle 1|+i|1\\rangle \\langle 0|$$\n",
    "$$Z = \\begin{pmatrix}\n",
    "1 & 0 \\\\\n",
    "0 & -1 \\\\\n",
    "\\end{pmatrix}\n",
    "= |0\\rangle \\langle 0|-|1\\rangle \\langle 1|$$\n",
    "\n",
    "ここで、外積は以下のように計算されました。\n",
    "$$|0\\rangle \\langle 0|= \n",
    "\\begin{bmatrix}\n",
    "1 \\\\\n",
    "0\n",
    "\\end{bmatrix}\n",
    "\\begin{bmatrix}\n",
    "1 & 0\n",
    "\\end{bmatrix}\n",
    "=\\begin{bmatrix}\n",
    "1 & 0 \\\\\n",
    "0 & 0 \\\\\n",
    "\\end{bmatrix}, \\quad\n",
    "|1\\rangle \\langle 0|= \n",
    "\\begin{bmatrix}\n",
    "0 \\\\\n",
    "1\n",
    "\\end{bmatrix}\n",
    "\\begin{bmatrix}\n",
    "1 & 0\n",
    "\\end{bmatrix}\n",
    "=\\begin{bmatrix}\n",
    "0 & 0 \\\\\n",
    "1 & 0 \\\\\n",
    "\\end{bmatrix}, \\quad$$\n",
    "\n",
    "$$|0\\rangle \\langle 1|= \n",
    "\\begin{bmatrix}\n",
    "1 \\\\\n",
    "0\n",
    "\\end{bmatrix}\n",
    "\\begin{bmatrix}\n",
    "0 & 1\n",
    "\\end{bmatrix}\n",
    "=\\begin{bmatrix}\n",
    "0 & 1 \\\\\n",
    "0 & 0 \\\\\n",
    "\\end{bmatrix}, \\quad\n",
    "|1\\rangle \\langle 1|= \n",
    "\\begin{bmatrix}\n",
    "0 \\\\\n",
    "1\n",
    "\\end{bmatrix}\n",
    "\\begin{bmatrix}\n",
    "0 & 1\n",
    "\\end{bmatrix}\n",
    "=\\begin{bmatrix}\n",
    "0 & 0 \\\\\n",
    "0 & 1 \\\\\n",
    "\\end{bmatrix}, \\quad$$\n",
    "\n",
    "そのほかの代表的な1量子ビットゲート\n",
    "\n",
    "$$H= \\frac{1}{\\sqrt{2}}\\begin{bmatrix}\n",
    "1 & 1 \\\\\n",
    "1 & -1 \\\\\n",
    "\\end{bmatrix},\\quad\n",
    "S = \\begin{bmatrix}\n",
    "1 & 0 \\\\\n",
    "0 & -i \\\\\n",
    "\\end{bmatrix}, \\quad\n",
    "T = \\begin{bmatrix}\n",
    "1 & 0 \\\\\n",
    "0 & exp(i\\pi/4) \\\\\n",
    "\\end{bmatrix}$$\n",
    "\n",
    "$$ R_x(\\theta) = e^{-i\\theta X/2} = cos\\frac{\\theta}{2}I - i sin \\frac{\\theta}{2}X = \\begin{bmatrix}\n",
    "cos\\frac{\\theta}{2} &  -i sin \\frac{\\theta}{2} \\\\\n",
    "-i sin \\frac{\\theta}{2} & cos\\frac{\\theta}{2} \\\\\n",
    "\\end{bmatrix}$$\n",
    "\n",
    "$$ R_y(\\theta) = e^{-i\\theta Y/2} = cos\\frac{\\theta}{2}I - i sin \\frac{\\theta}{2}Y = \\begin{bmatrix}\n",
    "cos\\frac{\\theta}{2} &  - sin \\frac{\\theta}{2} \\\\\n",
    "sin \\frac{\\theta}{2} & cos\\frac{\\theta}{2} \\\\\n",
    "\\end{bmatrix}$$\n",
    "\n",
    "$$ R_z(\\theta) = e^{-i\\theta Z/2} = cos\\frac{\\theta}{2}I - i sin \\frac{\\theta}{2}Z = \\begin{bmatrix}\n",
    "e^{-i\\theta /2} &  0 \\\\\n",
    "0 & e^{i\\theta /2} \\\\\n",
    "\\end{bmatrix}$$$$$$量子状態とユニタリー行列\n",
    "\n",
    "これまでQiskitで確認した量子状態の変化は、ユニタリー行列をかけることで表されます。\n",
    "$$|\\psi^{'}\\rangle = U|\\psi\\rangle$$\n",
    "\n",
    "ユニタリー行列とは、以下を満たす行列でした。\n",
    "$$U^{\\dagger}U =U U^{\\dagger} = I$$\n",
    "\n",
    "このユニタリー行列による変化が量子ビットに量子ゲートをかけることを意味します。代表的な1量子ビットゲートには以下のものがあります。　\n",
    "\n",
    "パウリゲート\n",
    "\n",
    "$$X = \\begin{pmatrix}\n",
    "0 & 1 \\\\\n",
    "1 & 0 \\\\\n",
    "\\end{pmatrix}\n",
    "= |0\\rangle \\langle 1|+|1\\rangle \\langle 0|$$\n",
    "$$Y = \\begin{pmatrix}\n",
    "0 & -i \\\\\n",
    "i & 0 \\\\\n",
    "\\end{pmatrix}\n",
    "= -i|0\\rangle \\langle 1|+i|1\\rangle \\langle 0|$$\n",
    "$$Z = \\begin{pmatrix}\n",
    "1 & 0 \\\\\n",
    "0 & -1 \\\\\n",
    "\\end{pmatrix}\n",
    "= |0\\rangle \\langle 0|-|1\\rangle \\langle 1|$$\n",
    "\n",
    "ここで、外積は以下のように計算されました。\n",
    "$$|0\\rangle \\langle 0|= \n",
    "\\begin{bmatrix}\n",
    "1 \\\\\n",
    "0\n",
    "\\end{bmatrix}\n",
    "\\begin{bmatrix}\n",
    "1 & 0\n",
    "\\end{bmatrix}\n",
    "=\\begin{bmatrix}\n",
    "1 & 0 \\\\\n",
    "0 & 0 \\\\\n",
    "\\end{bmatrix}, \\quad\n",
    "|1\\rangle \\langle 0|= \n",
    "\\begin{bmatrix}\n",
    "0 \\\\\n",
    "1\n",
    "\\end{bmatrix}\n",
    "\\begin{bmatrix}\n",
    "1 & 0\n",
    "\\end{bmatrix}\n",
    "=\\begin{bmatrix}\n",
    "0 & 0 \\\\\n",
    "1 & 0 \\\\\n",
    "\\end{bmatrix}, \\quad$$\n",
    "\n",
    "$$|0\\rangle \\langle 1|= \n",
    "\\begin{bmatrix}\n",
    "1 \\\\\n",
    "0\n",
    "\\end{bmatrix}\n",
    "\\begin{bmatrix}\n",
    "0 & 1\n",
    "\\end{bmatrix}\n",
    "=\\begin{bmatrix}\n",
    "0 & 1 \\\\\n",
    "0 & 0 \\\\\n",
    "\\end{bmatrix}, \\quad\n",
    "|1\\rangle \\langle 1|= \n",
    "\\begin{bmatrix}\n",
    "0 \\\\\n",
    "1\n",
    "\\end{bmatrix}\n",
    "\\begin{bmatrix}\n",
    "0 & 1\n",
    "\\end{bmatrix}\n",
    "=\\begin{bmatrix}\n",
    "0 & 0 \\\\\n",
    "0 & 1 \\\\\n",
    "\\end{bmatrix}, \\quad$$\n",
    "\n",
    "そのほかの代表的な1量子ビットゲート\n",
    "\n",
    "$$H= \\frac{1}{\\sqrt{2}}\\begin{bmatrix}\n",
    "1 & 1 \\\\\n",
    "1 & -1 \\\\\n",
    "\\end{bmatrix},\\quad\n",
    "S = \\begin{bmatrix}\n",
    "1 & 0 \\\\\n",
    "0 & -i \\\\\n",
    "\\end{bmatrix}, \\quad\n",
    "T = \\begin{bmatrix}\n",
    "1 & 0 \\\\\n",
    "0 & exp(i\\pi/4) \\\\\n",
    "\\end{bmatrix}$$\n",
    "\n",
    "$$ R_x(\\theta) = e^{-i\\theta X/2} = cos\\frac{\\theta}{2}I - i sin \\frac{\\theta}{2}X = \\begin{bmatrix}\n",
    "cos\\frac{\\theta}{2} &  -i sin \\frac{\\theta}{2} \\\\\n",
    "-i sin \\frac{\\theta}{2} & cos\\frac{\\theta}{2} \\\\\n",
    "\\end{bmatrix}$$\n",
    "\n",
    "$$ R_y(\\theta) = e^{-i\\theta Y/2} = cos\\frac{\\theta}{2}I - i sin \\frac{\\theta}{2}Y = \\begin{bmatrix}\n",
    "cos\\frac{\\theta}{2} &  - sin \\frac{\\theta}{2} \\\\\n",
    "sin \\frac{\\theta}{2} & cos\\frac{\\theta}{2} \\\\\n",
    "\\end{bmatrix}$$\n",
    "\n",
    "$$ R_z(\\theta) = e^{-i\\theta Z/2} = cos\\frac{\\theta}{2}I - i sin \\frac{\\theta}{2}Z = \\begin{bmatrix}\n",
    "e^{-i\\theta /2} &  0 \\\\\n",
    "0 & e^{i\\theta /2} \\\\\n",
    "\\end{bmatrix}$$$$$$"
   ]
  },
  {
   "cell_type": "markdown",
   "id": "39da8188-4ea3-420a-8467-29dd249ca93b",
   "metadata": {},
   "source": [
    "###  演習1\n",
    "次の量子回路をプログラミングし、状態ベクトルシミュレーターで実行して、ブロッホ球を表示してみましょう。\n",
    "\n",
    "(1) $XX|0\\rangle$\n",
    "\n",
    "(2) $HH|0\\rangle$\n",
    "\n",
    "(3) $HZH|0\\rangle$\n",
    "\n",
    "Tips: Z gate can be used by\n",
    "\n",
    "qc.z(0)\n",
    "\n",
    "**Solution:**\n",
    "\n"
   ]
  },
  {
   "cell_type": "code",
   "execution_count": 11,
   "id": "148fdaf9-0398-4dd3-84b3-1a71a4f5d34e",
   "metadata": {},
   "outputs": [
    {
     "data": {
      "text/plain": [
       "<Image src=\"/learning/images/courses/utility-scale-quantum-computing/bits-gates-and-circuits/extracted-outputs/148fdaf9-0398-4dd3-84b3-1a71a4f5d34e-0.avif\" alt=\"Output of the previous code cell\" />"
      ]
     },
     "execution_count": 11,
     "metadata": {},
     "output_type": "execute_result"
    }
   ],
   "source": [
    "### (1) XX|0> ###\n",
    "\n",
    "# Create the single-qubit quantum circuit\n",
    "qc = QuantumCircuit(1)  ##your code goes here##\n",
    "\n",
    "# Add a X gate to qubit 0\n",
    "qc.x(0)  ##your code goes here##\n",
    "\n",
    "# Add a X gate to qubit 0\n",
    "qc.x(0)  ##your code goes here##\n",
    "\n",
    "# Draw a circuit\n",
    "qc.draw(output=\"mpl\")"
   ]
  },
  {
   "cell_type": "code",
   "execution_count": 12,
   "id": "4720c4a0-acc7-46cc-b8ba-be2ca87ab976",
   "metadata": {},
   "outputs": [
    {
     "name": "stdout",
     "output_type": "stream",
     "text": [
      "Statevector([1.+0.j, 0.+0.j],\n",
      "            dims=(2,))\n"
     ]
    },
    {
     "data": {
      "text/plain": [
       "<Image src=\"/learning/images/courses/utility-scale-quantum-computing/bits-gates-and-circuits/extracted-outputs/4720c4a0-acc7-46cc-b8ba-be2ca87ab976-1.avif\" alt=\"Output of the previous code cell\" />"
      ]
     },
     "execution_count": 12,
     "metadata": {},
     "output_type": "execute_result"
    }
   ],
   "source": [
    "# See the statevector\n",
    "out_vector = Statevector(qc)\n",
    "print(out_vector)\n",
    "\n",
    "# Draw a Bloch sphere\n",
    "plot_bloch_multivector(out_vector)"
   ]
  },
  {
   "cell_type": "code",
   "execution_count": 13,
   "id": "361c09fe-c206-4355-b827-da7ede0848de",
   "metadata": {},
   "outputs": [
    {
     "data": {
      "text/plain": [
       "<Image src=\"/learning/images/courses/utility-scale-quantum-computing/bits-gates-and-circuits/extracted-outputs/361c09fe-c206-4355-b827-da7ede0848de-0.avif\" alt=\"Output of the previous code cell\" />"
      ]
     },
     "execution_count": 13,
     "metadata": {},
     "output_type": "execute_result"
    }
   ],
   "source": [
    "### (2) HH|0> ###\n",
    "##your code goes here##\n",
    "qc = QuantumCircuit(1)\n",
    "qc.h(0)\n",
    "qc.h(0)\n",
    "qc.draw(\"mpl\")"
   ]
  },
  {
   "cell_type": "code",
   "execution_count": 14,
   "id": "a4976a54-77e2-42b5-b492-49c8cdaf9c9f",
   "metadata": {},
   "outputs": [
    {
     "name": "stdout",
     "output_type": "stream",
     "text": [
      "Statevector([1.+0.j, 0.+0.j],\n",
      "            dims=(2,))\n"
     ]
    },
    {
     "data": {
      "text/plain": [
       "<Image src=\"/learning/images/courses/utility-scale-quantum-computing/bits-gates-and-circuits/extracted-outputs/a4976a54-77e2-42b5-b492-49c8cdaf9c9f-1.avif\" alt=\"Output of the previous code cell\" />"
      ]
     },
     "execution_count": 14,
     "metadata": {},
     "output_type": "execute_result"
    }
   ],
   "source": [
    "# See the statevector\n",
    "out_vector = Statevector(qc)\n",
    "print(out_vector)\n",
    "\n",
    "# Draw a Bloch sphere\n",
    "plot_bloch_multivector(out_vector)"
   ]
  },
  {
   "cell_type": "code",
   "execution_count": 15,
   "id": "cd01ed0c-8f9e-4689-b1ae-f028d588f81a",
   "metadata": {},
   "outputs": [
    {
     "data": {
      "text/plain": [
       "<Image src=\"/learning/images/courses/utility-scale-quantum-computing/bits-gates-and-circuits/extracted-outputs/cd01ed0c-8f9e-4689-b1ae-f028d588f81a-0.avif\" alt=\"Output of the previous code cell\" />"
      ]
     },
     "execution_count": 15,
     "metadata": {},
     "output_type": "execute_result"
    }
   ],
   "source": [
    "### (3) HZH|0> ###\n",
    "##your code goes here##\n",
    "qc = QuantumCircuit(1)\n",
    "qc.h(0)\n",
    "qc.z(0)\n",
    "qc.h(0)\n",
    "qc.draw(\"mpl\")"
   ]
  },
  {
   "cell_type": "code",
   "execution_count": 16,
   "id": "4bc91c2a-e097-44db-95bb-acf0d0ea0844",
   "metadata": {},
   "outputs": [
    {
     "name": "stdout",
     "output_type": "stream",
     "text": [
      "Statevector([0.+0.j, 1.+0.j],\n",
      "            dims=(2,))\n"
     ]
    },
    {
     "data": {
      "text/plain": [
       "<Image src=\"/learning/images/courses/utility-scale-quantum-computing/bits-gates-and-circuits/extracted-outputs/4bc91c2a-e097-44db-95bb-acf0d0ea0844-1.avif\" alt=\"Output of the previous code cell\" />"
      ]
     },
     "execution_count": 16,
     "metadata": {},
     "output_type": "execute_result"
    }
   ],
   "source": [
    "# See the statevector\n",
    "out_vector = Statevector(qc)\n",
    "print(out_vector)\n",
    "\n",
    "# Draw a Bloch sphere\n",
    "plot_bloch_multivector(out_vector)"
   ]
  },
  {
   "cell_type": "markdown",
   "id": "59f4ee8b-7243-418c-8094-ae52e750fac1",
   "metadata": {},
   "source": [
    "### 3.3 測定\n",
    "\n",
    "量子ビット $|\\psi\\rangle=\\alpha|0\\rangle+\\beta|1\\rangle$ は観測することによって、 $|0\\rangle$または$|1\\rangle$へ状態が変わります。そのとき、 $|0\\rangle$を得る確率は、$|\\alpha|^2$ であり、$|1\\rangle$を得る確率は、$|\\beta|^2$ です（ボルンの法則）。\n",
    "\n",
    "$$p(|0\\rangle) = |\\langle 0|\\psi\\rangle|^2 = |\\alpha|^2$$\n",
    "$$p(|1\\rangle) = |\\langle 1|\\psi\\rangle|^2 = |\\beta|^2$$\n",
    "\n",
    "例えば、$|\\psi\\rangle=\\frac{1}{\\sqrt{2}}(|0\\rangle+|1\\rangle)$ を測定すると\n",
    "\n",
    "$$\\langle 0|\\psi\\rangle =\\frac{1}{\\sqrt{2}}\\langle 0|0\\rangle + \\frac{1}{\\sqrt{2}}\\langle 0|1\\rangle = \\frac{1}{\\sqrt{2}}\\cdot 1+\\frac{1}{\\sqrt{2}} \\cdot 0=\\frac{1}{\\sqrt{2}} $$\n",
    "$$|\\langle 0|\\psi\\rangle|^2 =  \\frac{1}{2} $$\n",
    "\n",
    "となり、50%の確率で$|0\\rangle$が測定（50%の確率で$|1\\rangle$が測定）されます。\n",
    "\n"
   ]
  },
  {
   "cell_type": "markdown",
   "id": "fb2c925a-e906-467b-b971-4663eb4751c5",
   "metadata": {},
   "source": [
    "#### Qiskit Aer Simulator\n",
    "\n",
    "Aerシミュレーター（量子計算シミュレーター）で計算させ、測定します。1024回実行した結果、それぞれの状態が測定された回数を表示し、その測定確率をヒストグラムで表示します。\n"
   ]
  },
  {
   "cell_type": "code",
   "execution_count": null,
   "id": "3956e602-9f1b-4083-b58d-26c91b50b75e",
   "metadata": {},
   "outputs": [
    {
     "data": {
      "text/plain": [
       "<Image src=\"/learning/images/courses/utility-scale-quantum-computing/bits-gates-and-circuits/extracted-outputs/3956e602-9f1b-4083-b58d-26c91b50b75e-0.avif\" alt=\"Output of the previous code cell\" />"
      ]
     },
     "execution_count": 17,
     "metadata": {},
     "output_type": "execute_result"
    }
   ],
   "source": [
    "# Create a new circuit with one qubits (first argument) and one classical bits (second argument)\n",
    "qc = QuantumCircuit(1, 1)\n",
    "qc.h(0)\n",
    "qc.measure(0, 0)  # Add the measurement gate\n",
    "\n",
    "qc.draw(output=\"mpl\")"
   ]
  },
  {
   "cell_type": "markdown",
   "id": "95abf094-bd82-4a4a-ad12-29bec082d9c8",
   "metadata": {},
   "source": [
    "We are now ready to run our circuit on the Aer simulator. In this example, we will apply the default shots=1024, which means we will measure 1024 times. Then we will plot those counts in a histogram.\n",
    "\n"
   ]
  },
  {
   "cell_type": "code",
   "execution_count": 18,
   "id": "7cb7c5ab-7b12-4f77-aaca-1d7e6cff213c",
   "metadata": {},
   "outputs": [
    {
     "name": "stdout",
     "output_type": "stream",
     "text": [
      "{'0': 521, '1': 503}\n"
     ]
    },
    {
     "data": {
      "text/plain": [
       "<Image src=\"/learning/images/courses/utility-scale-quantum-computing/bits-gates-and-circuits/extracted-outputs/7cb7c5ab-7b12-4f77-aaca-1d7e6cff213c-1.avif\" alt=\"Output of the previous code cell\" />"
      ]
     },
     "execution_count": 18,
     "metadata": {},
     "output_type": "execute_result"
    }
   ],
   "source": [
    "# Run the circuit on a simulator to get the results\n",
    "# Define backend\n",
    "backend = AerSimulator()\n",
    "\n",
    "# Transpile to backend\n",
    "pm = generate_preset_pass_manager(backend=backend, optimization_level=1)\n",
    "isa_qc = pm.run(qc)\n",
    "\n",
    "# Run the job\n",
    "sampler = Sampler(mode=backend)\n",
    "job = sampler.run([isa_qc])\n",
    "result = job.result()\n",
    "\n",
    "# Print the results\n",
    "counts = result[0].data.c.get_counts()\n",
    "print(counts)\n",
    "\n",
    "# Plot the counts in a histogram\n",
    "plot_histogram(counts)"
   ]
  },
  {
   "cell_type": "markdown",
   "id": "ea8c3435-8e76-4f04-9d50-d1eb575158d3",
   "metadata": {},
   "source": [
    "ほぼ50％ずつの確率で0と1が測定されることが確認できました。"
   ]
  },
  {
   "cell_type": "markdown",
   "id": "33d5a0ef-4eca-46d0-9c87-2f42b9a70ebb",
   "metadata": {},
   "source": [
    "## 4. 複数量子ビット回路ともつれ状態\n",
    "\n",
    "### 4.1 複数量子ビット回路\n",
    "\n",
    "コードで2量子ビットの量子回路を作成できます。各量子ビットにHゲートを適用します。"
   ]
  },
  {
   "cell_type": "code",
   "execution_count": 19,
   "id": "e880f7eb-108c-4387-8ef4-97219fd5691c",
   "metadata": {},
   "outputs": [
    {
     "data": {
      "text/plain": [
       "<Image src=\"/learning/images/courses/utility-scale-quantum-computing/bits-gates-and-circuits/extracted-outputs/e880f7eb-108c-4387-8ef4-97219fd5691c-0.avif\" alt=\"Output of the previous code cell\" />"
      ]
     },
     "execution_count": 19,
     "metadata": {},
     "output_type": "execute_result"
    }
   ],
   "source": [
    "# Create the two qubits quantum circuit\n",
    "qc = QuantumCircuit(2)\n",
    "\n",
    "# Apply an H gate to qubit 0\n",
    "qc.h(0)\n",
    "\n",
    "# Apply an H gate to qubit 1\n",
    "qc.h(1)\n",
    "\n",
    "# Draw the circuit\n",
    "qc.draw(output=\"mpl\")"
   ]
  },
  {
   "cell_type": "code",
   "execution_count": 20,
   "id": "28c4fdb1-122b-4399-a3ee-a24f6b2d36ca",
   "metadata": {},
   "outputs": [
    {
     "name": "stdout",
     "output_type": "stream",
     "text": [
      "Statevector([0.5+0.j, 0.5+0.j, 0.5+0.j, 0.5+0.j],\n",
      "            dims=(2, 2))\n"
     ]
    }
   ],
   "source": [
    "# See the statevector\n",
    "out_vector = Statevector(qc)\n",
    "print(out_vector)"
   ]
  },
  {
   "cell_type": "markdown",
   "id": "905f20cf-3836-4766-bca1-05a4bd220d64",
   "metadata": {},
   "source": [
    "２量子ビットの状態は、１量子ビットの積（テンソル積）で表せます。\n",
    "\n",
    "$|\\psi\\rangle=|q0\\rangle \\otimes|q1\\rangle = (a|0\\rangle+b|1\\rangle) \\otimes (c|0\\rangle+d|1\\rangle) $\n",
    "\n",
    "$= ac|0\\rangle|0\\rangle+ad|0\\rangle|1\\rangle+bc|1\\rangle|0\\rangle+bd|1\\rangle|1\\rangle$\n",
    "\n",
    "$= ac|00\\rangle+ad|01\\rangle+bc|10\\rangle+bd|11\\rangle$\n",
    "\n",
    "(ただし、$|ac|^2+ |ad|^2+ |bc|^2+ |bd|^2=1$ )\n",
    "\n",
    "\n",
    "Qiskitの初期値は、$|0\\rangle|0\\rangle=|00\\rangle$なので、$H$をそれぞれの量子ビットに操作させることで均等な重ね合わせの状態になります。\n",
    "\n",
    "$H|0\\rangle \\otimes H|0\\rangle=\\frac{1}{\\sqrt{2}}(|0\\rangle+|1\\rangle) \\otimes \\frac{1}{\\sqrt{2}}(|0\\rangle+|1\\rangle) = \\frac{1}{2}(|00\\rangle+|01\\rangle+|10\\rangle+|11\\rangle)$\n",
    "\n",
    "$$ \n",
    "=\\frac{1}{2}\\left( \\begin{bmatrix} 1 \\\\ 1 \\end{bmatrix} \\otimes \\begin{bmatrix} 1 \\\\ 1 \\end{bmatrix}\\right) = \\frac{1}{2}\\begin{bmatrix} 1 \\\\ 1 \\\\ 1 \\\\ 1 \\end{bmatrix}=\\frac{1}{2}\\left(\\begin{bmatrix} 1 \\\\ 0 \\\\ 0 \\\\ 0 \\end{bmatrix}+\\begin{bmatrix} 0 \\\\ 1 \\\\ 0 \\\\ 0 \\end{bmatrix}+\\begin{bmatrix} 0 \\\\ 0 \\\\ 1 \\\\ 0 \\end{bmatrix}+\\begin{bmatrix} 0 \\\\ 0 \\\\ 0 \\\\ 1 \\end{bmatrix}\\right)\n",
    "$$\n",
    "\n",
    "測定のルールも同じで、 $|00\\rangle$ を測定する確率は、以下のように計算されます。\n",
    "$$p(|00\\rangle) = |\\langle 00|\\psi\\rangle|^2 = |ac|^2$$\n",
    "\n"
   ]
  },
  {
   "cell_type": "code",
   "execution_count": 21,
   "id": "ebdf591f-18d0-4fd1-a3a3-b1cdac13bd97",
   "metadata": {},
   "outputs": [
    {
     "data": {
      "text/plain": [
       "<Image src=\"/learning/images/courses/utility-scale-quantum-computing/bits-gates-and-circuits/extracted-outputs/ebdf591f-18d0-4fd1-a3a3-b1cdac13bd97-0.avif\" alt=\"Output of the previous code cell\" />"
      ]
     },
     "execution_count": 21,
     "metadata": {},
     "output_type": "execute_result"
    }
   ],
   "source": [
    "# Draw a Bloch sphere\n",
    "plot_bloch_multivector(out_vector)"
   ]
  },
  {
   "cell_type": "markdown",
   "id": "528cbdb3-eb30-42f2-a493-00ed22c09056",
   "metadata": {},
   "source": [
    "次に、この状態を測定してみましょう。\n",
    "\n",
    "まず、測定回路を追加します。"
   ]
  },
  {
   "cell_type": "code",
   "execution_count": 22,
   "id": "2afdd5ac-e51a-4d94-9307-955cc8fbf821",
   "metadata": {},
   "outputs": [
    {
     "data": {
      "text/plain": [
       "<Image src=\"/learning/images/courses/utility-scale-quantum-computing/bits-gates-and-circuits/extracted-outputs/2afdd5ac-e51a-4d94-9307-955cc8fbf821-0.avif\" alt=\"Output of the previous code cell\" />"
      ]
     },
     "execution_count": 22,
     "metadata": {},
     "output_type": "execute_result"
    }
   ],
   "source": [
    "# Create a new circuit with two qubits (first argument) and two classical bits (second argument)\n",
    "qc = QuantumCircuit(2, 2)\n",
    "\n",
    "# Apply the gates\n",
    "qc.h(0)\n",
    "qc.h(1)\n",
    "\n",
    "# Add the measurement gates\n",
    "qc.measure(0, 0)  # Measure qubit 0 and save the result in bit 0\n",
    "qc.measure(1, 1)  # Measure qubit 1 and save the result in bit 1\n",
    "\n",
    "# Draw the circuit\n",
    "qc.draw(output=\"mpl\")"
   ]
  },
  {
   "cell_type": "markdown",
   "id": "e94b24d5-1c35-46f4-a7f7-fd4849f10473",
   "metadata": {},
   "source": [
    "次にAerシミュレーター（量子計算シミュレーター）で計算させ、測定します。1024回実行した結果、それぞれの状態が測定された回数を表示し、その測定確率をヒストグラムで表示します。"
   ]
  },
  {
   "cell_type": "code",
   "execution_count": 23,
   "id": "060512ac-a106-4ecd-94f5-119048a08467",
   "metadata": {},
   "outputs": [
    {
     "name": "stdout",
     "output_type": "stream",
     "text": [
      "{'10': 262, '01': 246, '00': 265, '11': 251}\n"
     ]
    },
    {
     "data": {
      "text/plain": [
       "<Image src=\"/learning/images/courses/utility-scale-quantum-computing/bits-gates-and-circuits/extracted-outputs/060512ac-a106-4ecd-94f5-119048a08467-1.avif\" alt=\"Output of the previous code cell\" />"
      ]
     },
     "execution_count": 23,
     "metadata": {},
     "output_type": "execute_result"
    }
   ],
   "source": [
    "# Run the circuit on a simulator to get the results\n",
    "# Define backend\n",
    "backend = AerSimulator()\n",
    "\n",
    "# Transpile to backend\n",
    "pm = generate_preset_pass_manager(backend=backend, optimization_level=1)\n",
    "isa_qc = pm.run(qc)\n",
    "\n",
    "# Run the job\n",
    "sampler = Sampler(mode=backend)\n",
    "job = sampler.run([isa_qc])\n",
    "result = job.result()\n",
    "\n",
    "# Print the results\n",
    "counts = result[0].data.c.get_counts()\n",
    "print(counts)\n",
    "\n",
    "# Plot the counts in a histogram\n",
    "plot_histogram(counts)"
   ]
  },
  {
   "cell_type": "markdown",
   "id": "c4875883-3bb3-4537-aa6e-0d46b67c49e3",
   "metadata": {},
   "source": [
    "$|00\\rangle$、$|01\\rangle$、$|10\\rangle$、$|11\\rangle$の状態がほぼ25%ずつ均等に測定されました。"
   ]
  },
  {
   "cell_type": "markdown",
   "id": "d28f149c-b02a-4c4f-b0c5-2252b5dd01fc",
   "metadata": {},
   "source": [
    "### 4.2 複数量子ゲート\n",
    "\n",
    "\n",
    "\n",
    "#### CNOT ゲート\n",
    "代表的な複数量子ゲートである $CNOT$ゲート（$CX$ゲート）は、２量子ビットにかかる量子ゲートで、制御ビットが1のときのみ、目標ビットの値を反転します。　\n",
    "\n",
    "| Input (target,control) | Output (target,control) |\n",
    "| :--------------------: | :---------------------: |\n",
    "|           00           |            00           |\n",
    "|           01           |            11           |\n",
    "|           10           |            10           |\n",
    "|           11           |            01           |\n",
    "\n",
    "\n",
    "まず、q0とq1が両方とも0の場合を計算してみましょう。\n",
    "\n"
   ]
  },
  {
   "cell_type": "code",
   "execution_count": 24,
   "id": "a5621efd-dd9f-4ea4-bf3a-be3cacb45287",
   "metadata": {},
   "outputs": [
    {
     "data": {
      "text/plain": [
       "<Image src=\"/learning/images/courses/utility-scale-quantum-computing/bits-gates-and-circuits/extracted-outputs/a5621efd-dd9f-4ea4-bf3a-be3cacb45287-0.avif\" alt=\"Output of the previous code cell\" />"
      ]
     },
     "execution_count": 24,
     "metadata": {},
     "output_type": "execute_result"
    }
   ],
   "source": [
    "# Create a circuit with two quantum registers and two classical registers\n",
    "qc = QuantumCircuit(2, 2)\n",
    "\n",
    "# Apply the CNOT (cx) gate to a |00> state.\n",
    "qc.cx(0, 1)  # Here the control is set to q0 and the target is set to q1.\n",
    "\n",
    "# Draw the circuit\n",
    "qc.draw(output=\"mpl\")"
   ]
  },
  {
   "cell_type": "code",
   "execution_count": 25,
   "id": "6dcea9ac-c9c3-4211-8d62-6ae9beb9e723",
   "metadata": {},
   "outputs": [
    {
     "name": "stdout",
     "output_type": "stream",
     "text": [
      "Statevector([1.+0.j, 0.+0.j, 0.+0.j, 0.+0.j],\n",
      "            dims=(2, 2))\n"
     ]
    }
   ],
   "source": [
    "# See the statevector\n",
    "out_vector = Statevector(qc)\n",
    "print(out_vector)"
   ]
  },
  {
   "cell_type": "markdown",
   "id": "62d9fb42-6498-4e5a-b625-f5e3be15c36c",
   "metadata": {},
   "source": [
    "$|00\\rangle$ に$CX$ゲートを操作しても$|00\\rangle$ のままです。\n"
   ]
  },
  {
   "cell_type": "markdown",
   "id": "f8ddaf5f-19cb-4a65-b9ab-40edce23601c",
   "metadata": {},
   "source": [
    "#### 注: Qiskit のビット順について\n",
    "\n",
    "ここで、Qiskitでは、最下位ビット(LSB)が右端で、多くの量子情報の教科書とは逆であることに注意してください。つまり、1量子ビット目が一番右のビットで、2量子ビット目が右から２番目のビットです。$|01\\rangle$ とは、q0が1で、q1が0を表しています。\n",
    "\n"
   ]
  },
  {
   "cell_type": "markdown",
   "id": "af0c98e9-d440-4899-bee5-22591d395f33",
   "metadata": {},
   "source": [
    "次に、$|01\\rangle$ に$CX$ゲートを操作します。"
   ]
  },
  {
   "cell_type": "code",
   "execution_count": 26,
   "id": "5a02de82-44ff-40eb-b64c-2389d6eae3ee",
   "metadata": {},
   "outputs": [
    {
     "data": {
      "text/plain": [
       "<Image src=\"/learning/images/courses/utility-scale-quantum-computing/bits-gates-and-circuits/extracted-outputs/5a02de82-44ff-40eb-b64c-2389d6eae3ee-0.avif\" alt=\"Output of the previous code cell\" />"
      ]
     },
     "execution_count": 26,
     "metadata": {},
     "output_type": "execute_result"
    }
   ],
   "source": [
    "qc = QuantumCircuit(2, 2)\n",
    "\n",
    "# q0=1, q1=0\n",
    "qc.x(0)  # Apply a X gate to initialize q0 to 1\n",
    "qc.cx(0, 1)  # Set the control bit to q0 and the target bit to q1.\n",
    "\n",
    "# Draw the circuit\n",
    "qc.draw(output=\"mpl\")"
   ]
  },
  {
   "cell_type": "code",
   "execution_count": 27,
   "id": "f878f9fb-4142-4a6e-a4dd-ef2e2e2d5118",
   "metadata": {},
   "outputs": [
    {
     "name": "stdout",
     "output_type": "stream",
     "text": [
      "Statevector([0.+0.j, 0.+0.j, 0.+0.j, 1.+0.j],\n",
      "            dims=(2, 2))\n"
     ]
    }
   ],
   "source": [
    "# See the statevector\n",
    "out_vector = Statevector(qc)\n",
    "print(out_vector)"
   ]
  },
  {
   "cell_type": "markdown",
   "id": "0ed70dbf-4161-4edc-8035-681034acb4e0",
   "metadata": {},
   "source": [
    "$|01\\rangle$ に$CX$ゲートを操作すると$|11\\rangle$ になりました。\n",
    "\n",
    "シミュレーターで計算してみましょう。"
   ]
  },
  {
   "cell_type": "code",
   "execution_count": 28,
   "id": "abcafb77-20bf-4bb7-bf8d-57f33af280c1",
   "metadata": {},
   "outputs": [
    {
     "data": {
      "text/plain": [
       "<Image src=\"/learning/images/courses/utility-scale-quantum-computing/bits-gates-and-circuits/extracted-outputs/abcafb77-20bf-4bb7-bf8d-57f33af280c1-0.avif\" alt=\"Output of the previous code cell\" />"
      ]
     },
     "execution_count": 28,
     "metadata": {},
     "output_type": "execute_result"
    }
   ],
   "source": [
    "# Add measurements\n",
    "qc.measure(0, 0)\n",
    "qc.measure(1, 1)\n",
    "\n",
    "# Draw the circuit\n",
    "qc.draw(output=\"mpl\")"
   ]
  },
  {
   "cell_type": "code",
   "execution_count": 29,
   "id": "88b76f1d-083b-4f28-b415-380738d22599",
   "metadata": {},
   "outputs": [
    {
     "name": "stdout",
     "output_type": "stream",
     "text": [
      "{'11': 1024}\n"
     ]
    },
    {
     "data": {
      "text/plain": [
       "<Image src=\"/learning/images/courses/utility-scale-quantum-computing/bits-gates-and-circuits/extracted-outputs/88b76f1d-083b-4f28-b415-380738d22599-1.avif\" alt=\"Output of the previous code cell\" />"
      ]
     },
     "execution_count": 29,
     "metadata": {},
     "output_type": "execute_result"
    }
   ],
   "source": [
    "# Run the circuit on a simulator to get the results\n",
    "# Define backend\n",
    "backend = AerSimulator()\n",
    "\n",
    "# Transpile to backend\n",
    "pm = generate_preset_pass_manager(backend=backend, optimization_level=1)\n",
    "isa_qc = pm.run(qc)\n",
    "\n",
    "# Run the job\n",
    "sampler = Sampler(backend)\n",
    "job = sampler.run([isa_qc])\n",
    "result = job.result()\n",
    "\n",
    "# Print the results\n",
    "counts = result[0].data.c.get_counts()\n",
    "print(counts)\n",
    "\n",
    "# Plot the counts in a histogram\n",
    "plot_histogram(counts)"
   ]
  },
  {
   "cell_type": "markdown",
   "id": "86b95716-0817-4466-9f8f-3a212e0c08e3",
   "metadata": {},
   "source": [
    "$|11\\rangle$の状態が100%測定されます。\n",
    "\n",
    "### 4.3 Quantum entanglement and execution on a real quantum device\n",
    "\n",
    "量子計算上でも重要な状態となる、量子もつれ状態（エンタングルメント状態）を生成してみましょう。\n",
    "\n",
    "2量子ビットの量子もつれ状態の1つの例が次のような形になります。\n",
    "$$\\frac{1}{\\sqrt{2}}|00\\rangle + \\frac{1}{\\sqrt{2}}|11\\rangle$$\n",
    "\n",
    "\n",
    "\n",
    "\n",
    "2つの量子状態がエンタングルした状態とは、量子状態$|\\psi\\rangle _A$と$|\\psi\\rangle _B$からなる状態$|\\psi\\rangle _{AB}$が、個別の量子状態のテンソル積では表せない状態です。\n",
    "\n",
    "$$|\\psi\\rangle _{AB}= \\frac{1}{\\sqrt{2}} (|00\\rangle + |11\\rangle) = \\frac{1}{\\sqrt{2}}(|0\\rangle_A|0\\rangle_B +|1\\rangle_A|1\\rangle_B)$$\n",
    "\n",
    "の個別の状態を以下とすると、\n",
    "\n",
    "$$|\\psi\\rangle _A= a_0|0\\rangle+a_1|1\\rangle$$\n",
    "$$|\\psi\\rangle _B= b_0|0\\rangle+b_1|1\\rangle$$\n",
    "\n",
    "この2つの状態のテンソル積は\n",
    "$$|\\psi\\rangle _A\\otimes |\\psi\\rangle _B = a_0 b_0|00\\rangle+a_0 b_1|01\\rangle+a_1 b_0|10\\rangle+a_1 b_1|11\\rangle$$\n",
    "となりますが、これを満たす $a_0, a_1, b_0, b_1$ はありません。\n",
    "\n",
    "Let us create the Bell state and run it on a real quantum computer. Now we will follow the four steps to writing a quantum program, called **Qiskit patterns**:\n",
    "\n",
    "1.  Map problem to quantum circuits and operators\n",
    "2.  Optimize for target hardware\n",
    "3.  Execute on target hardware\n",
    "4.  Post-process the results\n",
    "\n"
   ]
  },
  {
   "cell_type": "markdown",
   "id": "126a32f5-9a11-4428-aa50-6cb3193cd1d6",
   "metadata": {},
   "source": [
    "#### Step 1. Map problem to quantum circuits and operators\n",
    "\n",
    "In a quantum program, quantum circuits are the native format in which to represent quantum instructions. When creating a circuit, you'll usually create a new QuantumCircuit object, then add instructions to it in sequence.\n",
    "\n",
    "The following code cell creates a circuit that produces a Bell state, the specific two-qubit entangled state from above.\n",
    "\n"
   ]
  },
  {
   "cell_type": "code",
   "execution_count": 30,
   "id": "5fdd9317-8fab-46ee-ac6d-25ef031dd52b",
   "metadata": {},
   "outputs": [
    {
     "data": {
      "text/plain": [
       "<Image src=\"/learning/images/courses/utility-scale-quantum-computing/bits-gates-and-circuits/extracted-outputs/5fdd9317-8fab-46ee-ac6d-25ef031dd52b-0.avif\" alt=\"Output of the previous code cell\" />"
      ]
     },
     "execution_count": 30,
     "metadata": {},
     "output_type": "execute_result"
    }
   ],
   "source": [
    "qc = QuantumCircuit(2, 2)\n",
    "\n",
    "qc.h(0)\n",
    "qc.cx(0, 1)\n",
    "\n",
    "qc.measure(0, 0)\n",
    "qc.measure(1, 1)\n",
    "\n",
    "qc.draw(\"mpl\")"
   ]
  },
  {
   "cell_type": "markdown",
   "id": "b3c9d5c2-7f53-4283-84bf-fbaa68e620c6",
   "metadata": {},
   "source": [
    "#### Step 2. Optimize for target hardware\n",
    "\n",
    "Qiskit converts abstract circuits to QISA (Quantum Instruction Set Architecture) circuits that respect the constraints of the target hardware and optimizes circuit performance. So before the optimization, we will specify the target hardware.\n",
    "\n"
   ]
  },
  {
   "cell_type": "markdown",
   "id": "a426fb27-ac0b-4d1e-840c-21729ca630ce",
   "metadata": {},
   "source": [
    "If you do not have `qiskit-ibm-runtime`, you will need to install this first. For more information about Qiskit Runtime, [check out the API reference.](/docs/api/qiskit-ibm-runtime/runtime-service)\n",
    "\n"
   ]
  },
  {
   "cell_type": "code",
   "execution_count": 31,
   "id": "1ef65ed1-926d-4f00-850d-4fb8750123a3",
   "metadata": {},
   "outputs": [],
   "source": [
    "# Install\n",
    "# !pip install qiskit-ibm-runtime"
   ]
  },
  {
   "cell_type": "markdown",
   "id": "7170222f-2cd5-4482-8044-e126d8d53797",
   "metadata": {},
   "source": [
    "We will specify the target hardware.\n",
    "\n"
   ]
  },
  {
   "cell_type": "code",
   "execution_count": null,
   "id": "a152031e-d4b6-468c-8ea4-441fe1c3c948",
   "metadata": {},
   "outputs": [],
   "source": [
    "from qiskit_ibm_runtime import QiskitRuntimeService\n",
    "\n",
    "service = QiskitRuntimeService()\n",
    "service.backends()"
   ]
  },
  {
   "cell_type": "code",
   "execution_count": null,
   "id": "2f07a360-adf5-467b-ac97-d466c0907dc6",
   "metadata": {},
   "outputs": [],
   "source": [
    "# You can specify the device\n",
    "# backend = service.backend('ibm_kingston')"
   ]
  },
  {
   "cell_type": "code",
   "execution_count": null,
   "id": "7c3072b3-69fb-4f56-9a92-6d49c5598c5e",
   "metadata": {},
   "outputs": [],
   "source": [
    "# You can also identify the least busy device\n",
    "backend = service.least_busy(operational=True)\n",
    "print(\"The least busy device is \", backend)"
   ]
  },
  {
   "cell_type": "markdown",
   "id": "f7a015bb-1813-4acf-97e5-8489711b53fb",
   "metadata": {},
   "source": [
    "Transpiling the circuit is yet another complex process. Very briefly, this rewrites the circuit into a logically equivalent one using \"native gates\" (gates that a particular quantum computer can implement) and maps the qubits in your circuit to optimal real qubits on the target quantum computer. For more on transpilation, see this [documentation](/docs/api/qiskit/transpiler#overview).\n",
    "\n"
   ]
  },
  {
   "cell_type": "code",
   "execution_count": null,
   "id": "0fd980c2-386b-4583-b032-fa8375cb286c",
   "metadata": {},
   "outputs": [],
   "source": [
    "# Transpile the circuit into basis gates executable on the hardware\n",
    "pm = generate_preset_pass_manager(backend=backend, optimization_level=1)\n",
    "target_circuit = pm.run(qc)\n",
    "\n",
    "target_circuit.draw(\"mpl\", idle_wires=False)"
   ]
  },
  {
   "cell_type": "markdown",
   "id": "1f689582-b474-46aa-aa9f-208428db538a",
   "metadata": {},
   "source": [
    "You can see that in the transpilation the circuit was rewritten using new gates. For more on the ECR gate, please refer this [documentation](/docs/api/qiskit/qiskit.circuit.library.ECRGate#ecrgate).\n",
    "\n"
   ]
  },
  {
   "cell_type": "markdown",
   "id": "fdd46180-c519-4c03-a09b-382be5140306",
   "metadata": {},
   "source": [
    "#### Step 3. Execute the target circuit\n",
    "\n",
    "Now, we will run the target circuit on the real device.\n",
    "\n"
   ]
  },
  {
   "cell_type": "code",
   "execution_count": null,
   "id": "9b4c27e3-8696-4246-b09d-0a4174eefeb9",
   "metadata": {},
   "outputs": [],
   "source": [
    "sampler = Sampler(backend)\n",
    "job_real = sampler.run([target_circuit])\n",
    "\n",
    "job_id = job_real.job_id()\n",
    "print(\"job id:\", job_id)"
   ]
  },
  {
   "cell_type": "markdown",
   "id": "aa8c88f1-d1ec-43c8-aafe-c9ab7cbb6dc2",
   "metadata": {},
   "source": [
    "Execution on the real device may require waiting in a queue, since quantum computers are valuable resources, and very much in demand. The job\\_id is used to check the execution status and results of the job later.\n",
    "\n"
   ]
  },
  {
   "cell_type": "code",
   "execution_count": null,
   "id": "666985b8-90bb-4724-bb13-9965930a84cc",
   "metadata": {},
   "outputs": [],
   "source": [
    "# Check the job status (replace the job id below with your own)\n",
    "job_real.status(job_id)"
   ]
  },
  {
   "cell_type": "markdown",
   "id": "d568cee6-69f4-4e3a-89a2-4826720d2d60",
   "metadata": {},
   "source": [
    "You can also check the job status from your IBM Quantum dashboard：[https://quantum.cloud.ibm.com/workloads](https://quantum.cloud.ibm.com/workloads)\n",
    "\n"
   ]
  },
  {
   "cell_type": "code",
   "execution_count": null,
   "id": "664ce0ec-0ddb-4438-8e68-d36e8b67204f",
   "metadata": {},
   "outputs": [],
   "source": [
    "# If the Notebook session got disconnected you can also check your job status by running the following code\n",
    "from qiskit_ibm_runtime import QiskitRuntimeService\n",
    "\n",
    "service = QiskitRuntimeService()\n",
    "job_real = service.job(job_id)  # Input your job-id between the quotations\n",
    "job_real.status()"
   ]
  },
  {
   "cell_type": "code",
   "execution_count": null,
   "id": "b69e3456-6047-436a-8276-13ca6a69188c",
   "metadata": {},
   "outputs": [],
   "source": [
    "# Execute after job has successfully run\n",
    "result_real = job_real.result()\n",
    "print(result_real[0].data.c.get_counts())"
   ]
  },
  {
   "cell_type": "markdown",
   "id": "554b7575-413e-4957-83db-9131a0b4bdaf",
   "metadata": {},
   "source": [
    "#### Step 4. Post-process the results\n",
    "\n",
    "Finally, we must post-process our results to create outputs in the expected format, like values or graphs.\n",
    "\n"
   ]
  },
  {
   "cell_type": "code",
   "execution_count": null,
   "id": "e22b1077-8311-4887-a7b3-c81006ba4eff",
   "metadata": {},
   "outputs": [],
   "source": [
    "plot_histogram(result_real[0].data.c.get_counts())"
   ]
  },
  {
   "cell_type": "markdown",
   "id": "240c2033-9f06-4f58-9075-5da1aa0f2dc5",
   "metadata": {},
   "source": [
    "As you can see, $|00\\rangle$ and $|11\\rangle$ are the most frequently observed. There are a few results other than the expected data, and they are due to noise and qubit decoherence. We will learn more about errors and noise in quantum computers in the later lessons of this course.\n",
    "\n"
   ]
  },
  {
   "cell_type": "markdown",
   "id": "8dfaf680-c957-4250-bd40-b39d60afd38e",
   "metadata": {},
   "source": [
    "### 4.4 GHZ 状態\n",
    "\n",
    "3量子ビット以上が完全にエンタングルした状態をGHZ状態 (Greenberger–Horne–Zeilinger state) と呼びます。\n",
    "\n",
    "$$\\frac{1}{\\sqrt 2}(|000\\rangle + |111\\rangle)$$\n",
    "\n",
    "３量子ビットのGHZ状態は、次のような量子回路で作成することができます。"
   ]
  },
  {
   "cell_type": "code",
   "execution_count": 40,
   "id": "459b6162-3a54-41fe-9b67-9c1f8e731ebc",
   "metadata": {},
   "outputs": [
    {
     "data": {
      "text/plain": [
       "<Image src=\"/learning/images/courses/utility-scale-quantum-computing/bits-gates-and-circuits/extracted-outputs/459b6162-3a54-41fe-9b67-9c1f8e731ebc-0.avif\" alt=\"Output of the previous code cell\" />"
      ]
     },
     "execution_count": 40,
     "metadata": {},
     "output_type": "execute_result"
    }
   ],
   "source": [
    "qc = QuantumCircuit(3, 3)\n",
    "\n",
    "qc.h(0)\n",
    "qc.cx(0, 1)\n",
    "qc.cx(1, 2)\n",
    "\n",
    "qc.measure(0, 0)\n",
    "qc.measure(1, 1)\n",
    "qc.measure(2, 2)\n",
    "\n",
    "qc.draw(\"mpl\")"
   ]
  },
  {
   "cell_type": "markdown",
   "id": "6fa6efe6-d4bb-42ef-a7cc-3faf4ddf7115",
   "metadata": {},
   "source": [
    "\n",
    "\n",
    "量子回路の「深さ」は、量子回路を説明するための便利で一般的な指標です。量子回路内のパスをトレースし、左から右に移動し、複数量子ビットゲートによって接続されている場合にのみ量子ビットを変更します。そのパスに沿ったゲートの数を数えます。回路を通るこのようなパスの最大ゲート数は深さです。現代のノイズの多い量子コンピューターでは、奥行きの浅い回路はエラーが少なく、良好な結果を返す可能性があります。非常に深い回路はそうではありません。\n",
    "\n",
    " `QuantumCircuit.depth()`を使用して、量子回路の深さを確認できます。上記の回路の深さは4です。一番上の量子ビットには、測定値を含めて 3 つのゲートしかありません。ただし、最上位の量子ビットから量子ビット 1 または量子ビット 2 までのパスがあり、これには別の CNOT ゲートが含まれます。\n",
    "\n",
    "\n"
   ]
  },
  {
   "cell_type": "code",
   "execution_count": 41,
   "id": "612505ab-1e11-467b-b5bf-6e18bd81256d",
   "metadata": {},
   "outputs": [
    {
     "data": {
      "text/plain": [
       "4"
      ]
     },
     "execution_count": 41,
     "metadata": {},
     "output_type": "execute_result"
    }
   ],
   "source": [
    "qc.depth()"
   ]
  },
  {
   "cell_type": "markdown",
   "id": "91c157ed-0fc5-40a8-8092-341bca361da3",
   "metadata": {},
   "source": [
    "### Exercise 2\n",
    "\n",
    "$8$ 量子ビットのGHZ状態は、以下のようになります。\n",
    "\n",
    "$$\\frac{1}{\\sqrt 2}(|00000000\\rangle + |11111111\\rangle)$$\n",
    "\n",
    "この状態を最も浅い回路で作ってみましょう。最も浅い量子回路の depth は、測定ゲートを合わせて 5 です！\n",
    "\n",
    "**Solution**:\n",
    "\n"
   ]
  },
  {
   "cell_type": "code",
   "execution_count": 42,
   "id": "153eefc8-f021-41ee-97c4-a9555370f197",
   "metadata": {},
   "outputs": [
    {
     "data": {
      "text/plain": [
       "<Image src=\"/learning/images/courses/utility-scale-quantum-computing/bits-gates-and-circuits/extracted-outputs/153eefc8-f021-41ee-97c4-a9555370f197-0.avif\" alt=\"Output of the previous code cell\" />"
      ]
     },
     "execution_count": 42,
     "metadata": {},
     "output_type": "execute_result"
    }
   ],
   "source": [
    "# Step 1\n",
    "qc = QuantumCircuit(8, 8)\n",
    "\n",
    "##your code goes here##\n",
    "qc.h(0)\n",
    "qc.cx(0, 4)\n",
    "qc.cx(4, 6)\n",
    "qc.cx(6, 7)\n",
    "\n",
    "qc.cx(4, 5)\n",
    "\n",
    "qc.cx(0, 2)\n",
    "qc.cx(2, 3)\n",
    "\n",
    "qc.cx(0, 1)\n",
    "qc.barrier()  # for visual separation\n",
    "\n",
    "# measure\n",
    "for i in range(8):\n",
    "    qc.measure(i, i)\n",
    "\n",
    "qc.draw(\"mpl\")\n",
    "# print(qc.depth())"
   ]
  },
  {
   "cell_type": "code",
   "execution_count": 43,
   "id": "0d44521b-e08b-4445-a6ed-6ec2ac550142",
   "metadata": {},
   "outputs": [
    {
     "name": "stdout",
     "output_type": "stream",
     "text": [
      "5\n"
     ]
    }
   ],
   "source": [
    "print(qc.depth())"
   ]
  },
  {
   "cell_type": "code",
   "execution_count": 46,
   "id": "0daedbeb-c75c-4bcf-b6e0-1f9fa0403b0d",
   "metadata": {},
   "outputs": [
    {
     "name": "stdout",
     "output_type": "stream",
     "text": [
      "{'11111111': 535, '00000000': 489}\n"
     ]
    },
    {
     "data": {
      "text/plain": [
       "<Image src=\"/learning/images/courses/utility-scale-quantum-computing/bits-gates-and-circuits/extracted-outputs/0daedbeb-c75c-4bcf-b6e0-1f9fa0403b0d-1.avif\" alt=\"Output of the previous code cell\" />"
      ]
     },
     "execution_count": 46,
     "metadata": {},
     "output_type": "execute_result"
    }
   ],
   "source": [
    "from qiskit.visualization import plot_histogram\n",
    "# Step 2\n",
    "# For this exercise, the circuit and operators are simple, so no optimizations are needed.\n",
    "\n",
    "# Step 3\n",
    "# Run the circuit on a simulator to get the results\n",
    "backend = AerSimulator()\n",
    "\n",
    "pm = generate_preset_pass_manager(backend=backend, optimization_level=1)\n",
    "isa_qc = pm.run(qc)\n",
    "\n",
    "sampler = Sampler(mode=backend)\n",
    "job = sampler.run([isa_qc], shots=1024)\n",
    "result = job.result()\n",
    "\n",
    "counts = result[0].data.c.get_counts()\n",
    "print(counts)\n",
    "\n",
    "# Step 4\n",
    "# Plot the counts in a histogram\n",
    "\n",
    "plot_histogram(counts)"
   ]
  },
  {
   "cell_type": "markdown",
   "id": "d4057c5b-2dab-4590-afda-89d8cd7d26d5",
   "metadata": {},
   "source": [
    "## 5. まとめ\n",
    "\n",
    "量子ビットと量子ゲートを用いた回路モデルによる量子計算を学習し、重ね合わせ、測定、エンタングルメントについて復習しました。また、実際の量子デバイス上で量子回路を実行する方法も学習しました。\n",
    "\n",
    "GHZ回路を作成する最後の演習では、ノイズの多い量子コンピューターでユーティリティスケールのソリューションを得るための重要な要素である回路の深さを減らすことを試みました。 このコースの後のレッスンでは、ノイズとエラー軽減方法について詳細に学習します。このレッスンでは、導入として理想的なデバイスの回路深度を小さくすることを検討しましたが、実際には、量子ビット接続などの実際のデバイスの制約を考慮する必要があります。 これについては、このコースの後続のレッスンで詳しく説明します。\n"
   ]
  },
  {
   "cell_type": "code",
   "execution_count": 45,
   "id": "eb838405-b298-4a81-ab23-9d0744090b9c",
   "metadata": {},
   "outputs": [
    {
     "data": {
      "text/plain": [
       "'2.0.2'"
      ]
     },
     "execution_count": 45,
     "metadata": {},
     "output_type": "execute_result"
    }
   ],
   "source": [
    "# See the version of Qiskit\n",
    "import qiskit\n",
    "\n",
    "qiskit.__version__"
   ]
  },
  {
   "cell_type": "markdown",
   "id": "a1b8767d",
   "metadata": {},
   "source": [
    "© IBM Corp., 2017-2025"
   ]
  }
 ],
 "metadata": {
  "description": "you will learn quantum computation with circuit model using quantum bits (qubits) and gates.",
  "kernelspec": {
   "display_name": "Python 3 (ipykernel)",
   "language": "python",
   "name": "python3"
  },
  "language_info": {
   "codemirror_mode": {
    "name": "ipython",
    "version": 3
   },
   "file_extension": ".py",
   "mimetype": "text/x-python",
   "name": "python",
   "nbconvert_exporter": "python",
   "pygments_lexer": "ipython3",
   "version": "3.12.3"
  },
  "title": "Bits, gates, and circuits",
  "widgets": {
   "application/vnd.jupyter.widget-state+json": {
    "state": {},
    "version_major": 2,
    "version_minor": 0
   }
  }
 },
 "nbformat": 4,
 "nbformat_minor": 5
}
