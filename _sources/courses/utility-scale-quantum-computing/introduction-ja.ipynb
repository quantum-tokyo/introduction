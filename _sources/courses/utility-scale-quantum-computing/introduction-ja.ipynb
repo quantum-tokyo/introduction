{
 "cells": [
  {
   "cell_type": "markdown",
   "id": "716e3f51-e2a8-4bab-baac-48cefc5e5761",
   "metadata": {},
   "source": [
    "# はじめに\n",
    "\n",
    "ユーティリティー・スケールの量子コンピューティングへようこそ!\n",
    "\n",
    "始める前に、コンテンツの提供とユーザーエクスペリエンスを向上させるために重要なこの短い[コース前アンケート](https://your.feedback.ibm.com/jfe/form/SV_8qXx7I9tkmoCG34)に回答してください。\n",
    "\n",
    "このコースは、2024年に東京大学で開催された授業をベースにしています。各レッスンは、講義で使用された PDF と計算可能な lab で構成されています。lab の解説が少なく解説が主に PDF に記載されているレッスンと、lab に詳細な説明と数学的動機が含まれているレッスンとが混じっています。\n",
    "\n",
    "**レッスン 2-6** では、グローバーや量子位相推定などの有名なアルゴリズムについて説明します。これらは、量子コンピューティングの潜在的な力を理解する上で間違いなく重要で、そのほとんどがユーティリティー・スケールの計算に関連しています。初学者の方は、必ずこれらに取り組む必要がありますが、量子コンピューティングに豊富な経験がある方にとっては、これらのレッスンには、ユーティリティー・スケールの計算のための新しい情報は特にありません。\n",
    "\n",
    "**レッスン 7-8** では、量子系のシミュレーションと古典によるシミュレーションを復習します。古典シミュレーションの授業は、東京大学の河瀬良亮助教が執筆し、外部のGitHubでホストされています。\n",
    "\n",
    "**レッスン 9** は、最新の量子コンピューティングのハードウェアに焦点を当てています。\n",
    "\n",
    "**レッスン 10** からユーティリティー・スケールの計算のために特に重要なトピックについて説明します。回路の最適化 (**レッスン 10**) とエラーの緩和 (**レッスン 11**) を理解することは、このスケールで良い結果を得るために重要です。ユーティリティー・スケールの計算そのものは、**レッスン 12** から **レッスン 14** にあります。\n",
    "\n",
    "必要な QPU 時間の誠実な見積もりは各レッスンの冒頭に記載されていますが、若干異なる場合があります。このコースに関連するクイズやバッジはありません。\n",
    "\n",
    "これらの教育資産が、有用な量子コンピューティングを実現する上であなたとあなたの生徒に役立つことを願っています。\n",
    "\n",
    "この入門講義の PDF は[ここからダウンロード](https://ibm.box.com/shared/static/pnb9vhw1ruz72r3wp4pwfilwc7rzmufw.zip) できます。PDF 上のコードは更新されないため、非推奨になる可能性があります。"
   ]
  },
  {
   "cell_type": "markdown",
   "id": "a1b8767d",
   "metadata": {},
   "source": [
    "© IBM Corp., 2017-2025"
   ]
  }
 ],
 "metadata": {
  "description": "This course is based on a live course held at the University of Tokyo in 2024, full of utility scale examples.",
  "kernelspec": {
   "display_name": "Python 3 (ipykernel)",
   "language": "python",
   "name": "python3"
  },
  "language_info": {
   "codemirror_mode": {
    "name": "ipython",
    "version": 3
   },
   "file_extension": ".py",
   "mimetype": "text/x-python",
   "name": "python",
   "nbconvert_exporter": "python",
   "pygments_lexer": "ipython3",
   "version": "3.12.3"
  },
  "title": "Introduction",
  "widgets": {
   "application/vnd.jupyter.widget-state+json": {
    "state": {},
    "version_major": 2,
    "version_minor": 0
   }
  }
 },
 "nbformat": 4,
 "nbformat_minor": 5
}
