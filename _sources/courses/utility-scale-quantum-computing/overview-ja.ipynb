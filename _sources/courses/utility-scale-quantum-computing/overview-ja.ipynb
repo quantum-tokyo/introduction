{
 "cells": [
  {
   "cell_type": "markdown",
   "id": "580201f3-be91-40a9-91b1-6860b0a4688c",
   "metadata": {},
   "source": [
    "# ユーティリティー・スケール量子コンピューティング\n",
    "概要\n",
    "\n",
    "このイベント・リプレイ・コースは、IBM Quantum®が東京大学と共同で開発し実施した14のLessonとLabで構成されています。このコースでは、量子コンピューティングにおける幅広い重要なトピックを網羅しつつ、実用規模（ユーティリティー・スケール）の量子計算を構築することに重点を置いています。最終的な結果として、2023年6月にNature誌の表紙を飾った論文と非常によく似た課題を扱います。\n",
    "\n",
    "\n",
    "1. はじめに\n",
    "2. [量子ビット・量子ゲート・量子回路](bits-gates-and-circuits-ja.ipynb)\n",
    "3. 量子テレポーテーション \n",
    "4. グローバーのアルゴリズム \n",
    "5. [量子位相推定](quantum-phase-estimation-ja.ipynb)\n",
    "6. 量子変分アルゴリズム \n",
    "7. 量子系のシミュレーション\n",
    "8. 古典計算によるシミュレーション\n",
    "9. 量子ハードウェア\n",
    "10. 量子回路の最適化\n",
    "11. 量子エラー緩和\n",
    "12. 量子ユーティリティーの実験 I\n",
    "13. 量子ユーティリティーの実験 II\n",
    "14. 量子ユーティリティーの実験 III\n"
   ]
  }
 ],
 "metadata": {
  "kernelspec": {
   "display_name": "Python 3 (ipykernel)",
   "language": "python",
   "name": "python3"
  },
  "language_info": {
   "codemirror_mode": {
    "name": "ipython",
    "version": 3
   },
   "file_extension": ".py",
   "mimetype": "text/x-python",
   "name": "python",
   "nbconvert_exporter": "python",
   "pygments_lexer": "ipython3",
   "version": "3.12.3"
  }
 },
 "nbformat": 4,
 "nbformat_minor": 5
}
