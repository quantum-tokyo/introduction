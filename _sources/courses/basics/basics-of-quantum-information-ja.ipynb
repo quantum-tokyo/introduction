{
 "cells": [
  {
   "cell_type": "markdown",
   "id": "580201f3-be91-40a9-91b1-6860b0a4688c",
   "metadata": {},
   "source": [
    "# 量子情報の基礎\n",
    "Basics of Quantum Information and Computation\n",
    "\n",
    "- [単一システム](single-systems-ja.ipynb)\n",
    "- [複数システム](multiple-systems-ja.ipynb)\n",
    "- [量子回路](quantum-circuits-ja.ipynb)\n",
    "- [エンタングルメントの動作](entanglement-in-action-ja.ipynb)"
   ]
  }
 ],
 "metadata": {
  "kernelspec": {
   "display_name": "Python 3 (ipykernel)",
   "language": "python",
   "name": "python3"
  },
  "language_info": {
   "codemirror_mode": {
    "name": "ipython",
    "version": 3
   },
   "file_extension": ".py",
   "mimetype": "text/x-python",
   "name": "python",
   "nbconvert_exporter": "python",
   "pygments_lexer": "ipython3",
   "version": "3.12.3"
  }
 },
 "nbformat": 4,
 "nbformat_minor": 5
}
