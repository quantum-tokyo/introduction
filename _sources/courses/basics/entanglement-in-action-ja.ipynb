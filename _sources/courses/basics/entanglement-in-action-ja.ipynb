{
 "cells": [
  {
   "cell_type": "markdown",
   "id": "b2fceee7",
   "metadata": {},
   "source": [
    "# エンタングルメントの動作\n",
    "\n",
    "## はじめに\n",
    "この授業では、基本的に重要な3つの例を見ていきます。最初の2つの例は、 <em>テレポーテーション</em>プロトコルと <em>超高密度符号</em> プロトコルで、主に送信者から受信者への情報の伝送に関係しています。3つ目の例は、 <em>CHSHゲーム</em> と呼ばれる抽象的なゲームで、量子情報における <em>非局所性</em> と呼ばれる現象を説明するものです。(CHSHゲームは必ずしもゲームとして説明されるわけではなく、実験として説明されることが多く、具体的には <em>ベル テスト</em> の一例であり、  <em>CHSH 不等式</em> と呼ばれます。)\n",
    "\n",
    "テレポーテーション、超高密度符号、CHSHゲームは、量子情報がどのように機能するかを説明するための単なる例ではありません（この点でも十分に役立っていますが）。むしろ、量子情報の基盤となる石のようなものです。3 つの例すべてでエンタングルメントが 重要な役割を果たしているため、この授業では、エンタングルメントの動作を確認し、エンタングルメントが非常に興味深く重要な概念である理由を探ります。これは、このシリーズでエンタングルメントについて探る最初の機会となります。\n",
    "\n",
    "例自体に進む前に、3 つの例すべてに関連するいくつかの予備的なコメントを述べておきます。"
   ]
  },
  {
   "cell_type": "markdown",
   "id": "647b9527",
   "metadata": {},
   "source": [
    "### アリスとボブ\n",
    "\n",
    "<em>アリス</em> と <em>ボブ</em> は、伝統的に、システム、プロトコル、ゲーム、および情報の交換を伴うその他の相互作用における仮想的な存在やエージェントに付けられた名前です。一般的に人間に付けられる名前ですが、抽象化されたものであり、必ずしも実際の人間ではないことを理解する必要があります。アリスとボブは複雑な計算を実行することが期待される場合もあります。\n",
    "\n",
    "これらの名前は、1970年代に暗号技術の文脈で初めて使われましたが、それ以来、この慣習はより広く一般的になっています。アイデアは単純に、 (少なくとも世界の一部の地域では) 文字 A と B で始まる一般的な名前であるということです。また、簡潔にするために、アリスを「her」、ボブを「him」という代名詞で呼ぶのも非常に便利です。\n",
    "\n",
    "デフォルトでは、アリスとボブは異なる場所にいると想像されます。彼らは、登場する文脈によって、異なる目標や行動をとることがあります。例えば、情報の伝達を意味する <em>コミュニケーション</em> では、送信者をアリス、受信者をボブと呼びます。一般的に、アリスとボブは典型的には協力し合っていることが多いですが、他の場面では競争していたり、異なる目標を持っていて一貫性があったり調和していなかったりするかもしれません。こうしたことは、その場の状況に応じて明確にしなければなりません。\n",
    "\n",
    "必要に応じて、 <em>チャーリー</em> や <em>ダイアン</em> などの追加キャラクターを登場させることもできます。その他、盗聴者の <em>イブ</em> や悪意を持った人物の <em>マロリー</em> など、さまざまなペルソナを表す他の名前も使用されることがあります。\n",
    "\n",
    "アリスとボブは、この授業で説明する 3 つの例すべてに登場し、以降の授業でも時折登場します。\n",
    "\n",
    "### リソースとしてのエンタングルメント\n",
    "\n",
    "エンタングルメントについて、いくつかの予備的なコメントをしておきます。\n",
    "\n",
    "レッスン2の2量子ビットのエンタングルした量子状態の例を思い出してください：\n",
    "\n",
    "$$\n",
    "\\vert \\phi^+ \\rangle =\n",
    "\\frac{1}{\\sqrt{2}} \\vert 00\\rangle + \\frac{1}{\\sqrt{2}} \\vert 11\\rangle.\n",
    "\\tag{1}\n",
    "$$\n",
    "\n",
    "これは 4 つのベル状態の 1 つであり、エンタングルした量子状態の典型的な例として見なされることがよくあります。\n",
    "\n",
    "また、2ビットの確率的な状態のこの例もありました：\n",
    "\n",
    "$$\n",
    "\\frac{1}{2} \\vert 00 \\rangle + \\frac{1}{2} \\vert 11 \\rangle.\n",
    "\\tag{2}\n",
    "$$\n",
    "\n",
    "それは、ある意味で、エンタングルした量子状態 $(1)$ に似ています。これは、2 つのビットが相関している確率的な状態を表しますが、エンタングルしてはいません。エンタングルメントは、本質的に定義上、独自の量子現象です。簡単に言えば、エンタングルメントは <em>非古典的な</em> 量子相関を指します。\n",
    "\n",
    "残念ながら、エンタングルメントを非古典的な量子相関として定義することは、直感的なレベルではやや満足のいくものではありません。エンタングルメントとは何か、何が特別なのかを直感的な言葉で正確に説明するのが実際にはかなり難しいのは、このためかもしれません。\n",
    "\n",
    "エンタングルメントの典型的な説明では、2つの状態 $(1)$ と $(2)$ を意味のある方法で区別することができないことがよくあります。例えば、2つのもつれた量子ビットの一方を測定すると、もう一方の量子ビットの状態も瞬時に影響を受けるとか、2つの量子ビットの状態を別々に記述できないとか、2つの量子ビットが互いの記憶を保持しているなどと言われることもあります。しかし、なぜエンタングルしていない状態 $(2)$ ではそうではないのでしょうか？この状態によって表される2つのビットは密接に繋がっており、それぞれが文字通りの意味でもう一方のビットを完全に記憶しています。しかし、それにもかかわらず、エンタングルされていないのです。\n",
    "\n",
    "エンタングルメントを特別なものにし、状態 $(1)$ と状態 $(2)$ を非常に異なるものとして説明する一つの方法は、エンタングルメントを使って何ができるか、あるいはエンタングルメントのために何が起こるか説明することです。この説明は、ベクトルを使って状態に関する知識をどう表現するかの判断を超えています。この授業で取り上げる3つの例はすべて状態 $(1)$ でできることで、状態 $(2)$ を含む <em>全ての</em> 古典的な相関のある状態ではできないことを説明しているという点で、この性質を備えています。\n",
    "\n",
    "実際、量子情報と計算の研究では、エンタングルメントをさまざまなタスクを達成するためのリソースと見なすのが一般的です。このような場合、状態 $(1)$ はエンタングルメントの 1 つの <em>単位</em> を表していると見なされ、これを <em>eビット</em> と呼びます。 (「e」は「エンタングルメント」または「もつれ」を表します。状態 $(1)$ が 2 つの量子ビットの状態であることは事実ですが、それが表すエンタングルメントの量は 1 つの eビットです。)\n",
    "\n",
    "ちなみに、確率的状態 $(2)$ をリソース、つまり、 <em>共有されたランダム性</em> の 1 ビットとみなすこともできます。例えば、暗号化において、ランダムなビットを誰かと共有し（そのビットが何であるかは誰も知らないという前提で）、暗号化のための秘密鍵（または秘密鍵の一部）として使用することは、非常に有用です。しかし、この授業では、エンタングルメントに焦点を当て、エンタングルメントを使ってできることを紹介します。\n",
    "\n",
    "用語の説明として、アリスとボブが <em>eビットを共有する</em> と言うとき、アリスは $\\mathsf{A}$ という名前の量子ビットを持ち、ボブは $\\mathsf{B}$  という名前の量子ビットを持っていて、このペア $(\\mathsf{A},\\mathsf{B})$ は量子状態 $(1)$ であるという意味です。 もちろん、量子ビットに別の名前をつけることもできますが、この授業では、わかりやすくするために、これらの名前を使うことにします。\n",
    "\n",
    "\n"
   ]
  },
  {
   "cell_type": "markdown",
   "id": "e05110ac",
   "metadata": {},
   "source": [
    "## 1. テレポーテーション\n",
    "\n",
    "量子テレポーテーションとは、送信者（アリス）が受信者（ボブ）に量子ビットを送信する際に、2ビットの古典通信と1つの量子状態（eビット）を共有するプロトコルです。*テレポーテーション*という名称は、未来的なプロセスで物質をある場所から別の場所に運ぶというSFの概念を連想させるものですが、量子テレポーテーションでは物質はテレポートされず、実際にテレポートされるのは量子情報であることを理解する必要があります。"
   ]
  },
  {
   "cell_type": "markdown",
   "id": "56d6ff2f",
   "metadata": {},
   "source": [
    "テレポーテーションの設定は次のとおりです。\n",
    "\n",
    "アリスとボブはeビットを共有していると仮定します：アリスが量子ビット $\\mathsf{A}$ を持ち、ボブが量子ビット $\\mathsf{B}$ を持ち、ペア $(\\mathsf{A},\\mathsf{B})$ は $\\vert\\phi^+\\rangle$ の状態にあります。例えば、アリスとボブは過去に同じ場所にいて、状態 $\\vert \\phi^+ \\rangle$ の量子ビット $\\mathsf{A}$　 と $\\mathsf{B}$ を用意し、それぞれが量子ビットを持って、それぞれの道を進んだという状況かもしれません。あるいは、この共有されたeビットを確立するために、第三者が関与するプロセスや複雑な分散プロセスなど、別のプロセスが用いられた可能性もあります。ただし、これらの詳細の環境は、テレポーテーション・プロトコルそのものには含まれていません。\n",
    "\n",
    "アリスは、ボブに送信したい第3の量子ビット $\\mathsf{Q}$ を持っています。量子ビット $\\mathsf{Q}$ の状態は、アリスとボブにとって *未知* であると考えられ、それについての仮定はされません。つまり、例えば、量子ビット $\\mathsf{Q}$ は、アリスもボブもアクセスできない1つ以上の他の系とエンタングルしているかもしれません。アリスが量子ビット $\\mathsf{Q}$ をボブに送信したいということは、他の系と $\\mathsf{Q}$ の相関がどうであれ、アリスがボブに、プロトコルの開始時にアリスが持っていたのと同じ状態 $\\mathsf{Q}$ の量子ビットを持たせたいということです。つまり、まるでアリスからボブに $\\mathsf{Q}$ を物理的に渡したかのようにしたいということです。\n",
    "\n",
    "もちろん、アリスが量子ビット $\\mathsf{Q}$ をボブに物理的に送り、 $\\mathsf{Q}$ が転送中に変化したり妨害されたりせずにボブに届くと仮定すれば、アリスとボブのタスクは達成されるものと考えることができます。しかし、テレポーテーションの設定では、前提として、アリスはボブに $\\mathsf{Q}$ を物理的に送ることはできません。ただし、古典的な情報をボブに送ることはできます。\n",
    "\n",
    "これらは、様々な場面で合理的な仮定です。例えば、アリスがボブの正確な位置を知らなかったり、二人の間の距離が大きく離れていたりする場合、現在のまたは予測可能な未来の技術を使っても物理的に量子ビットを送ることは、控えめに言っても困難です。しかし、私たちが日常的に経験しているように、このような状況で古典的な情報伝達は非常に簡単です。\n",
    "\n",
    "ここで、アリスとボブは、共有のeビットを使わずに、タスクを達成できるだろうか、と考える人がいるかもしれません。つまり、古典的な通信だけで量子ビットを伝送する方法はあるでしょうか？答えは「ノー」です。古典的な通信だけでは量子情報を伝送することはできません。このことは、本シリーズの第3回で取り上げた基本的な量子情報理論を使って証明することはそれほど難しくありませんが、とりあえず、古典通信だけで量子ビットを伝送する可能性を排除する直感的な方法として、複製不可能定理を考えてみましょう。\n",
    "\n",
    "古典的な通信だけで量子情報を送信する方法があったとします。古典的な情報はコピーやブロードキャストが容易であるため、アリスからボブへの古典的な通信は、第二の受信者（仮にチャーリー）が受信する可能性があります。もしチャーリーがボブと同じ古典通信を受信したら、彼は量子ビットのコピー $\\mathsf{Q}$ を得ることができるのではないでしょうか？これは $\\mathsf{Q}$ が複製されることを意味しますが、複製不可能定理によるとこれは、不可能であることが既に分かっています。よって、古典的な通信だけでは量子情報を送ることはできない、という結論になります。\n",
    "\n",
    "しかし、アリスとボブがeビットを共有するという前提があると、アリスとボブはタスクを遂行することが可能になります。これこそが、量子テレポーテーション・プロトコルです。"
   ]
  },
  {
   "cell_type": "markdown",
   "id": "eea9db66",
   "metadata": {},
   "source": [
    "### 1.1 プロトコル\n",
    "\n",
    "下の図は、テレポーテーション プロトコルを説明する量子回路図です：\n",
    "\n",
    "![Teleportation circuit](images/entanglement-in-action/teleportation.png)\n",
    "\n",
    "この図は、アリスとボブの分離が描かれていて、斜めの2本の線がアリスからボブに送られる古典ビットを表している点で若干様式化されていますが、それ以外は普通の量子回路図です。\n",
    "\n",
    "つまり、テレポーテーションのプロトコルは次のようなものです：\n",
    "\n",
    "1. アリスは、 $\\mathsf{A}$ を制御、$\\mathsf{Q}$ をターゲットとしてペア $(\\mathsf{A},\\mathsf{Q})$ に対して制御NOT演算を行い、 $\\mathsf{Q}$ に対してアダマール演算を実行します。\n",
    "\n",
    "2. その後、アリスは $\\mathsf{A}$ と $\\mathsf{Q}$ の両方を、標準基底で測定し、古典的な結果をボブに送信します。ここで、 $\\mathsf{A}$ の測定結果を $a$ 、$\\mathsf{Q}$ の測定の結果を $b$ と呼ぶことにします。\n",
    "\n",
    "3. ボブはアリスから $a$ と$b$ を受け取り、このビットの値によって、以下の演算を行います。\n",
    "\n",
    "    - $a = 1$ の場合、ボブは量子ビット $\\mathsf{B}$ にビットフリップ (または $X$ ゲート) を実行します。\n",
    "    - $b = 1$ の場合、ボブは量子ビット $\\mathsf{B}$ に位相反転 (または $Z$ ゲート) を実行します。\n",
    "\n",
    "    つまり、 $ab$ が $00$ 、$01$ 、$10$ 、$11$ のうちのどれかであることを条件として、ボブは量子ビット  $\\mathsf{B}$ に演算 $\\mathbb{1}$ 、 $Z$ 、 $X$ 、$ZX$ のいずれかを実行します。\n",
    "\n",
    "これが、テレポーテーションプロトコルの完全な説明です。以下に示す分析は、これが実行されると、量子ビット $\\mathsf{B}$ が、プロトコルが実行される前の状態 $\\mathsf{Q}$ になることを示しています。これには、他のシステムとの相関関係も含まれます。つまり、このプロトコルは完全な量子ビット通信チャネルを効果的に実装しており、 $\\mathsf{Q}$ の状態が $\\mathsf{B}$ に「テレポート」されると言えます。\n",
    "\n",
    "分析に進む前に、このプロトコルは $\\mathsf{Q}$ の状態の複製に成功していないことに注意してください。これは、複製不可能定理によって不可能であることが既にわかっています。 むしろ、プロトコルが終了すると、量子ビットの状態  $\\mathsf{Q}$ は、実行された測定の結果として、元の値から $\\vert b\\rangle$ に変化します。 また、その過程でeビットが事実上「焼き尽くされた」ことにも注意してください: $\\mathsf{A}$ の状態は  $\\vert a\\rangle$ に変化し、もはや $\\mathsf{B}$ (または他のシステム) とエンタングルしていません。 これはテレポーテーションにかかるコストです。"
   ]
  },
  {
   "cell_type": "markdown",
   "id": "b45242e5",
   "metadata": {},
   "source": [
    "### 1.2 分析\n",
    "\n",
    "テレポーテーションプロトコルを分析するために、量子ビット $\\mathsf{Q}$ が最初に状態 $\\alpha\\vert 0\\rangle + \\beta\\vert 1\\rangle$ にある状況から始めて、上記の回路の動作を一度に 1 ステップずつ調べていきます。これは、 $\\mathsf{Q}$ が他のシステムとエンタングルしている可能性を考えていないため、最も一般的な状況ではありませんが、この単純なケースから始めると、分析が明確になります。以下では、単純なケースの分析に続いて、より一般的なケースについて説明します。\n",
    "\n",
    "具体的には、次の図で示される時点での量子ビット $(\\mathsf{B},\\mathsf{A},\\mathsf{Q})$ の状態を考えます：\n",
    "\n",
    "![Teleportation circuit time-steps](images/entanglement-in-action/teleportation-time-steps.png)\n",
    "\n",
    "量子ビット $\\mathsf{Q}$ が状態 $\\alpha\\vert 0\\rangle + \\beta\\vert 1\\rangle$ でプロトコルを開始すると仮定すると、プロトコルの開始時の 3 つの量子ビット $(\\mathsf{B},\\mathsf{A},\\mathsf{Q})$の状態は、次のようになります。\n",
    "\n",
    "$$\n",
    "\\vert \\pi_0 \\rangle\n",
    "= \\vert \\phi^+\\rangle \\otimes\n",
    "\\bigl(\\alpha\\vert 0\\rangle + \\beta\\vert 1\\rangle \\bigr)\n",
    "= \\frac{\\alpha \\vert 000 \\rangle + \\alpha \\vert 110\\rangle + \\beta \\vert 001\\rangle + \\beta \\vert 111\\rangle}{\\sqrt{2}}.\n",
    "$$\n",
    "\n",
    "実行される最初のゲートは制御NOT ゲートで、状態 $\\vert\\pi_0\\rangle$ を次のように変換します。\n",
    "\n",
    "$$\n",
    "\\vert \\pi_1 \\rangle  = \\frac{\\alpha \\vert 000 \\rangle + \\alpha \\vert 110\\rangle + \\beta \\vert 011\\rangle + \\beta \\vert 101\\rangle}{\\sqrt{2}}.\n",
    "$$\n",
    "\n",
    "次に、アダマールゲートが適用され、状態 $\\vert\\pi_1\\rangle$ を次のように変換します。\n",
    "\n",
    "$$\n",
    "\\begin{aligned}\n",
    "\\vert\\pi_2\\rangle\n",
    "& =\n",
    "\\frac{\\alpha \\vert 00\\rangle \\vert + \\rangle + \\alpha \\vert 11\\rangle\\vert +\\rangle + \\beta \\vert 01\\rangle\\vert -\\rangle + \\beta \\vert 10\\rangle\\vert -\\rangle}{\\sqrt{2}}\\\\\n",
    "& = \\frac{\\alpha \\vert 000 \\rangle\n",
    "+ \\alpha \\vert 001 \\rangle\n",
    "+ \\alpha \\vert 110 \\rangle\n",
    "+ \\alpha \\vert 111 \\rangle\n",
    "+ \\beta \\vert 010 \\rangle\n",
    "- \\beta \\vert 011 \\rangle\n",
    "+ \\beta \\vert 100 \\rangle\n",
    "- \\beta \\vert 101 \\rangle}{2}.\n",
    "\\end{aligned}\n",
    "$$\n",
    "\n",
    "テンソル積の多重線形性を利用して、この状態を代わりに次のように書くことができます：\n",
    "\n",
    "$$\n",
    "\\begin{aligned}\n",
    "\\vert\\pi_2\\rangle = \\quad\n",
    "& \\frac{1}{2} \\bigl(\\alpha\\vert 0 \\rangle + \\beta \\vert 1\\rangle \\bigr)\\vert 00\\rangle \\\\[1mm]\n",
    "+ & \\frac{1}{2} \\bigl(\\alpha\\vert 0 \\rangle - \\beta \\vert 1\\rangle \\bigr)\\vert 01\\rangle \\\\[1mm]\n",
    "+ & \\frac{1}{2} \\bigl(\\alpha\\vert 1 \\rangle + \\beta \\vert 0\\rangle \\bigr)\\vert 10\\rangle \\\\[1mm]\n",
    "+ & \\frac{1}{2} \\bigl(\\alpha\\vert 1 \\rangle - \\beta \\vert 0\\rangle \\bigr)\\vert 11\\rangle.\n",
    "\\end{aligned}\n",
    "$$\n",
    "\n",
    "アリスからボブへの通信がまだ行われていないにもかかわらず、左端の量子ビット (つまり、下の量子ビット $\\mathsf{B}$ ) が数字 $\\alpha$ と $\\beta$ に依存しているように見えるため、一見すると、何か魔法のようなことが起こったように見えるかもしれません。実際、それは錯覚です。スカラーはテンソル積を介して自由に動くため、 $\\alpha$ と $\\beta$ は他の量子ビットよりも左端の量子ビットに多かれ少なかれ関連しています。代数を使用して、測定の分析を容易にするために状態を表現しただけです。\n",
    "\n",
    "ここで、アリスの標準基底測定の結果の4つの考えられる場合について、その結果ボブが行う行動も合わせて考えてみましょう。\n",
    "\n",
    "<!-- ::: q-block.tabs -->\n",
    "\n",
    "### 考えられる結果\n",
    "\n",
    "<!-- ::: tab -->\n",
    "\n",
    "### 00\n",
    "\n",
    "アリスの測定結果は、以下の確率で $ab = 00$ です。\n",
    "\n",
    "$$\n",
    "\\Biggl\\| \\frac{1}{2}\\bigl(\\alpha \\vert 0\\rangle + \\beta\\vert 1\\rangle\\bigr) \\Biggr\\|^2\n",
    "= \\frac{\\vert\\alpha\\vert^2 + \\vert\\beta\\vert^2}{4} = \\frac{1}{4},\n",
    "$$\n",
    "\n",
    "この場合、 $(\\mathsf{B},\\mathsf{A},\\mathsf{Q})$ の状態は次のようになります。\n",
    "\n",
    "$$\n",
    "\\bigl( \\alpha \\vert 0 \\rangle + \\beta \\vert 1 \\rangle \\bigr) \\vert 00 \\rangle.\n",
    "$$\n",
    "\n",
    "この場合、ボブは何もしないので、これがこの 3 つの量子ビットの最終状態です。\n",
    "\n",
    "<!-- ::: tab -->\n",
    "\n",
    "### 01\n",
    "\n",
    "アリスの測定結果は以下の確率で $ab = 01$ です。\n",
    "\n",
    "$$\n",
    "\\Biggl\\| \\frac{1}{2}\\bigl(\\alpha \\vert 0\\rangle - \\beta\\vert 1\\rangle\\bigr) \\Biggr\\|^2\n",
    "= \\frac{\\vert\\alpha\\vert^2 + \\vert{-\\beta}\\vert^2}{4} = \\frac{1}{4},\n",
    "$$\n",
    "\n",
    "この場合、 $(\\mathsf{B},\\mathsf{A},\\mathsf{Q})$ の状態は次のようになります。\n",
    "\n",
    "$$\n",
    "\\bigl( \\alpha \\vert 0 \\rangle - \\beta \\vert 1 \\rangle \\bigr) \\vert 01 \\rangle.\n",
    "$$\n",
    "\n",
    "この場合、ボブは $Z$ ゲートを $\\mathsf{B}$ に適用することで、 $(\\mathsf{B},\\mathsf{A},\\mathsf{Q})$ を以下の状態にします。\n",
    "\n",
    "$$\n",
    "\\bigl( \\alpha \\vert 0 \\rangle + \\beta \\vert 1 \\rangle \\bigr) \\vert 01 \\rangle.\n",
    "$$\n",
    "\n",
    "<!-- ::: tab -->\n",
    "\n",
    "### 10\n",
    "\n",
    "アリスの測定結果は、以下の確率で $ab = 10$ です。\n",
    "\n",
    "$$\n",
    "\\Biggl\\| \\frac{1}{2}\\bigl(\\alpha \\vert 1\\rangle + \\beta\\vert 0\\rangle\\bigr) \\Biggr\\|^2\n",
    "= \\frac{\\vert\\alpha\\vert^2 + \\vert\\beta\\vert^2}{4} = \\frac{1}{4},\n",
    "$$\n",
    "\n",
    "この場合、 $(\\mathsf{B},\\mathsf{A},\\mathsf{Q})$ の状態は次のようになります。\n",
    "\n",
    "$$\n",
    "\\bigl( \\alpha \\vert 1 \\rangle + \\beta \\vert 0 \\rangle \\bigr) \\vert 10 \\rangle.\n",
    "$$\n",
    "\n",
    "この場合、ボブは $X$ ゲートを量子ビット $\\mathsf{B}$ に適用することで、$(\\mathsf{B},\\mathsf{A},\\mathsf{Q})$ を以下の状態にします。\n",
    "\n",
    "$$\n",
    "\\bigl( \\alpha \\vert 0 \\rangle + \\beta \\vert 1 \\rangle \\bigr) \\vert 10 \\rangle.\n",
    "$$\n",
    "\n",
    "<!-- ::: tab -->\n",
    "\n",
    "### 11\n",
    "\n",
    "アリスの測定結果は、以下の確率で $ab = 11$ です。\n",
    "\n",
    "$$\n",
    "\\Biggl\\| \\frac{1}{2}\\bigl(\\alpha \\vert 1\\rangle - \\beta\\vert 0\\rangle\\bigr) \\Biggr\\|^2\n",
    "= \\frac{\\vert\\alpha\\vert^2 + \\vert{-\\beta}\\vert^2}{4} = \\frac{1}{4},\n",
    "$$\n",
    "\n",
    "この場合、 $(\\mathsf{B},\\mathsf{A},\\mathsf{Q})$ の状態は次のようになります。\n",
    "\n",
    "$$\n",
    "\\bigl( \\alpha \\vert 1 \\rangle - \\beta \\vert 0 \\rangle \\bigr) \\vert 11 \\rangle.\n",
    "$$\n",
    "\n",
    "この場合、ボブは量子ビット $\\mathsf{B}$ に対して操作 $ZX$ を実行しすることで、$(\\mathsf{B},\\mathsf{A},\\mathsf{Q})$ を以下の状態にします。\n",
    "\n",
    "$$\n",
    "\\bigl( \\alpha \\vert 0 \\rangle + \\beta \\vert 1 \\rangle \\bigr) \\vert 11 \\rangle.\n",
    "$$\n",
    "\n",
    "<!-- ::: -->\n",
    "\n",
    "<!-- ::: -->\n",
    "\n",
    "4つの場合のすべてで、ボブの量子ビット $\\mathsf{B}$ は、プロトコルの最後で状態 $\\alpha\\vert 0\\rangle + \\beta\\vert 1\\rangle$ であることがわかります。これは、量子ビット $\\mathsf{Q}$ の最初の状態と同じです。これが私たちが示したかったことです: つまり、テレポーテーションプロトコルは全ての場合に正しく機能しました。\n",
    "\n",
    "また、量子ビット $\\mathsf{A}$ と $\\mathsf{Q}$ は、アリスが取得した測定結果に応じて、それぞれ確率 $1/4$ で4 つの状態 $\\vert 00\\rangle$ 、 $\\vert 01\\rangle$ 、 $\\vert 10\\rangle$ 、 $\\vert 11\\rangle$ のいずれかになることもわかります。つまり、すでに上で示唆されているように、プロトコルの最後で、アリスが持っている状態は、 $\\alpha \\vert 0\\rangle + \\beta \\vert 1\\rangle$ ではなくなります。これは、複製不可能定理によって期待されていることです。\n",
    "\n",
    "また、アリスの測定では、状態 $\\alpha \\vert 0\\rangle + \\beta \\vert 1\\rangle$ に関する情報がまったく得られないことにも注意してください。つまり、 $\\alpha$ と $\\beta$ に関係なく、4つの可能な測定結果の確率はそれぞれ $1/4$ です。これは、テレポーテーションが正しく機能するためにも不可欠です。未知の量子状態から情報を抽出すると、通常は必然的に量子状態が乱されますが、ここでは、ボブは乱されることなく状態を取得します。\n",
    "\n",
    "ここで、量子ビット $\\mathsf{Q}$ が最初に別のシステム ( $\\mathsf{R}$ と名付けます) とエンタングルしている、より一般的な状況を考えてみましょう。上記と同様の分析により、テレポーテーションプロトコルがこのより一般的なケースで正しく機能することが明らかになります。プロトコルの最後に、ボブが保持する量子ビット $\\mathsf{B}$ は、 $\\mathsf{Q}$ がプロトコルの開始時にあったのと同じように $\\mathsf{R}$ とエンタングルします。まるでアリスがボブに $\\mathsf{Q}$ を渡したかのように。\n",
    "\n",
    "これを証明するために、ペア $(\\mathsf{Q},\\mathsf{R})$ の状態が最初に次の形の量子状態ベクトルによって与えられると仮定します。\n",
    "\n",
    "$$\n",
    "\\alpha \\vert 0 \\rangle_{\\mathsf{Q}} \\vert \\gamma_0\\rangle_{\\mathsf{R}}\n",
    "+ \\beta \\vert 1 \\rangle_{\\mathsf{Q}} \\vert \\gamma_1\\rangle_{\\mathsf{R}},\n",
    "$$\n",
    "\n",
    "ここで $\\vert\\gamma_0\\rangle$ と $\\vert\\gamma_1\\rangle$ は単位ベクトル、 $\\alpha$ と $\\beta$ は  $\\vert \\alpha \\vert^2 + \\vert\\beta\\vert^2 = 1$ を満たす複素数です。ペア $(\\mathsf{Q},\\mathsf{R})$ の任意の量子状態ベクトルは、上記のように表現できます。\n",
    "\n",
    "次の図は、前と同じ回路に、システム $\\mathsf{R}$ (図の上部にある量子ビットの集合で表され、何も起こらない系)を追加したものです。\n",
    "\n",
    "![Teleportation with an entangled input](images/entanglement-in-action/teleportation-with-entanglement.png)\n",
    "\n",
    "テレポーテーションプロトコルを実行したときに何が起こるかを分析するためには、レッスン2で説明したのと同じように、システムを順列化することが有効です。具体的には、 $(\\mathsf{B},\\mathsf{A},\\mathsf{Q},\\mathsf{R})$ ではなく、 $(\\mathsf{B},\\mathsf{R},\\mathsf{A},\\mathsf{Q})$ という順序でシステムの状態を考えます。この後の式では、わかりやすくするために、システムの名前を添え字として記載します。\n",
    "\n",
    "プロトコルの開始時、これらのシステムの状態は次のとおりです：\n",
    "\n",
    "$$\n",
    "\\begin{aligned}\n",
    "\\vert \\pi_0\\rangle\n",
    "& = \\vert \\phi^+\\rangle_{\\mathsf{BA}} \\otimes \\bigl(\n",
    "  \\alpha \\vert 0\\rangle_{\\mathsf{Q}} \\vert\\gamma_0\\rangle_{\\mathsf{R}}\n",
    "+ \\beta \\vert 1\\rangle_{\\mathsf{Q}}\\vert\\gamma_1\\rangle_{\\mathsf{R}}\\bigr)\\\\[1mm]\n",
    "& = \\frac{\n",
    "  \\alpha \\vert 0\\rangle_{\\mathsf{B}} \\vert \\gamma_0 \\rangle_{\\mathsf{R}} \\vert 00 \\rangle_{\\mathsf{AQ}}\n",
    "+ \\alpha \\vert 1\\rangle_{\\mathsf{B}} \\vert \\gamma_0 \\rangle_{\\mathsf{R}} \\vert 10 \\rangle_{\\mathsf{AQ}}\n",
    "+ \\beta \\vert 0\\rangle_{\\mathsf{B}} \\vert \\gamma_1 \\rangle_{\\mathsf{R}} \\vert 01 \\rangle_{\\mathsf{AQ}}\n",
    "+ \\beta \\vert 1\\rangle_{\\mathsf{B}} \\vert \\gamma_1 \\rangle_{\\mathsf{R}} \\vert 11 \\rangle_{\\mathsf{AQ}}}{\\sqrt{2}}.\n",
    "\\end{aligned}\n",
    "$$\n",
    "\n",
    "最初に制御NOT ゲートが適用され、この状態が次のように変換されます。\n",
    "\n",
    "$$\n",
    "\\vert\\pi_1\\rangle =\n",
    "\\frac{\n",
    "  \\alpha \\vert 0\\rangle_{\\mathsf{B}} \\vert\\gamma_0 \\rangle_{\\mathsf{R}} \\vert 00\\rangle_{\\mathsf{AQ}}\n",
    "+ \\alpha \\vert 1\\rangle_{\\mathsf{B}} \\vert\\gamma_0 \\rangle_{\\mathsf{R}} \\vert 10\\rangle_{\\mathsf{AQ}}\n",
    "+ \\beta \\vert 0\\rangle_{\\mathsf{B}} \\vert\\gamma_1 \\rangle_{\\mathsf{R}} \\vert 11\\rangle_{\\mathsf{AQ}}\n",
    "+ \\beta \\vert 1\\rangle_{\\mathsf{B}} \\vert\\gamma_1 \\rangle_{\\mathsf{R}} \\vert 01\\rangle_{\\mathsf{AQ}}}{\\sqrt{2}}.\n",
    "$$\n",
    "\n",
    "次に、アダマール ゲートが適用されます。上のより簡単な場合の分析と同様に、結果の状態を拡張および単純化すると、結果の状態は次の式になります：\n",
    "\n",
    "$$\n",
    "\\begin{aligned}\n",
    "\\vert \\pi_2 \\rangle = \\quad\n",
    "  & \\frac{1}{2} \\bigl(\n",
    "   \\alpha \\vert 0\\rangle_{\\mathsf{B}} \\vert\\gamma_0\\rangle_{\\mathsf{R}}\n",
    "  + \\beta \\vert 1\\rangle_{\\mathsf{B}} \\vert\\gamma_1\\rangle_{\\mathsf{R}}\n",
    "  \\bigr) \\vert 00\\rangle_{\\mathsf{AQ}}\\\\[1mm]\n",
    "  + & \\frac{1}{2} \\bigl(\n",
    "   \\alpha \\vert 0\\rangle_{\\mathsf{B}} \\vert\\gamma_0\\rangle_{\\mathsf{R}}\n",
    "  - \\beta \\vert 1\\rangle_{\\mathsf{B}} \\vert\\gamma_1\\rangle_{\\mathsf{R}}\n",
    "  \\bigr) \\vert 01\\rangle_{\\mathsf{AQ}}\\\\[1mm]\n",
    "  + & \\frac{1}{2} \\bigl(\n",
    "   \\alpha \\vert 1\\rangle_{\\mathsf{B}} \\vert\\gamma_0\\rangle_{\\mathsf{R}}\n",
    "  + \\beta \\vert 0\\rangle_{\\mathsf{B}} \\vert\\gamma_1\\rangle_{\\mathsf{R}}\n",
    "  \\bigr) \\vert 10\\rangle_{\\mathsf{AQ}}\\\\[1mm]\n",
    "  + & \\frac{1}{2} \\bigl(\n",
    "   \\alpha \\vert 1\\rangle_{\\mathsf{B}} \\vert\\gamma_0\\rangle_{\\mathsf{R}}\n",
    "  - \\beta \\vert 0\\rangle_{\\mathsf{B}} \\vert\\gamma_1\\rangle_{\\mathsf{R}}\n",
    "  \\bigr) \\vert 11\\rangle_{\\mathsf{AQ}}.\n",
    "\\end{aligned}\n",
    "$$\n",
    "\n",
    "先ほどと同じように、アリスのありうる4つの測定結果と、それに対応するボブの実行を考えると、プロトコルの終了時に、 $(\\mathsf{B},\\mathsf{R})$ の状態は常に次のようになります。\n",
    "\n",
    "$$\n",
    "\\alpha \\vert 0 \\rangle \\vert \\gamma_0\\rangle + \\beta \\vert 1 \\rangle \\vert \\gamma_1\\rangle.\n",
    "$$\n",
    "\n",
    "非公式に言えば、上の単純なケースと比較して、分析結果は大きく変わりません； $\\vert\\gamma_0\\rangle$ と $\\vert\\gamma_1\\rangle$ は、本質的に「一緒に来る」だけです。つまり、テレポーテーションは、量子ビット$\\mathsf{Q}$ の内容を $\\mathsf{B}$ に効果的に伝達し、他のシステムとの相関をすべて保持する、完璧な量子通信路を作ることに成功しました。\n",
    "\n",
    "結局のところ、上の簡単なケースの解析を考えると、これは実は驚くべきことではないのです。その分析が明らかにしたように、私たちは任意の量子状態の量子ビットに対して恒等演算の*ように*振る舞う物理的なプロセスを有しており、それが起こり得る方法はただ一つです。つまり、テレポーテーションが1つの量子ビットに対して正しく機能することが分かれば、プロトコルは完全でノイズのない量子チャネルを効果的に実装していると結論づけることができます。したがって、入力量子ビットが他のシステムとエンタングルしていても正しく機能するはずです。<br>この結論を正しく説明するには、量子情報の一般的な定式化が必要で、本シリーズのユニット3で取り上げますが、ポイントは、線形性によって、より一般的な分析をする必要がなかったということです。"
   ]
  },
  {
   "cell_type": "markdown",
   "id": "f4a6d8a3",
   "metadata": {},
   "source": [
    "### 1.3 さらなる議論\n",
    "\n",
    "ここで、テレポーテーションについて、簡単に結論を述べます。\n",
    "\n",
    "まず、テレポーテーションは量子情報の *応用* ではなく、*量子通信*を行うためのプロトコルであることを理解する必要があります。量子通信が有用である限り有用です。\n",
    "\n",
    "第二に、テレポーテーションが量子情報を伝達する標準的な方法になる日が来るかもしれないと推測することは合理的です。これは、おそらく *エンタングルメント蒸留* と呼ばれるプロセスによるものになるでしょう。これは、ノイズの多い（あるいは不完全な）eビットを、より少ない高品質のeビットに変換するプロセスであり、ノイズのない、またはほぼノイズのないテレポーテーションに使用することができます。エンタングルメント蒸留のプロセスは、直接の量子通信ほどデリケートではないという考え方です。例えば、損失を受け入れることもできるし、プロセスがうまくいかなければ、またやり直せばいいのです。それに対して、実際に通信しようとする量子ビットは、もっと貴重なものなのかもしれません。\n",
    "\n",
    "最後に、テレポーテーションの背後にあるアイデアとその仕組みは、量子情報と量子計算において非常に基本的なものです。量子情報理論の根幹をなすものであり、このアイデアのバリエーションもしばしば登場します。一例として、量子ゲートはテレポーテーションを利用して実装することができますが、初期状態や測定値が異なるため、通信するのではなく、選択した*演算*を適用することになるのです。"
   ]
  },
  {
   "cell_type": "markdown",
   "id": "51062355",
   "metadata": {},
   "source": [
    "### 1.4 Qiskit での実装\n",
    "\n"
   ]
  },
  {
   "cell_type": "code",
   "execution_count": 1,
   "id": "c363a21d-889f-4760-9d0a-1519490c5041",
   "metadata": {},
   "outputs": [],
   "source": [
    "# Required imports\n",
    "\n",
    "from qiskit import QuantumCircuit, QuantumRegister, ClassicalRegister\n",
    "from qiskit_aer import AerSimulator\n",
    "from qiskit.visualization import plot_histogram\n",
    "from qiskit.result import marginal_distribution\n",
    "from qiskit.circuit.library import UGate\n",
    "from numpy import pi, random"
   ]
  },
  {
   "cell_type": "markdown",
   "id": "2fd94935-24df-4aba-a815-e3469d4fad07",
   "metadata": {},
   "source": [
    "ここでは、テレポーテーションプロトコルの量子回路実装を紹介します。"
   ]
  },
  {
   "cell_type": "code",
   "execution_count": 2,
   "id": "19c3f333",
   "metadata": {
    "tags": []
   },
   "outputs": [
    {
     "data": {
      "image/png": "[encoded data removed]",
      "text/plain": [
       "<Figure size 1193.19x451.5 with 1 Axes>"
      ]
     },
     "metadata": {},
     "output_type": "display_data"
    }
   ],
   "source": [
    "qubit = QuantumRegister(1, \"Q\")\n",
    "ebit0 = QuantumRegister(1, \"A\")\n",
    "ebit1 = QuantumRegister(1, \"B\")\n",
    "a = ClassicalRegister(1, \"a\")\n",
    "b = ClassicalRegister(1, \"b\")\n",
    "\n",
    "protocol = QuantumCircuit(qubit, ebit0, ebit1, a, b)\n",
    "\n",
    "# Prepare ebit used for teleportation\n",
    "protocol.h(ebit0)\n",
    "protocol.cx(ebit0, ebit1)\n",
    "protocol.barrier()\n",
    "\n",
    "# Alice's operations\n",
    "protocol.cx(qubit, ebit0)\n",
    "protocol.h(qubit)\n",
    "protocol.barrier()\n",
    "\n",
    "# Alice measures and sends classical bits to Bob\n",
    "protocol.measure(ebit0, a)\n",
    "protocol.measure(qubit, b)\n",
    "protocol.barrier()\n",
    "\n",
    "# Bob uses the classical bits to conditionally apply gates\n",
    "with protocol.if_test((a, 1)):\n",
    "    protocol.x(ebit1)\n",
    "with protocol.if_test((b, 1)):\n",
    "    protocol.z(ebit1)\n",
    "\n",
    "display(protocol.draw(\"mpl\"))"
   ]
  },
  {
   "cell_type": "markdown",
   "id": "26be21d3",
   "metadata": {},
   "source": [
    "この回路では、Qiskitの機能のうち、`barrier` 関数と `if_test` 関数という、これまでの授業でまだ見ていない機能をいくつか使っていいます。  `barrier` 関数は、回路図を読みやすくするために視覚的に分離を行うもので、実際のハードウェア上で回路を実行する際には、コンパイルの際にQiskitがバリアを越えて簡略化や最適化を行わないという役割もあります。 `if_test` 関数は、古典ビットやレジスターに依存して条件付きで演算を適用するものです。\n",
    "\n",
    "回路はまず $(\\mathsf{A},\\mathsf{B})$ を $\\vert \\phi^+\\rangle$ 状態に初期化し（プロトコル自体にはないですが）、続いてアリスの演算、アリスの測定、ボブの演算の順で行います。"
   ]
  },
  {
   "cell_type": "markdown",
   "id": "fed0b9bd",
   "metadata": {},
   "source": [
    "プロトコルが正しく動作することを確認するために、初期化された $|0\\rangle$ 状態の $\\mathsf{Q}$ に対してランダムに生成された単一量子ビットゲートを適用し、テレポートするためのランダムな量子状態ベクトルを得ます。プロトコルを実行した後に、そのゲートの逆（すなわち随伴転置）を $\\mathsf{B}$ に適用することで、状態がテレポートされたことを確認できます。具体的には、状態が $|0\\rangle$ に戻ったかを測定します。\n",
    "\n",
    "まず、ランダムにユニタリな単一量子ビットゲートを選択します。"
   ]
  },
  {
   "cell_type": "code",
   "execution_count": 3,
   "id": "d0d033f6-17be-4c3d-b2ec-cab6165c9361",
   "metadata": {},
   "outputs": [
    {
     "data": {
      "text/plain": [
       "array([[ 0.93413463+0.j        ,  0.22680354+0.27559506j],\n",
       "       [-0.04033827+0.35463405j,  0.78375333-0.50826984j]])"
      ]
     },
     "metadata": {},
     "output_type": "display_data"
    }
   ],
   "source": [
    "random_gate = UGate(\n",
    "    theta=random.random() * 2 * pi,\n",
    "    phi=random.random() * 2 * pi,\n",
    "    lam=random.random() * 2 * pi,\n",
    ")\n",
    "\n",
    "display(random_gate.to_matrix())"
   ]
  },
  {
   "cell_type": "markdown",
   "id": "a0c0bb6b-33d9-411a-a0ae-3045c15151a1",
   "metadata": {},
   "source": [
    "次に、テスト用の新しい回路を作成します。この回路は、まずランダムゲートを $\\mathsf{Q}$ に適用し、その後テレポーテーション回路を実行し、最後にランダムゲートの逆を量子ビット $\\mathsf{B}$ に適用して測定します。測定結果は確実に $|0\\rangle$ となるはずです。"
   ]
  },
  {
   "cell_type": "code",
   "execution_count": 4,
   "id": "3ad88bd3",
   "metadata": {
    "tags": []
   },
   "outputs": [
    {
     "data": {
      "image/png": "[encoded data removed]",
      "text/plain": [
       "<Figure size 1929.98x535.111 with 1 Axes>"
      ]
     },
     "metadata": {},
     "output_type": "display_data"
    }
   ],
   "source": [
    "# Create a new circuit including the same bits and qubits used in the\n",
    "# teleportation protocol.\n",
    "\n",
    "test = QuantumCircuit(qubit, ebit0, ebit1, a, b)\n",
    "\n",
    "# Start with the randomly selected gate on Q\n",
    "\n",
    "test.append(random_gate, qubit)\n",
    "test.barrier()\n",
    "\n",
    "# Append the entire teleportation protocol from above.\n",
    "\n",
    "test = test.compose(protocol)\n",
    "test.barrier()\n",
    "\n",
    "# Finally, apply the inverse of the random unitary to B and measure.\n",
    "\n",
    "test.append(random_gate.inverse(), ebit1)\n",
    "\n",
    "result = ClassicalRegister(1, \"Result\")\n",
    "test.add_register(result)\n",
    "test.measure(ebit1, result)\n",
    "\n",
    "display(test.draw(\"mpl\"))"
   ]
  },
  {
   "cell_type": "markdown",
   "id": "68ab3409",
   "metadata": {},
   "source": [
    "最後に、この回路でAerシミュレーターを実行し、出力のヒストグラムをプロットしてみましょう。3つの古典ビットの統計データを見ることができます：一番下/左のビットは常に $0$ であるべきで、これは量子ビット $\\mathsf{Q}$ が $\\mathsf{B}$ へのテレポートに成功したことを示し、一方他の2つのビットはほぼ均一です。"
   ]
  },
  {
   "cell_type": "code",
   "execution_count": 5,
   "id": "26ba6fb2",
   "metadata": {
    "tags": []
   },
   "outputs": [
    {
     "data": {
      "image/png": "[encoded data removed]",
      "text/plain": [
       "<Figure size 640x480 with 1 Axes>"
      ]
     },
     "metadata": {},
     "output_type": "display_data"
    }
   ],
   "source": [
    "result = AerSimulator().run(test).result()\n",
    "statistics = result.get_counts()\n",
    "display(plot_histogram(statistics))"
   ]
  },
  {
   "cell_type": "markdown",
   "id": "73b2ddc0",
   "metadata": {},
   "source": [
    "また、必要であれば、このようにテスト結果の量子ビットにのみフォーカスしてカウントをフィルタリングすることもできます："
   ]
  },
  {
   "cell_type": "code",
   "execution_count": 6,
   "id": "ad317049",
   "metadata": {
    "tags": []
   },
   "outputs": [
    {
     "data": {
      "image/png": "[encoded data removed]",
      "text/plain": [
       "<Figure size 640x480 with 1 Axes>"
      ]
     },
     "metadata": {},
     "output_type": "display_data"
    }
   ],
   "source": [
    "filtered_statistics = marginal_distribution(statistics, [2])\n",
    "display(plot_histogram(filtered_statistics))"
   ]
  },
  {
   "cell_type": "markdown",
   "id": "e067e97e",
   "metadata": {},
   "source": [
    "## 2. 超密度符号\n",
    "\n",
    "超高密度符号は、ある意味でテレポーテーションを補完するプロトコルです。1つの量子ビットを2つの古典ビットで伝送するのではなく（1eビットのエンタングルメントの犠牲を伴って）、1つの量子ビットで2つの古典ビットを伝送します（繰り返しますが、1eビットのエンタングルメントの犠牲を伴って）。\n",
    "\n",
    "具体的には、送信者（アリス）と受信者（ボブ）が1eビットのエンタングルメントを共有するとします。この授業の慣習によれば、これは、アリスが量子ビット $\\mathsf{A}$ を、ボブが量子ビット $\\mathsf{B}$ を持ち、ペア $(\\mathsf{A},\\mathsf{B})$ は $\\vert\\phi^+\\rangle$ の状態にあります。アリスはボブに2つの古典ビット（ $a$  と $b$ とする）を送信したいと思っていて、1量子ビットを送信することでこれを達成しようとします。\n",
    "\n",
    "テレポーテーションが達成する偉業よりも、こちらは面白くないと思うのが普通でしょう。量子ビットを送ることは、古典ビットを送ることよりもはるかに困難であり、1量子ビットの量子通信を2ビットの古典通信と交換し、さらに1eビットを犠牲にする超密度符号は、ほとんど価値がないように思われます。しかし、これは超密度符号が面白くないということを意味するものではなく、間違いなく面白いものです。\n",
    "\n",
    "超密度符号が面白い理由の一つは、この授業のテーマにふさわしく、エンタングルメントを具体的に、（情報理論の文脈では）かなり印象的に使っているからです。量子情報理論において有名な*ホレボの定理*は、共有されたエンタングル状態を用いなければ、1量子ビットを送信して1ビット以上の古典情報を伝達することは不可能であると言っています。(ホレボの定理自体は、これよりもさらに一般化されたものです。正確な記述は専門的で説明が必要ですが、これはその結果の一つです。)つまり、超高密度符号では、量子ビットを送ることで古典的な情報伝達能力を*倍増*させることができるのです。\n",
    "\n",
    "超高密度符号が興味深いもう一つの理由は、テレポーテーションとの密接で補完的な関係であることです。これについては、このセクションの最後で詳しく説明します。"
   ]
  },
  {
   "cell_type": "markdown",
   "id": "eec44ba4",
   "metadata": {},
   "source": [
    "### 2.1 プロトコル\n",
    "\n",
    "次の量子回路図は、超高密度符号のプロトコルを示しています：\n",
    "\n",
    "![Superdense coding circuit](images/entanglement-in-action/superdense-coding.png)\n",
    "\n",
    "つまり、アリスが行うことは次のとおりです。\n",
    "\n",
    "1. アリスは最初に $b=1$ かどうかを確認します。 $b=1$ の場合、彼女は量子ビット $\\mathsf{A}$ に $Z$ ゲートを実行します ( $b=0$ の場合は実行しません)。\n",
    "\n",
    "2. アリスは $a=1$ かどうかを確認します。 $a=1$ の場合、彼女は量子ビット $\\mathsf{A}$ に $X$ ゲートを実行します ( $a=0$ の場合は実行しません)。\n",
    "\n",
    "次に、アリスは自分の量子ビット $\\mathsf{Y}$ をボブに送信します。\n",
    "\n",
    "量子ビット $\\mathsf{Y}$ を受け取ったときにボブは、まず、 $\\mathsf{Y}$ を制御、 $\\mathsf{X}$ をターゲットとして、制御NOT ゲートを実行します。そして、 $\\mathsf{Y}$ にアダマールゲートを適用します。次に、 $\\mathsf{X}$ を測定して $a$ を取得し、 $\\mathsf{Y}$ を測定して $b$ を取得します。どちらの場合も、標準基底で測定します。\n",
    "\n",
    "### 2.2 分析\n",
    "\n",
    "このプロトコルの背後にある考え方は非常に単純です：アリスはどのベル状態をボブと共有したいかを選択し、ボブに自分の量子ビットを送り、ボブはアリスがどのベル状態を選択したかを測定します。\n",
    "\n",
    "つまり、それらは最初に $\\vert\\phi^+\\rangle$ を共有し、ビット $a$ および $b$ に応じて、アリスはこの状態をそのままにしておくか、 $\\mathbb{1}$ 、 $X$ 、 $Z$ 、 $XZ$ のいずれかを量子ビット $\\mathsf{A}$ に適用することによって、この状態を他のベル状態のいずれかにシフトさせます。\n",
    "\n",
    "$$\n",
    "\\begin{aligned}\n",
    "(\\mathbb{1} \\otimes \\mathbb{1}) \\vert \\phi^+ \\rangle  = \\vert \\phi^+\\rangle \\\\\n",
    "(\\mathbb{1} \\otimes Z) \\vert \\phi^+ \\rangle  = \\vert \\phi^-\\rangle \\\\\n",
    "(\\mathbb{1} \\otimes X) \\vert \\phi^+ \\rangle  = \\vert \\psi^+\\rangle \\\\\n",
    "(\\mathbb{1} \\otimes XZ) \\vert \\phi^+ \\rangle  = \\vert \\psi^-\\rangle\n",
    "\\end{aligned}\n",
    "$$\n",
    "\n",
    "ボブの動作は、4つのベル状態に次のような影響を与えます：\n",
    "\n",
    "$$\n",
    "\\begin{aligned}\n",
    "\\vert \\phi^+\\rangle  \\mapsto \\vert 00\\rangle\\\\\n",
    "\\vert \\phi^-\\rangle  \\mapsto \\vert 01\\rangle\\\\\n",
    "\\vert \\psi^+\\rangle  \\mapsto \\vert 10\\rangle\\\\\n",
    "\\vert \\psi^-\\rangle  \\mapsto -\\vert 11\\rangle\\\\\n",
    "\\end{aligned}\n",
    "$$\n",
    "\n",
    "上記は、それぞれの状態へのボブの演算を1つずつ計算することで、直接確認することができます。\n",
    "\n",
    "よって、彼が測定を行うと、アリスがどのベル状態を選択したかを判断することができるのです。プロトコルが正しく動作することを確認するには、それぞれの場合をチェックする必要があります：\n",
    "\n",
    "- $ab = 00$ の場合、ボブが $\\mathsf{A}$ を受け取ったときの $(\\mathsf{B},\\mathsf{A})$ の状態は $\\vert \\phi^+\\rangle$ です。ボブはこの状態を $\\vert 00\\rangle$ に変換し、 $ab = 00$ を取得します。\n",
    "\n",
    "- $ab = 01$ の場合、ボブが $\\mathsf{A}$ を受け取ったときの $(\\mathsf{B},\\mathsf{A})$ の状態は $\\vert \\phi^-\\rangle$ です。ボブはこの状態を $\\vert 01\\rangle$ に変換し、 $ab = 01$ を取得します。\n",
    "\n",
    "- $ab = 10$ の場合、ボブが $\\mathsf{A}$ を受け取ったときの $(\\mathsf{B},\\mathsf{A})$ の状態は $\\vert \\phi^+\\rangle$ です。ボブはこの状態を $\\vert 10\\rangle$ に変換し、 $ab = 10$ を取得します。\n",
    "\n",
    "- $ab = 11$ の場合、ボブが $\\mathsf{A}$ を受け取ったときの $(\\mathsf{B},\\mathsf{A})$ の状態は $\\vert \\phi^+\\rangle$ です。ボブはこの状態を $-\\vert 11\\rangle$ に変換し、 $ab = 11$ を取得します (マイナス 1 の位相係数はここでは影響しません)。"
   ]
  },
  {
   "cell_type": "markdown",
   "id": "b1674880-2884-4b85-9949-27edba446a65",
   "metadata": {},
   "source": [
    "### 2.3 Qiskit での実装\n"
   ]
  },
  {
   "cell_type": "code",
   "execution_count": 7,
   "id": "1b5ff6dd-a612-409d-b6c3-ea4ed8b963ec",
   "metadata": {},
   "outputs": [],
   "source": [
    "# Required imports\n",
    "\n",
    "from qiskit import QuantumCircuit, QuantumRegister, ClassicalRegister\n",
    "from qiskit_aer.primitives import Sampler\n",
    "from qiskit_aer import AerSimulator\n",
    "from qiskit.visualization import plot_histogram"
   ]
  },
  {
   "cell_type": "markdown",
   "id": "8cc50ae9",
   "metadata": {},
   "source": [
    "これは、送信するビットに応じて回路自体を指定する、超高密度符号の簡単な実装です。まず、送信するビットを指定しましょう。 (ビットを変えて、正しく動作することを確認してください。)"
   ]
  },
  {
   "cell_type": "code",
   "execution_count": 8,
   "id": "0d444d59",
   "metadata": {
    "tags": []
   },
   "outputs": [],
   "source": [
    "c = \"1\"\n",
    "d = \"0\""
   ]
  },
  {
   "cell_type": "markdown",
   "id": "2c62c093",
   "metadata": {},
   "source": [
    "次に、それに応じて回路を作成します。ここでは、Qiskit が量子ビットにデフォルト名を使用できるようにします: 上の量子ビットは $\\mathsf{q}_0$ 、下の量子ビットは $\\mathsf{q}_1$ です。"
   ]
  },
  {
   "cell_type": "code",
   "execution_count": 9,
   "id": "9ed3193e",
   "metadata": {
    "tags": []
   },
   "outputs": [
    {
     "data": {
      "image/png": "[encoded data removed]",
      "text/plain": [
       "<Figure size 998.442x284.278 with 1 Axes>"
      ]
     },
     "metadata": {},
     "output_type": "display_data"
    }
   ],
   "source": [
    "protocol = QuantumCircuit(2)\n",
    "\n",
    "# Prepare ebit used for superdense coding\n",
    "protocol.h(0)\n",
    "protocol.cx(0, 1)\n",
    "protocol.barrier()\n",
    "\n",
    "# Alice's operations\n",
    "if d == \"1\":\n",
    "    protocol.z(0)\n",
    "if c == \"1\":\n",
    "    protocol.x(0)\n",
    "protocol.barrier()\n",
    "\n",
    "# Bob's actions\n",
    "protocol.cx(0, 1)\n",
    "protocol.h(0)\n",
    "protocol.measure_all()\n",
    "\n",
    "display(protocol.draw(\"mpl\"))"
   ]
  },
  {
   "cell_type": "markdown",
   "id": "877ee07e",
   "metadata": {},
   "source": [
    "`measure_all` 関数は、すべての量子ビットを測定し、その結果をそれぞれ1つの古典レジスターに格納します（したがって、この場合は2ビットを持つことになります）。"
   ]
  },
  {
   "cell_type": "markdown",
   "id": "5ad23995",
   "metadata": {},
   "source": [
    "Aerシミュレーターを実行すると、期待通りの出力が得られます。"
   ]
  },
  {
   "cell_type": "code",
   "execution_count": 10,
   "id": "cdfe38f7",
   "metadata": {
    "tags": []
   },
   "outputs": [
    {
     "name": "stdout",
     "output_type": "stream",
     "text": [
      "Measured 10 with frequency 1.0\n"
     ]
    },
    {
     "data": {
      "image/png": "[encoded data removed]",
      "text/plain": [
       "<Figure size 640x480 with 1 Axes>"
      ]
     },
     "metadata": {},
     "output_type": "display_data"
    }
   ],
   "source": [
    "result = Sampler().run(protocol).result()\n",
    "statistics = result.quasi_dists[0].binary_probabilities()\n",
    "\n",
    "for outcome, frequency in statistics.items():\n",
    "    print(f\"Measured {outcome} with frequency {frequency}\")\n",
    "\n",
    "display(plot_histogram(statistics))"
   ]
  },
  {
   "cell_type": "markdown",
   "id": "284fd588",
   "metadata": {},
   "source": [
    "これを楽しむために、ランダムなビット発生器を新たな量子ビットとして追加し、 $c$ と $d$ をランダムに選び、超密度符号プロトコルを実行して、ビットが正しく送信されることを確認してみましょう。"
   ]
  },
  {
   "cell_type": "code",
   "execution_count": 11,
   "id": "650741db",
   "metadata": {
    "tags": []
   },
   "outputs": [
    {
     "data": {
      "image/png": "[encoded data removed]",
      "text/plain": [
       "<Figure size 1753.67x618.722 with 1 Axes>"
      ]
     },
     "metadata": {},
     "output_type": "display_data"
    }
   ],
   "source": [
    "rbg = QuantumRegister(1, \"randomizer\")\n",
    "ebit0 = QuantumRegister(1, \"A\")\n",
    "ebit1 = QuantumRegister(1, \"B\")\n",
    "\n",
    "Alice_c = ClassicalRegister(1, \"Alice c\")\n",
    "Alice_d = ClassicalRegister(1, \"Alice d\")\n",
    "\n",
    "test = QuantumCircuit(rbg, ebit0, ebit1, Alice_d, Alice_c)\n",
    "\n",
    "# Initialize the ebit\n",
    "test.h(ebit0)\n",
    "test.cx(ebit0, ebit1)\n",
    "test.barrier()\n",
    "\n",
    "# Use the 'randomizer' qubit twice to generate Alice's bits c and d.\n",
    "test.h(rbg)\n",
    "test.measure(rbg, Alice_c)\n",
    "test.h(rbg)\n",
    "test.measure(rbg, Alice_d)\n",
    "test.barrier()\n",
    "\n",
    "# Now the protocol runs, starting with Alice's actions, which depend\n",
    "# on her bits.\n",
    "with test.if_test((Alice_d, 1), label=\"Z\"):\n",
    "    test.z(ebit0)\n",
    "with test.if_test((Alice_c, 1), label=\"X\"):\n",
    "    test.x(ebit0)\n",
    "test.barrier()\n",
    "\n",
    "# Bob's actions\n",
    "test.cx(ebit0, ebit1)\n",
    "test.h(ebit0)\n",
    "test.barrier()\n",
    "\n",
    "Bob_c = ClassicalRegister(1, \"Bob c\")\n",
    "Bob_d = ClassicalRegister(1, \"Bob d\")\n",
    "test.add_register(Bob_d)\n",
    "test.add_register(Bob_c)\n",
    "test.measure(ebit0, Bob_d)\n",
    "test.measure(ebit1, Bob_c)\n",
    "\n",
    "display(test.draw(\"mpl\"))"
   ]
  },
  {
   "cell_type": "markdown",
   "id": "a170c042",
   "metadata": {},
   "source": [
    "Aerシミュレーターを実行すると、結果が表示されます：アリスとボブの古典ビットは常に一致します。"
   ]
  },
  {
   "cell_type": "code",
   "execution_count": 12,
   "id": "7d1a296c",
   "metadata": {
    "tags": []
   },
   "outputs": [
    {
     "data": {
      "image/png": "[encoded data removed]",
      "text/plain": [
       "<Figure size 640x480 with 1 Axes>"
      ]
     },
     "metadata": {},
     "output_type": "display_data"
    }
   ],
   "source": [
    "result = AerSimulator().run(test).result()\n",
    "statistics = result.get_counts()\n",
    "display(plot_histogram(statistics))"
   ]
  },
  {
   "cell_type": "markdown",
   "id": "a9c61cfa",
   "metadata": {},
   "source": [
    "## 3. CHSHゲーム\n",
    "\n",
    "この授業で最後に取り上げる例は、プロトコルではなく、 *CHSHゲーム*と呼ばれる *ゲーム*です。\n",
    "\n",
    "この文脈でゲームというと、遊びやスポーツを目的としたものではなく、*ゲーム理論*的な意味での数学的に抽象化されたものを指します。ゲームの数学的な抽象化は、例えば経済学やコンピュータサイエンスで研究され、大きな実用性を持っています。\n",
    "\n",
    "CHSHの文字は、この例が最初に記述された1969年の論文の著者、ジョン・クラウザー、マイケル・ホーン、アブナー・シモニー、リチャード・ホルトを指しています。彼らはこの例をゲームとしてではなく、実験として記述しています。しかし、ゲームとして説明することは、自然で直感的なことです。\n",
    "\n",
    "CHSHゲームは、*非局所ゲーム*と呼ばれるゲームのクラスに属するものです。非局所ゲームは、物理学、コンピュータサイエンス、数学と深い関わりを持ち、いまだ未解決の謎を抱えた魅力的なゲームです。ここでは、まず非局所ゲームとは何かを説明し、次にCHSHゲームに焦点を当て、その面白さを紹介します。\n",
    "\n",
    "### 3.1 非局所ゲーム\n",
    "\n",
    "非局所ゲームとは、アリスとボブの2人のプレイヤーが特定の結果を得るために*協力し合うゲーム*です。ゲームは*審判*によって運営され、審判はアリスとボブに知られた厳格なガイドラインに従って行動します。\n",
    "\n",
    "アリスとボブはゲームの準備をすることはできますが、ゲームが始まるとコミュニケーションをとることは禁じられます。審判が刑事役で、アリスとボブが別室で尋問を受ける容疑者というように、ある種の安全な施設でゲームを行う設定が考えられます。別の想像で、アリスとボブは広大な距離を隔てており、ゲームの実行時間内では光の速度が許さないため通信が禁止されている、という設定もあります。つまり、アリスがボブにメッセージを送ろうとしても、ボブがそれを受け取るまでにゲームは終わってしまうし、その逆もまた然りです。\n",
    "\n",
    "\n",
    "非局所ゲームの仕組みとして、まず審判がアリスとボブのそれぞれに質問をします。アリスの質問を $x$ 、ボブの質問を  $y$ という文字で表すことにします。ここで、 $x$ と $y$ は古典的な状態であり、CHSHゲームでは $x$ と $y$ はビットであると考えます。\n",
    "\n",
    "審判は*ランダム性*を利用してこれらの問題を選択します。正確には、質問となるペア $(x,y)$ ごとに確率 $p(x,y)$ が関連付けられており、審判はゲーム開始時に、この方法で問題を選択することを誓っています。アリスとボブを含む全員がこの確率を知っています。しかし、ゲームが始まるまで、どの組 $(x,y)$ が選ばれるかは誰も具体的に知りません。\n",
    "\n",
    "アリスとボブは質問を受けたら、次に答えを出さなければなりません。アリスの答えは $a$ 、ボブの答えは $b$ です。繰り返しますが、これらは一般に古典状態であり、CHSH ゲームではビットです。\n",
    "\n",
    "この時点で審判が判定を下します：アリスとボブは、ある固定されたルールに従って、一組の質問 $(x,y)$ に対して一組の答え $(a,b)$ が正しいとみなされるかどうかで、*勝つ*か*負ける*かを決めます。ルールが異なればゲームも異なり、特にCHSHゲームのルールはこの後のセクションで具体的に説明されます。すでに述べられたように、ルールは誰にでも知られています。\n",
    "\n",
    "次の図は、相互作用を図式化したものです。\n",
    "\n",
    "![Nonlocal game](images/entanglement-in-action/nonlocal-game2.png)\n",
    "\n",
    "どの質問が聞かれるかわからないこと、特に各プレイヤーが他のプレイヤーの質問を知らないことが、アリスとボブにとって非局所ゲームを難しいものにしています。\n",
    "\n",
    "審判の正確な説明は、非局所ゲームのインスタンスを定義します。これには、質問ペアの確率 $p(x,y)$ の指定と、質問ペア $(x,y)$ に対して、答えのペア $(a,b)$ が勝つか負けるかを決定するルールが含まれます。\n",
    "\n",
    "すぐにCHSHのゲームを見てみますが、他の非局所ゲームを考えてみるのも面白いです。非局所ゲームの中には、今日まで魅力的で謎に包まれているものもあれば、あまり面白くないものもあります。セットアップは単純ですが、複雑な作業が行われています。一部の非局所ゲームでは、アリスとボブの最適またはほぼ最適な戦略を計算することが非常に困難な場合があります。これは、非局所ゲームモデルの魅力的な性質の一部です。\n",
    "\n",
    "### 3.2 CHSH ゲームの説明\n",
    "\n",
    "以下は CHSH ゲームの正確な説明です。ここで (上記のように) $x$ はアリスの質問、 $y$ はボブの質問、 $a$ はアリスの返答、 $b$ はボブの返答です。\n",
    "\n",
    "1. 質問と返答はすべてビットです: $x,y,a,b\\in\\{0,1\\}$\n",
    "\n",
    "2. 審判は質問 $(x,y)$ を*一様に無作為に*選びます。つまり、 $(0,0)$ 、 $(0,1)$ 、 $(1,0)$ 、 $(1,1)$ の 4 つの可能性のそれぞれが、確率 $1/4$ で選択されます。\n",
    "\n",
    "3. 返答 $(a,b)$ は、$a\\oplus b = x\\wedge y$ の場合、質問 $(x,y)$ に対して*勝ち*、それ以外の場合は*負けます*。次の表は、 $(x,y)$ の質問のペアごとに、 $(a,b)$ の返答の勝敗条件をリスト化し、このルールを表しています。\n",
    "\n",
    "$(x,y)$ | 勝ち | 負け\n",
    ":-: | :-: | :-:\n",
    "$(0,0)$ | $a = b$ | $a \\not= b$\n",
    "$(0,1)$ | $a = b$ | $a \\not= b$\n",
    "$(1,0)$ | $a = b$ | $a \\not= b$\n",
    "$(1,1)$ | $a \\not= b$ | $a = b$"
   ]
  },
  {
   "cell_type": "markdown",
   "id": "b0a3fabe",
   "metadata": {},
   "source": [
    "### 3.3 古典的戦略の限界\n",
    "\n",
    "では、CHSHゲームにおけるアリスとボブの戦略を、*古典的*戦略から考えてみましょう。\n",
    "\n",
    "#### 決定論的戦略\n",
    "\n",
    "ここではまず*決定論的な*戦略から始めます。アリスの返答 $a$ は彼女が受ける質問 $x$ の関数であり、同様にボブの返答 $b$ は彼が受ける質問 $y$ の関数です。したがって、例えば、質問が $0$ のときのアリスの返答を $a(0)$ 、質問が $1$ のときのアリスの返答を $a(1)$ と書くことができます。\n",
    "\n",
    "どの決定論的戦略も、CHSHゲームに毎回勝つことはできません。このことを説明する1つの方法は、可能な決定論的戦略を1つ1つ調べ、そのどれもが4つの質問ペアのうち少なくとも1つに対して負けることをチェックすることです。アリスとボブはそれぞれ1ビットから1ビットまでの4つの関数 (レッスン 1 で遭遇した) から選ぶことができるので、チェックすべき決定論的戦略は全部で $16$ 種類になります。\n",
    "\n",
    "この事実を分析的に推論することもできます。アリスとボブの戦略が $(x,y) = (0,0)$ のときに勝った場合、それは $a(0) = b(0)$ でなければなりません。彼らの戦略が  $(x,y) = (0,1)$ で勝った場合、 $a(0) = b(1)$ と結論付けられます。同様に、戦略が  $(x,y)=(1,0)$ で勝った場合、 $a(1) = b(0)$ になります。 したがって、彼らの戦略が 3 つの可能性すべてで勝った場合、次のようになります。\n",
    "\n",
    "$$\n",
    "b(1) = a(0) = b(0) = a(1).\n",
    "$$\n",
    "\n",
    "これは、最後のケース $(x,y) = (1,1)$ でこの戦略が負けることを意味します。勝つには、 $a(1) \\not= b(1)$ が必要だからです。\n",
    "\n",
    "したがって、毎回勝つ決定論的な戦略はあり得ません。4つのケースのうち3つのケース ( $a(0)=a(1)=b(0)=b(1)=0$ など) で勝つ戦略とするのが非常に素直であり、アリスとボブが決定論的戦略を使用して勝つのは最大の確率は $3/4$ です。\n",
    "\n",
    "#### 確率的戦略\n",
    "\n",
    "今、結論を出したように、アリスとボブは決定論的戦略を用いてCHSHゲームに75％の確率で勝利する以上のことはできないのです。しかし、確率的な戦略ではどうでしょうか。ランダム性を利用することは、アリスとボブのランダムな選択に相関があるような*共有ランダム性*の可能性も含めて、アリスとボブを助けることができるでしょうか？\n",
    "\n",
    "確率論的戦略は、アリスとボブが勝つ確率を高めるのに全く役立たないことが分かります。これは、すべての確率的戦略が、決定論的戦略のランダムな選択と見なすことができるからです。（最初の授業で述べたように）確率的演算が決定論的演算のランダムな選択と見なすことができるのと同じです。平均値が最大値より大きくなることはないので、確率的戦略は全体的な勝率の点では何の利点もないことになります。\n",
    "\n",
    "したがって、確率 $3/4$ で勝つことは、決定論的であれ確率論的であれ、あらゆる古典的戦略を用いてアリスとボブができるベストな確率です。\n",
    "\n",
    "### 3.4 CHSH ゲームの戦略\n",
    "\n",
    "ここで、アリスとボブが、*量子的な*戦略を用いることで、より良い結果を得ることができるのだろうか、という自然な疑問が生じます。特に、次の図のように、エンタングルした量子状態をゲームをする前に共有した場合、勝率を上げることができるでしょうか？\n",
    "\n",
    "![Nonlocal game with entanglement](images/entanglement-in-action/nonlocal-game-entanglement2.png)\n",
    "\n",
    "答えは「イエス」であり、これがこの例の最大のポイントであり、なぜこれが面白いのか、という点です。では、エンタングルメントを使って、アリスとボブがこのゲームでどのようにうまくやれるか、具体的に見ていきましょう。\n",
    "\n",
    "#### 必要なベクトルと行列\n",
    "\n",
    "まず、各実数 $\\theta$ （ラジアン単位で測った角度）に対して、量子ビットの状態ベクトル $\\vert \\psi_{\\theta}\\rangle$ を以下のように定義します。\n",
    "\n",
    "$$\n",
    "\\vert\\psi_{\\theta}\\rangle = \\cos(\\theta)\\vert 0\\rangle + \\sin(\\theta) \\vert 1\\rangle\n",
    "$$\n",
    "\n",
    "簡単な例を紹介します：\n",
    "\n",
    "$$\n",
    "\\begin{aligned}\n",
    "  \\vert\\psi_{0}\\rangle & = \\vert 0\\rangle \\\\\n",
    "  \\vert\\psi_{\\pi/2}\\rangle & = \\vert 1\\rangle \\\\\n",
    "  \\vert\\psi_{\\pi/4}\\rangle & = \\vert + \\rangle \\\\\n",
    "  \\vert\\psi_{-\\pi/4}\\rangle & = \\vert - \\rangle\n",
    "\\end{aligned}\n",
    "$$\n",
    "\n",
    "また、以下のような例もあり、解析すると以下のようになります：\n",
    "\n",
    "$$\n",
    "\\begin{aligned}\n",
    "  \\vert\\psi_{-\\pi/8}\\rangle & = \\frac{\\sqrt{2 + \\sqrt{2}}}{2}\\vert 0\\rangle -\\frac{\\sqrt{2 - \\sqrt{2}}}{2}\\vert 1\\rangle \\\\\n",
    "  \\vert\\psi_{\\pi/8}\\rangle & = \\frac{\\sqrt{2 + \\sqrt{2}}}{2}\\vert 0\\rangle + \\frac{\\sqrt{2 - \\sqrt{2}}}{2}\\vert 1\\rangle \\\\\n",
    "  \\vert\\psi_{3\\pi/8}\\rangle & = \\frac{\\sqrt{2 - \\sqrt{2}}}{2}\\vert 0\\rangle -\\frac{\\sqrt{2 + \\sqrt{2}}}{2}\\vert 1\\rangle \\\\\n",
    "  \\vert\\psi_{5\\pi/8}\\rangle & = -\\frac{\\sqrt{2 - \\sqrt{2}}}{2}\\vert 0\\rangle + \\frac{\\sqrt{2 + \\sqrt{2}}}{2}\\vert 1\\rangle \\\\\n",
    "\\end{aligned}\n",
    "$$\n",
    "\n",
    "一般的な形を見ると、これらのベクトルのうち任意の2つのベクトル間の内積は次のような式になることがわかります：\n",
    "\n",
    "$$\n",
    "\\langle \\psi_{\\alpha} \\vert \\psi_{\\beta} \\rangle\n",
    "= \\cos(\\alpha)\\cos(\\beta) + \\sin(\\alpha)\\sin(\\beta)\n",
    "= \\cos(\\alpha-\\beta).\n",
    "\\tag{3}\n",
    "$$\n",
    "\n",
    "具体的に見ると、これらのベクトルには実数の項目しかないので、複素共役の心配はありません。内積は、余弦の積に正弦の積を加えたものです。そこで、いわゆる*加法定理*を使って簡略化することができます。この式は、実数の単位ベクトル間の内積を、それらの間の角度の余弦として幾何学的に解釈することを明らかにしています。\n",
    "\n",
    "さて、これらのベクトルのうち任意の2つのテンソル積と $\\vert \\phi^+\\rangle$ 状態との内積を計算すると、分母に $\\sqrt{2}$ が入ることを除いて、同様の式が得られます：\n",
    "\n",
    "$$\n",
    "\\langle \\psi_{\\alpha} \\otimes \\psi_{\\beta} \\vert \\phi^+ \\rangle\n",
    "= \\frac{\\cos(\\alpha)\\cos(\\beta) + \\sin(\\alpha)\\sin(\\beta)}{\\sqrt{2}}\n",
    "= \\frac{\\cos(\\alpha-\\beta)}{\\sqrt{2}}.\n",
    "\\tag{4}\n",
    "$$\n",
    "\n",
    "この特定の内積に興味がある理由は、まもなく明らかになりますが、今は単に数式として見ているだけです。\n",
    "\n",
    "次に、角度 $\\theta$ ごとにユニタリー行列 $U_{\\theta}$ を次のように定義します。\n",
    "\n",
    "$$\n",
    "U_{\\theta} = \\vert 0 \\rangle \\langle \\psi_{\\theta} \\vert + \\vert 1\\rangle\\langle \\psi_{\\theta+\\pi/2} \\vert\n",
    "$$\n",
    "\n",
    "直観的に言えば、演算として、この行列は $\\vert\\psi_{\\theta}\\rangle$ を $\\vert 0\\rangle$ に、 $\\vert \\psi_{\\theta + \\pi/2}\\rangle$ を $\\vert 1\\rangle$ にマッピングします。これがユニタリー行列であることを確認するために重要なことは、ベクトル $\\vert\\psi_{\\theta}\\rangle$ と $\\vert\\psi_{\\theta + \\pi/2}\\rangle$ がすべての角度 $\\theta$ に対して直交することです：\n",
    "\n",
    "$$\n",
    "\\langle \\psi_{\\theta} \\vert \\psi_{\\theta + \\pi/2} \\rangle = \\cos(\\pi/2) = 0.\n",
    "$$\n",
    "\n",
    "したがって、以下のようになります。\n",
    "\n",
    "$$\n",
    "\\begin{aligned}\n",
    "U_{\\theta} U_{\\theta}^{\\dagger}\n",
    "& = \\bigl(\\vert 0 \\rangle \\langle \\psi_{\\theta} \\vert + \\vert 1\\rangle\\langle \\psi_{\\theta+\\pi/2} \\vert\\bigr)\n",
    "\\bigl(\\vert \\psi_{\\theta} \\rangle \\langle 0 \\vert + \\vert \\psi_{\\theta+\\pi/2}\\rangle\\langle 1 \\vert\\bigr) \\\\\n",
    "& =\n",
    "\\vert 0 \\rangle \\langle \\psi_{\\theta} \\vert \\psi_{\\theta} \\rangle \\langle 0 \\vert\n",
    "+ \\vert 0 \\rangle \\langle \\psi_{\\theta} \\vert \\psi_{\\theta+\\pi/2} \\rangle \\langle 1 \\vert\n",
    "+ \\vert 1 \\rangle \\langle \\psi_{\\theta+\\pi/2} \\vert \\psi_{\\theta} \\rangle \\langle 0 \\vert\n",
    "+ \\vert 1 \\rangle \\langle \\psi_{\\theta+\\pi/2} \\vert \\psi_{\\theta+\\pi/2} \\rangle \\langle 1 \\vert \\\\\n",
    "& =\n",
    "\\vert 0 \\rangle \\langle 0 \\vert + \\vert 1 \\rangle \\langle 1 \\vert\\\\\n",
    "& = \\mathbb{1}.\n",
    "\\end{aligned}\n",
    "$$\n",
    "\n",
    "別の方法として、この行列を次のように明示的に書くこともできます。\n",
    "\n",
    "$$\n",
    "U_{\\theta}\n",
    "= \\begin{pmatrix}\n",
    "\\cos(\\theta) & \\sin(\\theta)\\\\\n",
    "\\cos(\\theta+ \\pi/2) & \\sin(\\theta + \\pi/2)\n",
    "\\end{pmatrix}\n",
    "= \\begin{pmatrix}\n",
    "\\cos(\\theta) & \\sin(\\theta)\\\\\n",
    "-\\sin(\\theta) & \\cos(\\theta)\n",
    "\\end{pmatrix}.\n",
    "$$\n",
    "\n",
    "これは回転行列の例で、具体的には実数の要素を持つ2次元ベクトルを原点を中心に $-\\theta$ の角度で回転させます。さまざまな式の回転の名前付けとパラメーター化の標準的な規則に従うと、以下のような $U_{\\theta} = R_y(-2\\theta)$ が得られます。\n",
    "\n",
    "$$\n",
    "R_y(\\theta) = \\begin{pmatrix}\n",
    "\\cos(\\theta/2) & -\\sin(\\theta/2)\\\\\n",
    "\\sin(\\theta/2) & \\cos(\\theta/2)\n",
    "\\end{pmatrix}.\n",
    "$$"
   ]
  },
  {
   "cell_type": "markdown",
   "id": "562bc232",
   "metadata": {},
   "source": [
    "#### 戦略の説明\n",
    "\n",
    "これで、量子的な戦略について説明できます。\n",
    "\n",
    "- アリスとボブは、eビットを共有してゲームを開始します: アリスは量子ビット $\\mathsf{A}$ を保持し、ボブは量子ビット $\\mathsf{B}$ を保持し、 $\\vert\\psi^+\\rangle$ 状態にある2つの量子ビット $(\\mathsf{X},\\mathsf{Y})$ を共に持ちます。\n",
    "\n",
    "- アリスの動作は次のとおりです：\n",
    "\n",
    "    - 彼女の質問が $x=0$ の場合、彼女は $U_{0}$ を量子ビット $\\mathsf{A}$ に適用します。\n",
    "    - 彼女の質問が $x=1$ の場合、彼女は $U_{\\pi/4}$ を量子ビット $\\mathsf{A}$ に適用します。\n",
    "\n",
    "     アリスが $\\mathsf{A}$ に対して実行する演算は、代わりに次のように記述できます：  \n",
    "$$\n",
    "\\begin{cases}\n",
    "  U_0 & \\text{if $x = 0$}\\\\\n",
    "  U_{\\pi/4} & \\text{if $x = 1$}\n",
    "\\end{cases}\n",
    "$$\n",
    "    この演算を適用した後、彼女は $\\mathsf{A}$ を標準基底で測定し、測定結果を返答 $a$ に設定します。\n",
    "\n",
    "- ボブの動作は次のとおりです：\n",
    "\n",
    "    - 彼の質問が $y=0$ の場合、彼は $U_{\\pi/8}$ を量子ビット $\\mathsf{B}$ に適用します。\n",
    "    - 彼の質問が $y=1$ の場合、彼は $U_{-\\pi/8}$ を量子ビット $\\mathsf{B}$ に適用します。\n",
    "\n",
    "    アリスの場合と同様に、$\\mathsf{B}$ に対するボブの演算を次のように記述できます：\n",
    "$$\n",
    "\\begin{cases}\n",
    "  U_{\\pi/8} & \\text{if $y = 0$}\\\\\n",
    "  U_{-\\pi/8} & \\text{if $y = 1$}\n",
    "\\end{cases}\n",
    "$$\n",
    "\n",
    "    この演算を適用した後、標準基底で $\\mathsf{B}$ を測定し、測定結果を返答 $b$ に設定します。\n",
    "\n",
    "この戦略の量子回路図を次に示します：\n",
    "\n",
    "![CHSH game circuit](images/entanglement-in-action/CHSH.png)\n",
    "\n",
    "この図には、2つの一般の制御ゲートがあります。1つは上にある $U_{-\\pi/8}$ のもので、もう1つは下にある $U_{\\pi/4}$ のものです。 また、制御ゲートのような別のゲートも2つあります。上側の $U_{\\pi/8}$ のものと、下側の $U_{0}$ のものですが、制御を表す丸が塗りつぶされていません。このゲートは、制御ビットが $0$ の場合に実行されます (通常の制御ゲートのように $1$ の場合に実行されるのではなく)。したがって、ボブは、 $y=0$ の場合は自分の量子ビットに $U_{\\pi/8}$ を実行し、 $y=1$ の場合は $U_{-\\pi/8}$ を実行します。アリスは、 $x=0$ の場合に自分の量子ビットに $U_0$ を実行し、 $x=1$ の場合は $U_{\\pi/4}$ を実行します。以上の動きは、上記のプロトコルの説明と一致しています。"
   ]
  },
  {
   "cell_type": "markdown",
   "id": "07e878f6",
   "metadata": {},
   "source": [
    "アリスとボブに対するこの戦略がどの程度うまく機能するかは、まだ解明されていません。これを行うために、4種類の質問のペアを個別に調べてみることにします。"
   ]
  },
  {
   "cell_type": "markdown",
   "id": "03017139",
   "metadata": {},
   "source": [
    "<!-- ::: q-block.tabs -->\n",
    "\n",
    "### ケースバイケース分析\n",
    "\n",
    "<!-- ::: tab -->\n",
    "\n",
    "### (0,0)\n",
    "\n",
    "ケース 1:  $(x,y) = (0,0)$ の場合\n",
    "\n",
    "この場合、アリスは自分の量子ビットで $U_{0}$ を実行し、ボブは自分の量子ビットで $U_{\\pi/8}$ を実行するため、彼らが演算を実行した後は、2つの量子ビット $(\\mathsf{A},\\mathsf{B})$ の状態は、次のようになります。\n",
    "\n",
    "$$\n",
    "\\begin{aligned}\n",
    "\\bigl(U_0 \\otimes U_{\\pi/8}\\bigr) \\vert \\phi^+\\rangle\n",
    "& =\n",
    "\\vert 00 \\rangle \\langle \\psi_0 \\otimes \\psi_{\\pi/8}\\vert \\phi^+\\rangle\n",
    "+ \\vert 01 \\rangle \\langle \\psi_0 \\otimes\\psi_{5\\pi/8}\\vert \\phi^+\\rangle \\\\\n",
    "& \\qquad + \\vert 10 \\rangle \\langle \\psi_{\\pi/2} \\otimes \\psi_{\\pi/8}\\vert \\phi^+\\rangle\n",
    "+ \\vert 11 \\rangle \\langle \\psi_{\\pi/2} \\otimes \\psi_{5\\pi/8}\\vert \\phi^+\\rangle\\\\[1mm]\n",
    "& = \\frac{\n",
    "    \\cos\\bigl(-\\frac{\\pi}{8}\\bigr) \\vert 00\\rangle\n",
    "  + \\cos\\bigl(-\\frac{5\\pi}{8}\\bigr) \\vert 01\\rangle\n",
    "  + \\cos\\bigl(\\frac{3\\pi}{8}\\bigr) \\vert 10\\rangle\n",
    "  + \\cos\\bigl(-\\frac{\\pi}{8}\\bigr) \\vert 11\\rangle}{\\sqrt{2}}.\n",
    "\\end{aligned}\n",
    "$$\n",
    "\n",
    "したがって、4つの返答のペア $(a,b)$ の確率は次のようになります。\n",
    "\n",
    "$$\n",
    "\\begin{aligned}\n",
    "\\operatorname{Pr}\\bigl((a,b)=(0,0)\\bigr) & = \\frac{1}{2}\\cos^2\\Bigl(-\\frac{\\pi}{8}\\Bigr) = \\frac{2+\\sqrt{2}}{8} \\\\\n",
    "\\operatorname{Pr}\\bigl((a,b)=(0,1)\\bigr) & = \\frac{1}{2}\\cos^2\\Bigl(-\\frac{5\\pi}{8}\\Bigr) = \\frac{2-\\sqrt{2}}{8}\\\\\n",
    "\\operatorname{Pr}\\bigl((a,b)=(1,0)\\bigr) & = \\frac{1}{2}\\cos^2\\Bigl(\\frac{3\\pi}{8}\\Bigr) = \\frac{2-\\sqrt{2}}{8}\\\\\n",
    "\\operatorname{Pr}\\bigl((a,b)=(1,1)\\bigr) & = \\frac{1}{2}\\cos^2\\Bigl(-\\frac{\\pi}{8}\\Bigr) = \\frac{2+\\sqrt{2}}{8}\n",
    "\\end{aligned}\n",
    "$$\n",
    "\n",
    "このとき、 $a=b$ と $a\\not=b$ の確率は、適当な和をとることで得られます：\n",
    "\n",
    "$$\n",
    "\\begin{aligned}\n",
    "\\operatorname{Pr}(a = b) & = \\frac{2 + \\sqrt{2}}{4}\\\\\n",
    "\\operatorname{Pr}(a \\not= b) & = \\frac{2 - \\sqrt{2}}{4}\n",
    "\\end{aligned}\n",
    "$$\n",
    "\n",
    "質問のペア $(0,0)$ に対して、アリスとボブは $a=b$ のときに勝つので、この場合、勝つ確率は、以下です。\n",
    "\n",
    "$$\n",
    "\\frac{2 + \\sqrt{2}}{4}.\n",
    "$$\n",
    "\n",
    "<!-- ::: tab -->\n",
    "\n",
    "### (0, 1)\n",
    "\n",
    "ケース 2:  $(x,y) = (0,1)$ の場合\n",
    "\n",
    "この場合、アリスは自分の量子ビットで $U_{0}$ を実行し、ボブは自分の量子ビットで $U_{-\\pi/8}$ を実行するため、彼らが演算を実行した後は、2つの量子ビット $(\\mathsf{A},\\mathsf{B})$ の状態は、次のようになります。\n",
    "\n",
    "$$\n",
    "\\begin{aligned}\n",
    "\\bigl(U_0 \\otimes U_{-\\pi/8}\\bigr) \\vert \\phi^+\\rangle\n",
    "& =\n",
    "\\vert 00 \\rangle \\langle \\psi_0 \\otimes \\psi_{-\\pi/8}\\vert \\phi^+\\rangle\n",
    "+ \\vert 01 \\rangle \\langle \\psi_0 \\otimes\\psi_{3\\pi/8}\\vert \\phi^+\\rangle \\\\\n",
    "& \\qquad + \\vert 10 \\rangle \\langle \\psi_{\\pi/2} \\otimes \\psi_{-\\pi/8}\\vert \\phi^+\\rangle\n",
    "+ \\vert 11 \\rangle \\langle \\psi_{\\pi/2} \\otimes \\psi_{3\\pi/8}\\vert \\phi^+\\rangle\\\\[1mm]\n",
    "& = \\frac{\n",
    "    \\cos\\bigl(\\frac{\\pi}{8}\\bigr) \\vert 00\\rangle\n",
    "  + \\cos\\bigl(-\\frac{3\\pi}{8}\\bigr) \\vert 01\\rangle\n",
    "  + \\cos\\bigl(\\frac{5\\pi}{8}\\bigr) \\vert 10\\rangle\n",
    "  + \\cos\\bigl(\\frac{\\pi}{8}\\bigr) \\vert 11\\rangle}{\\sqrt{2}}.\n",
    "\\end{aligned}\n",
    "$$\n",
    "\n",
    "したがって、4つの返答のペア $(a,b)$ の確率は次のようになります。\n",
    "\n",
    "$$\n",
    "\\begin{aligned}\n",
    "\\operatorname{Pr}\\bigl((a,b)=(0,0)\\bigr) & = \\frac{1}{2}\\cos^2\\Bigl(\\frac{\\pi}{8}\\Bigr) = \\frac{2+\\sqrt{2}}{8} \\\\\n",
    "\\operatorname{Pr}\\bigl((a,b)=(0,1)\\bigr) & = \\frac{1}{2}\\cos^2\\Bigl(-\\frac{3\\pi}{8}\\Bigr) = \\frac{2-\\sqrt{2}}{8}\\\\\n",
    "\\operatorname{Pr}\\bigl((a,b)=(1,0)\\bigr) & = \\frac{1}{2}\\cos^2\\Bigl(\\frac{5\\pi}{8}\\Bigr) = \\frac{2-\\sqrt{2}}{8}\\\\\n",
    "\\operatorname{Pr}\\bigl((a,b)=(1,1)\\bigr) & = \\frac{1}{2}\\cos^2\\Bigl(\\frac{\\pi}{8}\\Bigr) = \\frac{2+\\sqrt{2}}{8}\n",
    "\\end{aligned}\n",
    "$$\n",
    "\n",
    "前回と同じように、 $a=b$ と $a\\not=b$ の確率は、適当な和をとることで得られます：\n",
    "\n",
    "$$\n",
    "\\begin{aligned}\n",
    "\\operatorname{Pr}(a = b) & = \\frac{2 + \\sqrt{2}}{4}\\\\\n",
    "\\operatorname{Pr}(a \\not= b) & = \\frac{2 - \\sqrt{2}}{4}\n",
    "\\end{aligned}\n",
    "$$\n",
    "\n",
    "質問のペア $(0,1)$ に対して、アリスとボブは $a=b$ のときに勝つので、この場合、勝つ確率は、以下です。\n",
    "\n",
    "$$\n",
    "\\frac{2 + \\sqrt{2}}{4}.\n",
    "$$\n",
    "\n",
    "<!-- ::: tab -->\n",
    "\n",
    "### (1, 0)\n",
    "\n",
    "ケース 3:  $(x,y) = (1,0)$ の場合\n",
    "\n",
    "この場合、アリスは自分の量子ビットで $U_{\\pi/4}$ を実行し、ボブは自分の量子ビットで $U_{-\\pi/8}$ を実行するため、彼らが演算を実行した後は、2つの量子ビット $(\\mathsf{A},\\mathsf{B})$ の状態は、次のようになります。\n",
    "\n",
    "$$\n",
    "\\begin{aligned}\n",
    "\\bigl(U_{\\pi/4} \\otimes U_{\\pi/8}\\bigr) \\vert \\phi^+\\rangle\n",
    "& =\n",
    "\\vert 00 \\rangle \\langle \\psi_{\\pi/4} \\otimes \\psi_{\\pi/8}\\vert \\phi^+\\rangle\n",
    "+ \\vert 01 \\rangle \\langle \\psi_{\\pi/4} \\otimes\\psi_{5\\pi/8}\\vert \\phi^+\\rangle \\\\\n",
    "& \\qquad + \\vert 10 \\rangle \\langle \\psi_{3\\pi/4} \\otimes \\psi_{\\pi/8}\\vert \\phi^+\\rangle\n",
    "+ \\vert 11 \\rangle \\langle \\psi_{3\\pi/4} \\otimes \\psi_{5\\pi/8}\\vert \\phi^+\\rangle\\\\[1mm]\n",
    "& = \\frac{\n",
    "    \\cos\\bigl(\\frac{\\pi}{8}\\bigr) \\vert 00\\rangle\n",
    "  + \\cos\\bigl(-\\frac{3\\pi}{8}\\bigr) \\vert 01\\rangle\n",
    "  + \\cos\\bigl(\\frac{5\\pi}{8}\\bigr) \\vert 10\\rangle\n",
    "  + \\cos\\bigl(\\frac{\\pi}{8}\\bigr) \\vert 11\\rangle}{\\sqrt{2}}.\n",
    "\\end{aligned}\n",
    "$$\n",
    "\n",
    "したがって、4つの返答のペア $(a,b)$ の確率は次のようになります。\n",
    "\n",
    "$$\n",
    "\\begin{aligned}\n",
    "\\operatorname{Pr}\\bigl((a,b)=(0,0)\\bigr) & = \\frac{1}{2}\\cos^2\\Bigl(\\frac{\\pi}{8}\\Bigr) = \\frac{2+\\sqrt{2}}{8} \\\\\n",
    "\\operatorname{Pr}\\bigl((a,b)=(0,1)\\bigr) & = \\frac{1}{2}\\cos^2\\Bigl(-\\frac{3\\pi}{8}\\Bigr) = \\frac{2-\\sqrt{2}}{8}\\\\\n",
    "\\operatorname{Pr}\\bigl((a,b)=(1,0)\\bigr) & = \\frac{1}{2}\\cos^2\\Bigl(\\frac{5\\pi}{8}\\Bigr) = \\frac{2-\\sqrt{2}}{8}\\\\\n",
    "\\operatorname{Pr}\\bigl((a,b)=(1,1)\\bigr) & = \\frac{1}{2}\\cos^2\\Bigl(\\frac{\\pi}{8}\\Bigr) = \\frac{2+\\sqrt{2}}{8}\n",
    "\\end{aligned}\n",
    "$$\n",
    "\n",
    "前回と同じように、 $a=b$ と $a\\not=b$ の確率は、適当な和をとることで得られます：\n",
    "\n",
    "$$\n",
    "\\begin{aligned}\n",
    "\\operatorname{Pr}(a = b) & = \\frac{2 + \\sqrt{2}}{4}\\\\\n",
    "\\operatorname{Pr}(a \\not= b) & = \\frac{2 - \\sqrt{2}}{4}\n",
    "\\end{aligned}\n",
    "$$\n",
    "\n",
    "質問のペア $(1,0)$ に対して、アリスとボブは $a=b$ のときに勝つので、この場合、勝つ確率は、以下です。\n",
    "\n",
    "$$\n",
    "\\frac{2 + \\sqrt{2}}{4}.\n",
    "$$\n",
    "\n",
    "<!-- ::: tab -->\n",
    "\n",
    "### (1, 1)\n",
    "\n",
    "ケース 4:  $(x,y) = (1,1)$ の場合\n",
    "\n",
    "最後のケースは、この場合、勝利条件が異なるので、予想通り、ちょっと違います。 $x$ と $y$ がともに $1$ のとき、 $a$ と $b$ が*異なる*とき、アリスとボブは勝利します。この場合、アリスは自分の量子ビットに $U_{\\pi/4}$ を、ボブは自分の量子ビットに $U_{-\\pi/8}$ の演算を行うので、彼らが演算を実行した後は、2つの量子ビット $(\\mathsf{A},\\mathsf{B})$ の状態は、次のようになります。\n",
    "\n",
    "$$\n",
    "\\begin{aligned}\n",
    "\\bigl(U_{\\pi/4} \\otimes U_{-\\pi/8}\\bigr) \\vert \\phi^+\\rangle\n",
    "&amp; =\n",
    "\\vert 00 \\rangle \\langle \\psi_{\\pi/4} \\otimes \\psi_{-\\pi/8}\\vert \\phi^+\\rangle\n",
    "+ \\vert 01 \\rangle \\langle \\psi_{\\pi/4} \\otimes\\psi_{3\\pi/8}\\vert \\phi^+\\rangle \\\\\n",
    "&amp; \\qquad + \\vert 10 \\rangle \\langle \\psi_{3\\pi/4} \\otimes \\psi_{-\\pi/8}\\vert \\phi^+\\rangle\n",
    "+ \\vert 11 \\rangle \\langle \\psi_{3\\pi/4} \\otimes \\psi_{3\\pi/8}\\vert \\phi^+\\rangle\\\\[1mm]\n",
    "&amp; = \\frac{\n",
    "    \\cos\\bigl(\\frac{3\\pi}{8}\\bigr) \\vert 00\\rangle\n",
    "  + \\cos\\bigl(-\\frac{\\pi}{8}\\bigr) \\vert 01\\rangle\n",
    "  + \\cos\\bigl(\\frac{7\\pi}{8}\\bigr) \\vert 10\\rangle\n",
    "  + \\cos\\bigl(\\frac{3\\pi}{8}\\bigr) \\vert 11\\rangle}{\\sqrt{2}}.\n",
    "\\end{aligned}\n",
    "$$\n",
    "\n",
    "したがって、4つの返答のペア $(a,b)$ の確率は次のようになります。\n",
    "\n",
    "$$\n",
    "\\begin{aligned}\n",
    "\\operatorname{Pr}\\bigl((a,b)=(0,0)\\bigr) & = \\frac{1}{2}\\cos^2\\Bigl(\\frac{3\\pi}{8}\\Bigr) = \\frac{2-\\sqrt{2}}{8} \\\\\n",
    "\\operatorname{Pr}\\bigl((a,b)=(0,1)\\bigr) & = \\frac{1}{2}\\cos^2\\Bigl(-\\frac{\\pi}{8}\\Bigr) = \\frac{2+\\sqrt{2}}{8}\\\\\n",
    "\\operatorname{Pr}\\bigl((a,b)=(1,0)\\bigr) & = \\frac{1}{2}\\cos^2\\Bigl(\\frac{7\\pi}{8}\\Bigr) = \\frac{2+\\sqrt{2}}{8}\\\\\n",
    "\\operatorname{Pr}\\bigl((a,b)=(1,1)\\bigr) & = \\frac{1}{2}\\cos^2\\Bigl(\\frac{3\\pi}{8}\\Bigr) = \\frac{2-\\sqrt{2}}{8}\n",
    "\\end{aligned}\n",
    "$$\n",
    "\n",
    "この他の3つのケースと確率が事実上入れ替わっています。 $a=b$ と $a\\not=b$ の確率は、合計することで得られます。\n",
    "\n",
    "$$\n",
    "\\begin{aligned}\n",
    "\\operatorname{Pr}(a = b) & = \\frac{2 - \\sqrt{2}}{4}\\\\\n",
    "\\operatorname{Pr}(a \\not= b) & = \\frac{2 + \\sqrt{2}}{4}\n",
    "\\end{aligned}\n",
    "$$\n",
    "\n",
    "質問のペア $(1,1)$ に対して、アリスとボブは $a\\not=b$ のときに勝つので、この場合、勝つ確率は、以下です。\n",
    "\n",
    "$$\n",
    "\\frac{2 + \\sqrt{2}}{4}.\n",
    "$$\n",
    "\n",
    "<!-- ::: -->\n",
    "\n",
    "<!-- ::: -->\n",
    "\n",
    "どのケースでも同じ確率で勝ちます。\n",
    "\n",
    "$$\n",
    "  \\frac{2 + \\sqrt{2}}{4} \\approx 0.85.\n",
    "$$\n",
    "\n",
    "したがって、これが全体として勝利する確率となります。これは、古典的な戦略よりもはるかに優れています；古典的な戦略の勝利確率の上限は $3/4$ でした。これは非常に興味深い例です。\n",
    "\n",
    "この確率は、量子的な戦略にとって最適な勝率であり、どんなエンタングル状態や測定法を選んでも、これ以上の勝率は得られないのです。この事実は*ツィレルソンの不等式*と呼ばれ、最初にこれを証明したボリス・ツィレルソンにちなんで名づけられたものです。ツィレルソンは、CHSH実験をゲームとして最初に説明した人物でもあります。"
   ]
  },
  {
   "cell_type": "markdown",
   "id": "d0fe2485",
   "metadata": {},
   "source": [
    "#### 幾何学的描像\n",
    "\n",
    "上記の戦略を幾何学的に考えることが可能であり、アリスとボブの演算に選ばれた様々な角度の関係を理解するのに役立つかもしれません。\n",
    "\n",
    "アリスが実際に行うことは、質問 $x$ によって角度 $\\alpha$ を選び、 $U_{\\alpha}$ を自分の量子ビットに適用して測定することです。同様に、ボブは $y$ によって角度 $\\beta$ を選び、 $U_{\\beta}$ を自分の量子ビットに適用して測定します。 $\\alpha$ と $\\beta$ は以下のように選びました。\n",
    "\n",
    "$$\n",
    "\\begin{aligned}\n",
    "\\alpha & = \\begin{cases}\n",
    "0 & x=0\\\\\n",
    "\\pi/4 & x=1\n",
    "\\end{cases}\\\\[2mm]\n",
    "\\beta & = \\begin{cases}\n",
    "\\pi/8 & y = 0\\\\\n",
    "-\\pi/8 & y = 1.\n",
    "\\end{cases}\n",
    "\\end{aligned}\n",
    "$$\n",
    "\n",
    "しかし、とりあえず、 $\\alpha$ と $\\beta$ は任意とします。アリスは $\\alpha$ を選ぶことで、事実上次のようなベクトルの正規直交基底を定義しています：\n",
    "\n",
    "![Basis for Alice](images/entanglement-in-action/alpha-basis.png)\n",
    "\n",
    "ボブも同様ですが、彼の角度は $\\beta$ です:\n",
    "\n",
    "![Basis for Bob](images/entanglement-in-action/beta-basis.png)\n",
    "\n",
    "ベクトルの色はアリスとボブの答えに対応しており、青が $0$ 、赤が $1$ です。\n",
    "\n",
    "さて、( $3$ )と( $4$ )を組み合わせると、次のような式になります。\n",
    "\n",
    "$$\n",
    "\\langle \\psi_{\\alpha} \\otimes\\psi_{\\beta} \\vert \\phi^+ \\rangle\n",
    "= \\frac{1}{\\sqrt{2}} \\langle \\psi_{\\alpha} \\vert \\psi_{\\beta} \\rangle;\n",
    "$$\n",
    "\n",
    "これは、すべての実数 $\\alpha$ と $\\beta$ に当てはまります。\n",
    "\n",
    "$\\alpha$ と $\\beta$ を変数として、上記と同じ類の分析に従うと、次のことがわかります：\n",
    "\n",
    "$$\n",
    "  \\begin{aligned}\n",
    "  & \\bigl(U_{\\alpha} \\otimes U_{\\beta}\\bigr) \\vert \\phi^+\\rangle\\\\\n",
    "  & \\qquad =\n",
    "    \\vert 00 \\rangle \\langle \\psi_{\\alpha} \\otimes \\psi_{\\beta}\\vert \\phi^+\\rangle\n",
    "    + \\vert 01 \\rangle \\langle \\psi_{\\alpha} \\otimes\\psi_{\\beta + \\pi/2}\\vert \\phi^+\\rangle \\\\\n",
    "  & \\qquad \\qquad + \\vert 10 \\rangle \\langle \\psi_{\\alpha+\\pi/2} \\otimes \\psi_{\\beta}\\vert \\phi^+\\rangle\n",
    "    + \\vert 11 \\rangle \\langle \\psi_{\\alpha+\\pi/2} \\otimes \\psi_{\\beta+\\pi/2}\\vert \\phi^+\\rangle\\\\[1mm]\n",
    "  & \\qquad = \\frac{\n",
    "        \\langle \\psi_\\alpha \\vert \\psi_\\beta \\rangle \\vert 00\\rangle\n",
    "      + \\langle \\psi_\\alpha \\vert \\psi_{\\beta+\\pi/2} \\rangle \\vert 01\\rangle\n",
    "      + \\langle \\psi_{\\alpha+\\pi/2} \\vert \\psi_\\beta \\rangle \\vert 10\\rangle\n",
    "      + \\langle \\psi_{\\alpha+\\pi/2} \\vert \\psi_{\\beta+\\pi/2} \\rangle \\vert 11\\rangle\n",
    "      }{\\sqrt{2}}.\n",
    "  \\end{aligned}\n",
    "$$\n",
    "\n",
    "そして、次の2つの公式が結論づけられます：\n",
    "\n",
    "$$\n",
    "\\begin{aligned}\n",
    "\\operatorname{Pr}(a = b)  & = \\frac{1}{2} \\vert \\langle \\psi_\\alpha \\vert \\psi_\\beta \\rangle \\vert^2\n",
    "+ \\frac{1}{2} \\vert \\langle \\psi_{\\alpha+\\pi/2} \\vert \\psi_{\\beta+\\pi/2} \\rangle \\vert^2\n",
    "= \\cos^2(\\alpha - \\beta)\\\\[2mm]\n",
    "\\operatorname{Pr}(a \\not= b) & = \\frac{1}{2} \\vert \\langle \\psi_\\alpha \\vert \\psi_{\\beta+\\pi/2} \\rangle \\vert^2\n",
    "+ \\frac{1}{2} \\vert \\langle \\psi_{\\alpha+\\pi/2} \\vert \\psi_\\beta \\rangle \\vert^2\n",
    "= \\sin^2(\\alpha - \\beta).\n",
    "\\end{aligned}\n",
    "$$\n",
    "\n",
    "アリスとボブが選んだ基底を重ね合わせることをイメージすれば、この式と上の図を結びつけることができます。\n",
    "\n",
    "<!-- ::: q-block.tabs -->\n",
    "\n",
    "### 戦略を探る\n",
    "\n",
    "<!-- ::: tab -->\n",
    "\n",
    "### (0, 0)\n",
    "\n",
    "$(x,y) = (0,0)$ のとき、アリスとボブは $\\alpha = 0$ と $\\beta = \\pi/8$ を選び、それらの基底を重ね合わせることで、次の図が得られます：\n",
    "\n",
    "![Alice and Bob bases case 1](images/entanglement-in-action/strategy-00.png)\n",
    "\n",
    "赤いベクトルの間の角度は $\\pi/8$ であり、これは2つの青いベクトルの間の角度と同じです。アリスとボブの結果が一致する確率は、この角度の余弦二乗です。\n",
    "\n",
    "$$\n",
    "\\cos^2\\Bigl(\\frac{\\pi}{8}\\Bigr) = \\frac{2 + \\sqrt{2}}{4},\n",
    "$$\n",
    "\n",
    "一方、返答が一致しない確率はこの角度の正弦二乗です。\n",
    "\n",
    "$$\n",
    "\\sin^2\\Bigl(\\frac{\\pi}{8}\\Bigr) = \\frac{2 - \\sqrt{2}}{4}\n",
    "$$\n",
    "\n",
    "<!-- ::: tab -->\n",
    "\n",
    "### (0, 1)\n",
    "\n",
    "$(x,y) = (0,1)$ のとき、アリスとボブは $\\alpha = 0$ と $\\beta = -\\pi/8$ を選び、それらの基底を重ね合わせることで、次の図が得られます：\n",
    "\n",
    "![Alice and Bob bases case 1](images/entanglement-in-action/strategy-01.png)\n",
    "\n",
    "赤いベクトルの間の角度は同じく $\\pi/8$ であり、これは2つの青いベクトルの間の角度と同じです。アリスとボブの結果が一致する確率は、やはりこの角度の余弦二乗です。\n",
    "\n",
    "$$\n",
    "\\cos^2\\Bigl(\\frac{\\pi}{8}\\Bigr) = \\frac{2 + \\sqrt{2}}{4},\n",
    "$$\n",
    "\n",
    "一方、返答が一致しない確率はこの角度の正弦二乗です。\n",
    "\n",
    "$$\n",
    "\\sin^2\\Bigl(\\frac{\\pi}{8}\\Bigr) = \\frac{2 - \\sqrt{2}}{4}.\n",
    "$$\n",
    "\n",
    "<!-- ::: tab -->\n",
    "\n",
    "### (1, 0)\n",
    "\n",
    "$(x,y) = (1,0)$ のとき、アリスとボブは $\\alpha = \\pi/4$ と $\\beta = \\pi/8$ を選び、それらの基底を重ね合わせることで、次の図が得られます：\n",
    "\n",
    "![Alice and Bob bases case 1](images/entanglement-in-action/strategy-10.png)\n",
    "\n",
    "基底は変わりましたが、角度は変わっていません。先程と同じように、同じ色のベクトル間の角度は $\\pi/8$ です。アリスとボブの結果が一致する確率は\n",
    "\n",
    "$$\n",
    "\\cos^2\\Bigl(\\frac{\\pi}{8}\\Bigr) = \\frac{2 + \\sqrt{2}}{4}\n",
    "$$\n",
    "\n",
    "一方、返答が一致しない確率は、\n",
    "\n",
    "$$\n",
    "\\sin^2\\Bigl(\\frac{\\pi}{8}\\Bigr) = \\frac{2 - \\sqrt{2}}{4}\n",
    "$$\n",
    "\n",
    "<!-- ::: tab -->\n",
    "\n",
    "### (1, 1)\n",
    "\n",
    "$(x,y) = (1,1)$ のとき、アリスとボブは $\\alpha = \\pi/4$ と $\\beta = -\\pi/8$ を選び、それらの基底を重ね合わせることで、何か違うことが起きているのがわかります：\n",
    "\n",
    "![Alice and Bob bases case 1](images/entanglement-in-action/strategy-11.png)\n",
    "\n",
    "角度を選んだのですが、今回は同じ色のベクトル同士の角度は $\\pi/8$ ではなく $3\\pi/8$ です。アリスとボブの結果が一致する確率は、この角度の余弦二乗ですが、今回の値は\n",
    "\n",
    "$$\n",
    "\\cos^2\\Bigl(\\frac{3\\pi}{8}\\Bigr) = \\frac{2 - \\sqrt{2}}{4}.\n",
    "$$\n",
    "\n",
    "返答が一致しない確率は、この角度の正弦二乗であり、この場合：\n",
    "\n",
    "$$\n",
    "\\sin^2\\Bigl(\\frac{3\\pi}{8}\\Bigr) = \\frac{2 + \\sqrt{2}}{4}.\n",
    "$$\n",
    "\n",
    "<!-- ::: -->\n",
    "\n",
    "<!-- ::: -->"
   ]
  },
  {
   "cell_type": "markdown",
   "id": "e03b0826",
   "metadata": {},
   "source": [
    "### 3.5 備考\n",
    "\n",
    "CHSHゲームのように、エンタングルメントによって古典的な記述とは矛盾する統計的な結果が得られるという実験の基本的な考え方は、ベル状態の名付け親であるジョン・ベルによるものです。このため、この種の実験はよく*ベルテスト*と呼ばれます。また、*ベルの定理*と呼ばれることもありますが、これは様々な形で定式化されており、その本質は、量子力学はいわゆる*局所隠れ変数理論*とは相容れないというものです。CHSHゲームは、ベルテストの非常に優れたきれいな例であり、ベルの定理の証明、あるいは実証と見なすことができます。\n",
    "\n",
    "CHSHゲームは、量子情報理論が正確な理論であることを実験的に検証するための一つの方法です。CHSHゲームを実装し、上述のエンタングルメントに基づく戦略を検証する実験が可能です。エンタングルメントを説明するために私たちが思いつく、時に曖昧で詩的な方法とは異なり、CHSHゲームはエンタングルメントを*観察*するための具体的でテストすることの可能な方法を私たちに与えてくれるのです。2022年のノーベル物理学賞は、この分野の重要性が認められました：アラン・アスペクト、ジョン・クラウザー（CHSHのC）、アントン・ザイリンガーが、エンタングルした光子のベルテストによって、エンタングルメントを観測したことについて受賞しました。"
   ]
  },
  {
   "cell_type": "markdown",
   "id": "ebdf719f",
   "metadata": {},
   "source": [
    "### 3.6 Qiskit での実装"
   ]
  },
  {
   "cell_type": "code",
   "execution_count": 13,
   "id": "ddbcd632-472c-4377-8ed0-795f90ba8a26",
   "metadata": {},
   "outputs": [],
   "source": [
    "# Required imports\n",
    "\n",
    "from qiskit import QuantumCircuit\n",
    "from qiskit_aer.primitives import Sampler\n",
    "from numpy import pi\n",
    "from numpy.random import randint"
   ]
  },
  {
   "cell_type": "markdown",
   "id": "7096e40d",
   "metadata": {},
   "source": [
    "上記で定義した量子的な戦略でCHSHゲームをQiskitで実装すると、以下のようになります。\n",
    "\n",
    "まず、これはゲーム自体の定義です。引数として任意の戦略を入れることができます。"
   ]
  },
  {
   "cell_type": "code",
   "execution_count": 14,
   "id": "c3e6d56b",
   "metadata": {
    "tags": []
   },
   "outputs": [],
   "source": [
    "def chsh_game(strategy):\n",
    "    \"\"\"Plays the CHSH game\n",
    "    Args:\n",
    "        strategy (callable): A function that takes two bits (as `int`s) and\n",
    "            returns two bits (also as `int`s). The strategy must follow the\n",
    "            rules of the CHSH game.\n",
    "    Returns:\n",
    "        int: 1 for a win, 0 for a loss.\n",
    "    \"\"\"\n",
    "    # Referee chooses x and y randomly\n",
    "    x, y = randint(0, 2), randint(0, 2)\n",
    "\n",
    "    # Use strategy to choose a and b\n",
    "    a, b = strategy(x, y)\n",
    "\n",
    "    # Referee decides if Alice and Bob win or lose\n",
    "    if (a != b) == (x & y):\n",
    "        return 1  # Win\n",
    "    return 0  # Lose"
   ]
  },
  {
   "cell_type": "markdown",
   "id": "749d67ce",
   "metadata": {},
   "source": [
    "では、アリスとボブの質問に応じた回路を出力する関数を作成します。簡単のために量子ビットの名前はデフォルトのままとし、アリスとボブの行動には組み込みの $R_y(\\theta)$ ゲートを使うことにします。"
   ]
  },
  {
   "cell_type": "code",
   "execution_count": 15,
   "id": "119c19ac",
   "metadata": {
    "tags": []
   },
   "outputs": [],
   "source": [
    "def chsh_circuit(x, y):\n",
    "    \"\"\"Creates a `QuantumCircuit` that implements the best CHSH strategy.\n",
    "    Args:\n",
    "        x (int): Alice's bit (must be 0 or 1)\n",
    "        y (int): Bob's bit (must be 0 or 1)\n",
    "    Returns:\n",
    "        QuantumCircuit: Circuit that, when run, returns Alice and Bob's\n",
    "            answer bits.\n",
    "    \"\"\"\n",
    "    qc = QuantumCircuit(2, 2)\n",
    "    qc.h(0)\n",
    "    qc.cx(0, 1)\n",
    "    qc.barrier()\n",
    "\n",
    "    # Alice\n",
    "    if x == 0:\n",
    "        qc.ry(0, 0)\n",
    "    else:\n",
    "        qc.ry(-pi / 2, 0)\n",
    "    qc.measure(0, 0)\n",
    "\n",
    "    # Bob\n",
    "    if y == 0:\n",
    "        qc.ry(-pi / 4, 1)\n",
    "    else:\n",
    "        qc.ry(pi / 4, 1)\n",
    "    qc.measure(1, 1)\n",
    "\n",
    "    return qc"
   ]
  },
  {
   "cell_type": "markdown",
   "id": "de98d67a",
   "metadata": {},
   "source": [
    "どの質問が尋ねられるかに応じて、次の 4 つの回路が考えられます。"
   ]
  },
  {
   "cell_type": "code",
   "execution_count": 16,
   "id": "d2d50d2a",
   "metadata": {
    "tags": []
   },
   "outputs": [
    {
     "name": "stdout",
     "output_type": "stream",
     "text": [
      "(x,y) = (0,0)\n"
     ]
    },
    {
     "data": {
      "image/png": "[encoded data removed]",
      "text/plain": [
       "<Figure size 621.739x284.278 with 1 Axes>"
      ]
     },
     "metadata": {},
     "output_type": "display_data"
    },
    {
     "name": "stdout",
     "output_type": "stream",
     "text": [
      "(x,y) = (0,1)\n"
     ]
    },
    {
     "data": {
      "image/png": "[encoded data removed]",
      "text/plain": [
       "<Figure size 621.739x284.278 with 1 Axes>"
      ]
     },
     "metadata": {},
     "output_type": "display_data"
    },
    {
     "name": "stdout",
     "output_type": "stream",
     "text": [
      "(x,y) = (1,0)\n"
     ]
    },
    {
     "data": {
      "image/png": "[encoded data removed]",
      "text/plain": [
       "<Figure size 621.739x284.278 with 1 Axes>"
      ]
     },
     "metadata": {},
     "output_type": "display_data"
    },
    {
     "name": "stdout",
     "output_type": "stream",
     "text": [
      "(x,y) = (1,1)\n"
     ]
    },
    {
     "data": {
      "image/png": "[encoded data removed]",
      "text/plain": [
       "<Figure size 621.739x284.278 with 1 Axes>"
      ]
     },
     "metadata": {},
     "output_type": "display_data"
    }
   ],
   "source": [
    "# Draw the four possible circuits\n",
    "\n",
    "print(\"(x,y) = (0,0)\")\n",
    "display(chsh_circuit(0, 0).draw(\"mpl\"))\n",
    "\n",
    "print(\"(x,y) = (0,1)\")\n",
    "display(chsh_circuit(0, 1).draw(\"mpl\"))\n",
    "\n",
    "print(\"(x,y) = (1,0)\")\n",
    "display(chsh_circuit(1, 0).draw(\"mpl\"))\n",
    "\n",
    "print(\"(x,y) = (1,1)\")\n",
    "display(chsh_circuit(1, 1).draw(\"mpl\"))"
   ]
  },
  {
   "cell_type": "markdown",
   "id": "70de715a",
   "metadata": {},
   "source": [
    "ここで、Aer シミュレーターを使用して特定の入力ペア $(x,y)$ に対して回路を 1 回実行する ジョブを作成します。"
   ]
  },
  {
   "cell_type": "code",
   "execution_count": 17,
   "id": "ba857602",
   "metadata": {
    "tags": []
   },
   "outputs": [],
   "source": [
    "sampler = Sampler()\n",
    "\n",
    "\n",
    "def quantum_strategy(x, y):\n",
    "    \"\"\"Carry out the best strategy for the CHSH game.\n",
    "    Args:\n",
    "        x (int): Alice's bit (must be 0 or 1)\n",
    "        y (int): Bob's bit (must be 0 or 1)\n",
    "    Returns:\n",
    "        (int, int): Alice and Bob's answer bits (respectively)\n",
    "    \"\"\"\n",
    "    # `shots=1` runs the circuit once\n",
    "    result = sampler.run(chsh_circuit(x, y), shots=1).result()\n",
    "    statistics = result.quasi_dists[0].binary_probabilities()\n",
    "    bits = list(statistics.keys())[0]\n",
    "    a, b = bits[0], bits[1]\n",
    "    return a, b"
   ]
  },
  {
   "cell_type": "markdown",
   "id": "71137cdb",
   "metadata": {},
   "source": [
    "最後に、ゲームを 1,000 回プレイし、この戦略が勝つ割合を計算します。"
   ]
  },
  {
   "cell_type": "code",
   "execution_count": 18,
   "id": "39462bdd",
   "metadata": {
    "tags": []
   },
   "outputs": [
    {
     "name": "stdout",
     "output_type": "stream",
     "text": [
      "Fraction of games won: 0.847\n"
     ]
    }
   ],
   "source": [
    "NUM_GAMES = 1000\n",
    "TOTAL_SCORE = 0\n",
    "\n",
    "for _ in range(NUM_GAMES):\n",
    "    TOTAL_SCORE += chsh_game(quantum_strategy)\n",
    "\n",
    "print(\"Fraction of games won:\", TOTAL_SCORE / NUM_GAMES)"
   ]
  },
  {
   "cell_type": "markdown",
   "id": "edcd4dc1",
   "metadata": {},
   "source": [
    "また、古典的な戦略を定義し、それがどれほどうまく機能するかを確認することもできます。コードを自由に変更して、さまざまな戦略を試してみてください。"
   ]
  },
  {
   "cell_type": "code",
   "execution_count": 19,
   "id": "80d0b678",
   "metadata": {
    "tags": []
   },
   "outputs": [],
   "source": [
    "def classical_strategy(x, y):\n",
    "    \"\"\"An optimal classical strategy for the CHSH game\n",
    "    Args:\n",
    "        x (int): Alice's bit (must be 0 or 1)\n",
    "        y (int): Bob's bit (must be 0 or 1)\n",
    "    Returns:\n",
    "        (int, int): Alice and Bob's answer bits (respectively)\n",
    "    \"\"\"\n",
    "    # Alice's answer\n",
    "    if x == 0:\n",
    "        a = 0\n",
    "    elif x == 1:\n",
    "        a = 1\n",
    "\n",
    "    # Bob's answer\n",
    "    if y == 0:\n",
    "        b = 1\n",
    "    elif y == 1:\n",
    "        b = 0\n",
    "\n",
    "    return a, b"
   ]
  },
  {
   "cell_type": "markdown",
   "id": "9d79e769",
   "metadata": {},
   "source": [
    "もう一度、ゲームを 1,000 回プレイして、どれだけうまく機能するか見てみましょう。"
   ]
  },
  {
   "cell_type": "code",
   "execution_count": 20,
   "id": "627f87a7",
   "metadata": {
    "tags": []
   },
   "outputs": [
    {
     "name": "stdout",
     "output_type": "stream",
     "text": [
      "Fraction of games won: 0.729\n"
     ]
    }
   ],
   "source": [
    "NUM_GAMES = 1000\n",
    "TOTAL_SCORE = 0\n",
    "\n",
    "for _ in range(NUM_GAMES):\n",
    "    TOTAL_SCORE += chsh_game(classical_strategy)\n",
    "\n",
    "print(\"Fraction of games won:\", TOTAL_SCORE / NUM_GAMES)"
   ]
  },
  {
   "cell_type": "markdown",
   "id": "065d70ba",
   "metadata": {},
   "source": [
    "ランダム性はありますが、1,000回実行しても統計が大きくずれることはほとんどありません。量子的な戦略では約85％の確率で勝利し、古典戦略では約75％以上の確率で勝利することはできません。"
   ]
  }
 ],
 "metadata": {
  "kernelspec": {
   "display_name": "Python 3 (ipykernel)",
   "language": "python",
   "name": "python3"
  },
  "language_info": {
   "codemirror_mode": {
    "name": "ipython",
    "version": 3
   },
   "file_extension": ".py",
   "mimetype": "text/x-python",
   "name": "python",
   "nbconvert_exporter": "python",
   "pygments_lexer": "ipython3",
   "version": "3.12.3"
  },
  "widgets": {
   "application/vnd.jupyter.widget-state+json": {
    "state": {
     "00810399747246e3bc90126ac8120a4b": {
      "model_module": "@jupyter-widgets/base",
      "model_module_version": "2.0.0",
      "model_name": "LayoutModel",
      "state": {
       "grid_area": "right",
       "padding": "0px 0px 0px 0px",
       "width": "70px"
      }
     },
     "0fb563474431477891022d5f13b01062": {
      "model_module": "@jupyter-widgets/base",
      "model_module_version": "2.0.0",
      "model_name": "LayoutModel",
      "state": {
       "margin": "0px 0px 0px 37px",
       "width": "600px"
      }
     },
     "28b6d31a95784b79b04321cfc801e253": {
      "model_module": "@jupyter-widgets/controls",
      "model_module_version": "2.0.0",
      "model_name": "HTMLStyleModel",
      "state": {
       "description_width": "",
       "font_size": null,
       "text_color": null
      }
     },
     "3315bb9b686b425f94db42d903969029": {
      "model_module": "@jupyter-widgets/controls",
      "model_module_version": "2.0.0",
      "model_name": "HTMLStyleModel",
      "state": {
       "description_width": "",
       "font_size": null,
       "text_color": null
      }
     },
     "3d5b20281a6a4d1da2baefccbb77bcde": {
      "model_module": "@jupyter-widgets/controls",
      "model_module_version": "2.0.0",
      "model_name": "HTMLStyleModel",
      "state": {
       "description_width": "",
       "font_size": null,
       "text_color": null
      }
     },
     "46e93e338a76435cbb600277fbddaa47": {
      "model_module": "@jupyter-widgets/controls",
      "model_module_version": "2.0.0",
      "model_name": "HTMLModel",
      "state": {
       "layout": "IPY_MODEL_9f4fa22eca2845e2a440864d5e20ad83",
       "style": "IPY_MODEL_3315bb9b686b425f94db42d903969029",
       "value": "<h5>Queue</h5>"
      }
     },
     "571355c46da04b0f89c353ecb126760f": {
      "model_module": "@jupyter-widgets/base",
      "model_module_version": "2.0.0",
      "model_name": "LayoutModel",
      "state": {
       "width": "190px"
      }
     },
     "5a03383b01884f09ac74589560b33092": {
      "model_module": "@jupyter-widgets/controls",
      "model_module_version": "2.0.0",
      "model_name": "HTMLModel",
      "state": {
       "layout": "IPY_MODEL_be1de3b2f05e4ef499b16a0d55b0854c",
       "style": "IPY_MODEL_c5e7e882d8ff4ee889afa14e5b4bc5f4",
       "value": "<h5>Backend</h5>"
      }
     },
     "67e2a5fdb46f4f7c96bc5082b99549b6": {
      "model_module": "@jupyter-widgets/controls",
      "model_module_version": "2.0.0",
      "model_name": "ButtonModel",
      "state": {
       "button_style": "primary",
       "description": "Clear",
       "layout": "IPY_MODEL_00810399747246e3bc90126ac8120a4b",
       "style": "IPY_MODEL_72b86285bcb644de8b0f5312c4dd4b2a",
       "tooltip": null
      }
     },
     "6d30eeb4cb2c45599b15fc03a94f4629": {
      "model_module": "@jupyter-widgets/base",
      "model_module_version": "2.0.0",
      "model_name": "LayoutModel",
      "state": {
       "margin": "0px 0px 10px 0px"
      }
     },
     "6d8ba4b20d5e45c58d8d285917634740": {
      "model_module": "@jupyter-widgets/controls",
      "model_module_version": "2.0.0",
      "model_name": "HTMLModel",
      "state": {
       "layout": "IPY_MODEL_75b75b35871547f18e23a1569681a41d",
       "style": "IPY_MODEL_cf5cc6973cb547eca4d07c6d8445f105",
       "value": "<h5>Status</h5>"
      }
     },
     "705d6ac309e745d58a26ff66b820e87d": {
      "model_module": "@jupyter-widgets/base",
      "model_module_version": "2.0.0",
      "model_name": "LayoutModel",
      "state": {}
     },
     "72b86285bcb644de8b0f5312c4dd4b2a": {
      "model_module": "@jupyter-widgets/controls",
      "model_module_version": "2.0.0",
      "model_name": "ButtonStyleModel",
      "state": {
       "font_family": null,
       "font_size": null,
       "font_style": null,
       "font_variant": null,
       "font_weight": null,
       "text_color": null,
       "text_decoration": null
      }
     },
     "75b75b35871547f18e23a1569681a41d": {
      "model_module": "@jupyter-widgets/base",
      "model_module_version": "2.0.0",
      "model_name": "LayoutModel",
      "state": {
       "width": "95px"
      }
     },
     "762896d956e0473d8f0831a231265b4d": {
      "model_module": "@jupyter-widgets/controls",
      "model_module_version": "2.0.0",
      "model_name": "HTMLModel",
      "state": {
       "layout": "IPY_MODEL_6d30eeb4cb2c45599b15fc03a94f4629",
       "style": "IPY_MODEL_3d5b20281a6a4d1da2baefccbb77bcde",
       "value": "<p style='font-family: IBM Plex Sans, Arial, Helvetica, sans-serif; font-size: 20px; font-weight: medium;'>Circuit Properties</p>"
      }
     },
     "78700bd6905d4aafb998b5c32d920eb1": {
      "model_module": "@jupyter-widgets/controls",
      "model_module_version": "2.0.0",
      "model_name": "GridBoxModel",
      "state": {
       "children": [
        "IPY_MODEL_67e2a5fdb46f4f7c96bc5082b99549b6"
       ],
       "layout": "IPY_MODEL_aae6a15ab0dd494ba575bf49871e0e37"
      }
     },
     "8458c0a97a8d417ca7ba5fb11660f9d5": {
      "model_module": "@jupyter-widgets/controls",
      "model_module_version": "2.0.0",
      "model_name": "HBoxModel",
      "state": {
       "children": [
        "IPY_MODEL_a43b6766ad544a85a7dd6f9060115868",
        "IPY_MODEL_5a03383b01884f09ac74589560b33092",
        "IPY_MODEL_6d8ba4b20d5e45c58d8d285917634740",
        "IPY_MODEL_46e93e338a76435cbb600277fbddaa47",
        "IPY_MODEL_8c222cca341a487b9ee41ffad56fa13b"
       ],
       "layout": "IPY_MODEL_0fb563474431477891022d5f13b01062"
      }
     },
     "8c222cca341a487b9ee41ffad56fa13b": {
      "model_module": "@jupyter-widgets/controls",
      "model_module_version": "2.0.0",
      "model_name": "HTMLModel",
      "state": {
       "layout": "IPY_MODEL_705d6ac309e745d58a26ff66b820e87d",
       "style": "IPY_MODEL_bfeb6914d11c4e95a97e800eb04e6b36",
       "value": "<h5>Message</h5>"
      }
     },
     "9f4fa22eca2845e2a440864d5e20ad83": {
      "model_module": "@jupyter-widgets/base",
      "model_module_version": "2.0.0",
      "model_name": "LayoutModel",
      "state": {
       "width": "70px"
      }
     },
     "a43b6766ad544a85a7dd6f9060115868": {
      "model_module": "@jupyter-widgets/controls",
      "model_module_version": "2.0.0",
      "model_name": "HTMLModel",
      "state": {
       "layout": "IPY_MODEL_571355c46da04b0f89c353ecb126760f",
       "style": "IPY_MODEL_28b6d31a95784b79b04321cfc801e253",
       "value": "<h5>Job ID</h5>"
      }
     },
     "aae6a15ab0dd494ba575bf49871e0e37": {
      "model_module": "@jupyter-widgets/base",
      "model_module_version": "2.0.0",
      "model_name": "LayoutModel",
      "state": {
       "grid_template_areas": "\n                                       \". . . . right \"\n                                        ",
       "grid_template_columns": "20% 20% 20% 20% 20%",
       "width": "100%"
      }
     },
     "be1de3b2f05e4ef499b16a0d55b0854c": {
      "model_module": "@jupyter-widgets/base",
      "model_module_version": "2.0.0",
      "model_name": "LayoutModel",
      "state": {
       "width": "145px"
      }
     },
     "bfeb6914d11c4e95a97e800eb04e6b36": {
      "model_module": "@jupyter-widgets/controls",
      "model_module_version": "2.0.0",
      "model_name": "HTMLStyleModel",
      "state": {
       "description_width": "",
       "font_size": null,
       "text_color": null
      }
     },
     "c5e7e882d8ff4ee889afa14e5b4bc5f4": {
      "model_module": "@jupyter-widgets/controls",
      "model_module_version": "2.0.0",
      "model_name": "HTMLStyleModel",
      "state": {
       "description_width": "",
       "font_size": null,
       "text_color": null
      }
     },
     "cf5cc6973cb547eca4d07c6d8445f105": {
      "model_module": "@jupyter-widgets/controls",
      "model_module_version": "2.0.0",
      "model_name": "HTMLStyleModel",
      "state": {
       "description_width": "",
       "font_size": null,
       "text_color": null
      }
     }
    },
    "version_major": 2,
    "version_minor": 0
   }
  }
 },
 "nbformat": 4,
 "nbformat_minor": 5
}
