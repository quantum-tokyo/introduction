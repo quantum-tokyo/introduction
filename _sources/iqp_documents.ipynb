{
 "cells": [
  {
   "cell_type": "markdown",
   "metadata": {},
   "source": [
    "# IBM Quantum Plaform 教材 日本語訳\n",
    "\n",
    "[IBM Quantum Documents](https://docs.quantum.ibm.com/)、[IBM Quantum Learning](https://learning.quantum.ibm.com/) の教材からピックアップした和訳集です。</br>\n",
    "- [Qiskit Functions とは](./documents/functions-ja.ipynb)</br>\n",
    "    - Circuit functions\n",
    "        - [IBM Circuit Function](./documents/ibm-circuit-function-ja.ipynb)</br>\n",
    "        - [Algorithmiq の TEM](./documents/algorithmiq-tem-ja.ipynb)</br>\n",
    "        - [Q-CTRL の パフォーマンス管理](./documents/q-ctrl-performance-management-ja.ipynb)</br>\n",
    "        - [Qedma の QESEM](./documents/qedma-qesem-ja.ipynb)</br>\n",
    "    - Application functions\n",
    "        - Q-CTRL の 最適化ソルバー\n",
    "        - QunaSys の QURI Chemistry"
   ]
  },
  {
   "cell_type": "markdown",
   "metadata": {},
   "source": []
  }
 ],
 "metadata": {
  "kernelspec": {
   "display_name": "Python 3",
   "language": "python",
   "name": "python3"
  },
  "language_info": {
   "codemirror_mode": {
    "name": "ipython",
    "version": 3
   },
   "file_extension": ".py",
   "mimetype": "text/x-python",
   "name": "python",
   "nbconvert_exporter": "python",
   "pygments_lexer": "ipython3",
   "version": "3.8.0"
  },
  "widgets": {
   "application/vnd.jupyter.widget-state+json": {
    "state": {},
    "version_major": 2,
    "version_minor": 0
   }
  }
 },
 "nbformat": 4,
 "nbformat_minor": 4
}
