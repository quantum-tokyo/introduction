{
 "cells": [
  {
   "cell_type": "markdown",
   "metadata": {},
   "source": [
    "# IBM Quantum Plaform 教材 日本語訳\n",
    "\n",
    "[IBM Quantum Documents](https://docs.quantum.ibm.com/)、[IBM Quantum Learning](https://learning.quantum.ibm.com/) の教材からピックアップした和訳集です。</br>\n",
    "- [Qiskit Functions とは](./documents/functions-ja.ipynb)</br>\n",
    "    - Circuit functions\n",
    "        - [IBM Circuit Function](./documents/ibm-circuit-function-ja.ipynb)</br>\n",
    "        - [Algorithmiq の TEM](./documents/algorithmiq-tem-ja.ipynb)</br>\n",
    "        - [Q-CTRL の パフォーマンス管理](./documents/q-ctrl-performance-management-ja.ipynb)</br>\n",
    "        - [Qedma の QESEM](./documents/qedma-qesem-ja.ipynb)</br>\n",
    "    - Application functions\n",
    "        - [Q-CTRL の 最適化ソルバー](./documents/q-ctrl-optimization-solver-ja.ipynb)\n",
    "        - [QunaSys の QURI Chemistry](./documents/qunasys-quri-chemistry-ja.ipynb)\n",
    "- [Qiskit Addon とは](./documents/addons_ja.ipynb)\n",
    "    - Sample-based quantum diagonalization (SQD)\n",
    "        - [サンプルベースの量子対角化（SQD）の概要](./documents/qiskit-addons-sqd_ja.ipynb)\n",
    "        - [サンプルベースの量子対角化（SQD）の始め方](./documents/qiskit-addons-sqd-get-started_ja.ipynb)\n",
    "\n",
    "- IBM Quantum Learning Tutorials\n",
    "    - Beginner\n",
    "        - [CHSH 不等式](./tutorial/chsh-inequality-ja.ipynb)\n",
    "        - [ユーティリティースケールの量子最適化問題を解く](./documents/quantum-approximate-optimization-algorithm-ja.ipynb)\n",
    "\n",
    "    - Intermediate\n",
    "        - [SQD （サンプルベースの量子対角化）によるフェルミオン ハミルトニアンのエネルギー推定の改善](./tutorial/improving-energy-estimation-of-a-fermionic-hamiltonian-with-sqd-ja.ipynb)\n",
    "        - [改良されたトロッター化時間発展と近似量子コンパイル（Approximate Quantum Compilation, AQC-Tensor）](./tutorial/improved-trotterized-time-evolution-with-approximate-quantum-compilation-ja.ipynb)\n",
    "\n",
    "- IBM Quantum Learning Courses\n",
    "    - [量子情報の基礎](./courses/basics/basics-of-quantum-information-ja.ipynb)\n",
    "    - [量子エラー訂正の基礎](./courses/foundations-of-quantum-error-correction/foundations-of-quantum-error-correction-ja.ipynb)\n",
    "    - [ユーティリティ・スケール量子コンピューティング](./courses/utility-scale-quantum-computing/overview-ja.ipynb)\n",
    "   \n",
    "        "
   ]
  },
  {
   "cell_type": "markdown",
   "metadata": {},
   "source": []
  }
 ],
 "metadata": {
  "kernelspec": {
   "display_name": "Python 3",
   "language": "python",
   "name": "python3"
  },
  "language_info": {
   "codemirror_mode": {
    "name": "ipython",
    "version": 3
   },
   "file_extension": ".py",
   "mimetype": "text/x-python",
   "name": "python",
   "nbconvert_exporter": "python",
   "pygments_lexer": "ipython3",
   "version": "3.8.0"
  },
  "widgets": {
   "application/vnd.jupyter.widget-state+json": {
    "state": {},
    "version_major": 2,
    "version_minor": 0
   }
  }
 },
 "nbformat": 4,
 "nbformat_minor": 4
}
