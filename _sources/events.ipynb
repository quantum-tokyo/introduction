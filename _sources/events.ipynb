{
 "cells": [
  {
   "cell_type": "markdown",
   "metadata": {},
   "source": [
    "# Qiskitコミュニティー関連イベント案内\n",
    "\n",
    "## 現在開催中のイベントなど\n",
    "(1) **[Quantum Exploeres 2023](https://challenges.quantum-computing.ibm.com/quantum-explorers-23 )**: 〜2024年2月1日まで開催。独自ペースで学習できる、初心者から参加可能な学習イベントです。和訳も準備しています。\n",
    "\n",
    "(2)**Quantum Tokyo (日本国内のQiskit勉強会)** の[イベントサイト](https://quantum-tokyo.connpass.com/)：月に１、2回程度、オンラインで開催しています。:\n",
    "\n",
    "## 資格・コミュニティー活動\n",
    "(1) **[Qiskit Advocate](https://github.com/qiskit-advocate/application-guide)** : 毎年夏ごろに１回だけ応募期間があります\n",
    "\n",
    "(2) **[Qiskit デベロッパー認定制度](https://www.ibm.com/training/certification/C0010300)** \n",
    "\n",
    "(3) **[Qiskit Documents翻訳活動](https://github.com/qiskit-community/qiskit-translations)**\n"
   ]
  },
  {
   "cell_type": "markdown",
   "metadata": {},
   "source": []
  }
 ],
 "metadata": {
  "kernelspec": {
   "display_name": "Python 3",
   "language": "python",
   "name": "python3"
  },
  "language_info": {
   "codemirror_mode": {
    "name": "ipython",
    "version": 3
   },
   "file_extension": ".py",
   "mimetype": "text/x-python",
   "name": "python",
   "nbconvert_exporter": "python",
   "pygments_lexer": "ipython3",
   "version": "3.8.0"
  },
  "widgets": {
   "application/vnd.jupyter.widget-state+json": {
    "state": {},
    "version_major": 2,
    "version_minor": 0
   }
  }
 },
 "nbformat": 4,
 "nbformat_minor": 4
}
