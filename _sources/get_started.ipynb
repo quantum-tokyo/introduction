{
 "cells": [
  {
   "cell_type": "markdown",
   "metadata": {},
   "source": [
    "# Qiskit の始め方 \n",
    "\n",
    "Qiskitを使って、量子プログラミングを始める方法をご紹介します。\n",
    "\n",
    "## 1. Qiskit の環境構築\n",
    "   \n",
    "まず、Qiskitを動かすために、ご自分のパソコンにQiskitをインストールするか、または、Webブラウザー経由で使うかどちらかの方法で、環境を構築する必要があります。[Qiskit公式ではインストール](https://docs.quantum.ibm.com/guides/install-qiskit)を推奨していますが、Webブラウザー経由で使う方が簡単に始めることができます。\n",
    "\n",
    "1.1 Webブラウザー経由で使う場合\n",
    "- [qBraid Lab を使う手順](./get_started/qbraid.md)\n",
    "- [Google コラボ を使う手順](./get_started/colab.md)\n",
    "\n",
    "1.2 Qiskitをインストールする場合\n",
    "- [macにインストールする手順](./get_started/install_mac.md)\n",
    "- [Windowsにインストールする手順](./get_started/install_win.md)\n",
    "\n",
    "## 2. IBMの量子コンピューターの使い方\n",
    "\n",
    "IBMの量子コンピューターを使うためには、まず、IBMiD を作り、[IBM Quantum Platform](https://quantum.ibm.com/) にログインできるようにします。その後、APIトークンを使って、クラウド経由で[IBMの量子コンピューター](https://quantum.ibm.com/services/resources)に計算を実行させます。\n",
    "\n",
    "2.1 [IBM Quantum Platform へのログイン手順](./get_started/registration.md)\n",
    "\n",
    "2.2 [エンタングルメント状態を IBM Quantum の実デバイスで実行する](./get_started/bell.ipynb)\n",
    "\n"
   ]
  },
  {
   "cell_type": "code",
   "execution_count": null,
   "metadata": {},
   "outputs": [],
   "source": []
  }
 ],
 "metadata": {
  "kernelspec": {
   "display_name": "Python 3 (ipykernel)",
   "language": "python",
   "name": "python3"
  },
  "language_info": {
   "codemirror_mode": {
    "name": "ipython",
    "version": 3
   },
   "file_extension": ".py",
   "mimetype": "text/x-python",
   "name": "python",
   "nbconvert_exporter": "python",
   "pygments_lexer": "ipython3",
   "version": "3.10.0"
  },
  "widgets": {
   "application/vnd.jupyter.widget-state+json": {
    "state": {},
    "version_major": 2,
    "version_minor": 0
   }
  }
 },
 "nbformat": 4,
 "nbformat_minor": 4
}
