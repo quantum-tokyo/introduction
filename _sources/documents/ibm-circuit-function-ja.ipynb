{
 "cells": [
  {
   "cell_type": "markdown",
   "id": "dde95705",
   "metadata": {},
   "source": [
    "# IBM Circuit function\n",
    "\n",
    "<Admonition type=\"note\">\n",
    "  Qiskit Functionsは、IBM Quantum™ Premium Plan ユーザーのみが利用できる実験的な機能です。プレビュー リリースの状態であり、変更される可能性があります。\n",
    "</Admonition>\n",
    "\n",
    "## 概要\n",
    "\n",
    "IBM® Circuit functionは、[抽象化された PUBs](./primitive-input-output)を入力として受け取り、緩和された期待値を出力として返します。この Circuit functionには、研究者がアルゴリズムとアプリケーションの発見に集中できるように、自動化されカスタマイズされたパイプラインが含まれています。\n",
    "\n"
   ]
  },
  {
   "attachments": {},
   "cell_type": "markdown",
   "id": "5f761442",
   "metadata": {},
   "source": [
    "## 説明\n",
    "\n",
    "PUB を送信すると、抽象化された回路とオブザーバブルが自動的にトランスパイルされ、ハードウェア上で実行され、後処理されて緩和された期待値が返されます。これを行うには、次のツールを組み合わせます：\n",
    "\n",
    "\n",
    "*   [Qiskit Transpiler Service](./qiskit-transpiler-service)：抽象的な回路を[ハードウェアに最適化された ISA 回路](/guides/optimize-for-hardware)に変換するための AI 駆動型およびヒューリスティックなトランスパイル パスの自動選択が含まれます。\n",
    "\n",
    "*   [ユーティリティ・スケールの計算に必要なエラー抑制と緩和](./error-mitigation-and-suppression-techniques) ：測定とゲートのトワリング、動的デカップリング、トワリング読み出しエラー消滅（TREX）、ゼロ・ノイズ外挿（ZNE）、確率的エラー増幅（PEA）などを含む\n",
    "\n",
    "*   [Qiskit Runtime Estimator](./get-started-with-primitives：)：ハードウェア上でISA PUBを実行し、緩和された期待値を返す。\n",
    "\n",
    "![IBM Circuit function](./images/guides/ibm-circuit-function/ibm-circuit-function.svg)\n"
   ]
  },
  {
   "cell_type": "markdown",
   "id": "73390a19",
   "metadata": {},
   "source": [
    "## 始めましょう\n"
   ]
  },
  {
   "cell_type": "markdown",
   "id": "f46c531c",
   "metadata": {},
   "source": [
    " [IBM Quantum Platform API token](http://quantum.ibm.com/)を使用して認証し、次のように Qiskit Functionを選択します。"
   ]
  },
  {
   "cell_type": "code",
   "execution_count": 1,
   "id": "95a715d2",
   "metadata": {},
   "outputs": [],
   "source": [
    "from qiskit_ibm_catalog import QiskitFunctionsCatalog\n",
    "\n",
    "catalog = QiskitFunctionsCatalog()\n",
    "function = catalog.load(\"ibm/circuit-function\")"
   ]
  },
  {
   "cell_type": "markdown",
   "id": "e8837f5f",
   "metadata": {},
   "source": [
    "## 例\n",
    "まず、次の基本的な例を試してください。"
   ]
  },
  {
   "cell_type": "code",
   "execution_count": 2,
   "id": "d56e1440",
   "metadata": {},
   "outputs": [],
   "source": [
    "from qiskit.circuit.random import random_circuit\n",
    "from qiskit_ibm_runtime import QiskitRuntimeService\n",
    "\n",
    "# You can skip this step if you have a target backend, e.g.\n",
    "# backend_name = \"ibm_sherbrooke\"\n",
    "# You'll need to specify the credentials when initializing QiskitRuntimeService, if they were not previously saved.\n",
    "service = QiskitRuntimeService()\n",
    "backend = service.least_busy(operational=True, simulator=False)\n",
    "\n",
    "circuit = random_circuit(num_qubits=2, depth=2, seed=42)\n",
    "observable = \"Z\" * circuit.num_qubits\n",
    "pubs = [(circuit, observable)]\n",
    "\n",
    "job = function.run(\n",
    "  backend_name=backend.name,  # Or `backend=backend_name`, if you didn't initialize a backend object\n",
    "  pubs=pubs\n",
    ")"
   ]
  },
  {
   "cell_type": "markdown",
   "id": "03998691",
   "metadata": {},
   "source": [
    "Qiskit Functionワークロードの[status](/guides/functions#check-job-status) を確認するか、次のように[results](/guides/functions#retrieve-results)を返します。\n"
   ]
  },
  {
   "cell_type": "code",
   "execution_count": 4,
   "id": "7074ce8b-89d2-4310-b1a7-f400d4a5a41d",
   "metadata": {},
   "outputs": [
    {
     "name": "stdout",
     "output_type": "stream",
     "text": [
      "DONE\n"
     ]
    }
   ],
   "source": [
    "print(job.status())"
   ]
  },
  {
   "cell_type": "code",
   "execution_count": 5,
   "id": "856fe992",
   "metadata": {},
   "outputs": [
    {
     "name": "stdout",
     "output_type": "stream",
     "text": [
      "DONE\n"
     ]
    }
   ],
   "source": [
    "result = job.result()"
   ]
  },
  {
   "cell_type": "markdown",
   "id": "eda36356",
   "metadata": {},
   "source": [
    "結果は[Estimator result](https://docs.quantum.ibm.com/guides/primitive-input-output#estimator-output)と同じ形式になります。\n"
   ]
  },
  {
   "cell_type": "code",
   "execution_count": 6,
   "id": "765f3207",
   "metadata": {},
   "outputs": [
    {
     "name": "stdout",
     "output_type": "stream",
     "text": [
      "The result of the submitted job had 1 PUB\n",
      "\n",
      "The associated PubResult of this job has the following DataBins:\n",
      " DataBin(evs=np.ndarray(<shape=(), dtype=float64>), stds=np.ndarray(<shape=(), dtype=float64>), ensemble_standard_error=np.ndarray(<shape=(), dtype=float64>))\n",
      "\n",
      "And this DataBin has attributes: dict_keys(['evs', 'stds', 'ensemble_standard_error'])\n",
      "The expectation values measured from this PUB are: \n",
      "0.961499493414387\n"
     ]
    }
   ],
   "source": [
    "print(f'The result of the submitted job had {len(result)} PUB\\n')\n",
    "print(f'The associated PubResult of this job has the following DataBins:\\n {result[0].data}\\n')\n",
    "print(f'And this DataBin has attributes: {result[0].data.keys()}')\n",
    "print(f'The expectation values measured from this PUB are: \\n{result[0].data.evs}')"
   ]
  },
  {
   "cell_type": "markdown",
   "id": "73815ae7",
   "metadata": {},
   "source": [
    "## 入力\n",
    "IBM Circuit functionが受け入れるすべての入力パラメーターについては、次の表を参照してください。後続の[Options](#options)セクションでは、使用可能な`options` についてさらに詳しく説明します。\n",
    "\n"
   ]
  },
  {
   "cell_type": "markdown",
   "id": "19eafc4c",
   "metadata": {},
   "source": [
    "| Name      | Type                       | Description                                                                                                                                                                                                                         | Required | Default                                                                  | Example                                  |\n",
    "|-----------|----------------------------|-------------------------------------------------------------------------------------------------------------------------------------------------------------------------------------------------------------------------------------|----------|--------------------------------------------------------------------------|------------------------------------------|\n",
    "| backend\\_name   | str                        | Name of the backend to make the query.                                                                                                                                                                                              | Yes      | N/A                                                                      | `ibm_fez`                                |\n",
    "| pubs      | Iterable\\[EstimatorPubLike] |  (circuit,observables)や(circuit,observables,parameter_values)のような抽象的なPUBのような(プリミティブな統一ブロック)オブジェクトの反復可能。詳しくは[Overview of PUBs](/guides/primitive-input-output#overview-of-pubs) を参照してください。回路は抽象（非ISA）であってもよい。| Yes      | N/A                                                                      | (circuit, observables, parameter\\_values) |\n",
    "| options   | dict                       | Input options. See the **Options** section for more details.                                                                                                                                                                                | No       | See the **Options** section for details.                                                   | `{\"optimization_level\": 3}`                |\n",
    "| instance  | str                        | The hub/group/project to use in that format.                                                                                                                                                                                        | No       | あなたのアカウントが複数のインスタンスにアクセスできる場合、1つがランダムに選ばれる。 | `hub1/group1/project1`                   |\n"
   ]
  },
  {
   "cell_type": "markdown",
   "id": "a1072bd6",
   "metadata": {},
   "source": [
    "### Options\n",
    "\n",
    "#### 構造\n",
    "Qiskit Runtime primitivesと同様に、IBM Circuit functionのオプションはネストされた辞書として指定できます。`optimization_level` や `mitigation_level`などのよく使用されるオプションは 第1 レベルにあります。 その他のより高度なオプションは、`resilience` などのさまざまなカテゴリにグループ化されていますresilience。\n",
    "\n",
    "\n",
    "#### デフォルト\n",
    "オプションの値を指定しない場合は、サービスによって指定されたデフォルト値が使用されます。\n",
    "\n",
    "\n",
    "#### 緩和レベル\n",
    "\n",
    "IBM Circuit functionは `mitigation_level`もサポートします。mitigation levelは、ジョブに適用するエラー抑制と軽減の量を指定します。レベルが高いほど、処理時間が長くなりますが、より正確な結果が生成されます。エラー削減の度合いは、適用される方法によって異なります。軽減レベルは、エラー軽減および抑制方法の詳細な選択を抽象化して、ユーザーがアプリケーションに適したコストと精度のトレードオフを判断できるようにします。次の表は、各レベルに対応する方法を示しています。\n",
    "\n",
    "\n",
    "<Admonition type=\"note\">\n",
    "  名前は似ていますが、Estimatorの `resilience_level`は`mitigation_level`で使用されるものとは異なる手法が適用されます。\n",
    "</Admonition>\n",
    "\n",
    "</br></br>\n",
    "\n",
    "Qiskit Runtime Estimatorの `resilience_level` と同様に、`mitigation_level`は基本的な緩和オプションを指定します。mitigation levelに加えて手動で指定したオプションは、mitigation levelで定義された基本オプションセットの上に適用されます。したがって、原理的には、mitigation levelを 1 に設定し、測定mitigationをオフにすることもできますが、これはお勧めしません。\n",
    "\n",
    "| **Mitigation Level** | **Technique** |\n",
    "|:-:|:-:|\n",
    "| 1 \\[Default] | Dynamical decoupling + 測定twirling + TREX  |\n",
    "| 2 | Level 1 + gate twirling + ゲート折りたたみによるZNE |\n",
    "| 3 | Level 1 + gate twirling + PEAによるZNE  |\n",
    "\n",
    "次の例は、緩和レベルの設定を示しています：\n"
   ]
  },
  {
   "cell_type": "code",
   "execution_count": 7,
   "id": "13443be4",
   "metadata": {},
   "outputs": [],
   "source": [
    "options = {\"mitigation_level\": 2}\n",
    "\n",
    "job = function.run(\n",
    "  backend_name=backend.name,\n",
    "  pubs=pubs,\n",
    "  options=options\n",
    ")"
   ]
  },
  {
   "cell_type": "markdown",
   "id": "c823d7b3",
   "metadata": {},
   "source": [
    "#### 利用可能なすべてのオプション\n",
    "`mitigation_level`に加えて、IBM Circuit functionには、コストと精度のトレードオフを微調整できるいくつかの高度なオプションも用意されています。次の表に、使用可能なすべてのオプションを示します：\n",
    "\n",
    "\n",
    "\n",
    "| Option | Sub-option | Sub-sub-option | Description | Choices | Default |\n",
    "|-|-|-|-|-|-|\n",
    "| default\\_precision |  |  | The default precision to use for any PUB or `run()`<br />call that does not specify one.<br />Each input PUB can specify its own precision. If the `run()` method is given a precision, then that value is used for all PUBs in the `run()` call that do not specify their own.  | float > 0 | 0.015625 |\n",
    "| max\\_execution\\_time |  |  | Maximum execution time in seconds, which is based<br />on QPU usage (not wall clock time). QPU usage is the<br />amount of time that the QPU is dedicated to processing your job. If a job exceeds this time limit, it is forcibly canceled. | Integer number of seconds in the range \\[1, 10800] |  |\n",
    "| mitigation\\_level |  |  | How much error suppression and mitigation to apply. Refer to the [Mitigation level](#mitigation-level) section for more information about the methods used at each level. | 1 / 2 / 3 | 1 |\n",
    "| optimization\\_level |  |  | How much optimization to perform on the circuits. [Higher levels](/guides/set-optimization) generate more optimized circuits, at the expense of longer transpilation time. | 0 / 1 / 2 / 3 | 2 |\n",
    "| dynamical\\_decoupling | enable |  | Whether to enable dynamical decoupling. Refer to [Error suppression and mitigation techniques](/guides/error-mitigation-and-suppression-techniques#dynamical-decoupling) for the explanation of the method.  | True/False | True |\n",
    "|  | sequence\\_type |  | Which dynamical decoupling sequence to use.<br />\\* `XX`: use the sequence `tau/2 - (+X) - tau - (+X) - tau/2`<br />\\* `XpXm`: use the sequence `tau/2 - (+X) - tau - (-X) - tau/2`<br />\\* `XY4`: use the sequence<br />`tau/2 - (+X) - tau - (+Y) - tau (-X) - tau - (-Y) - tau/2` | 'XX'/'XpXm'/'XY4' | 'XX' |\n",
    "| twirling | enable\\_gates |  | Whether to apply 2-qubit Clifford gate twirling. | True/False | False |\n",
    "|  | enable\\_measure |  | Whether to enable twirling of measurements. | True/False | True |\n",
    "| resilience | measure\\_mitigation |  | Whether to enable TREX measurement error mitigation method. Refer to [Error suppression and mitigation techniques](/guides/error-mitigation-and-suppression-techniques#twirled-readout-error-extinction-trex) for the explanation of the method.  | True/False | True |\n",
    "|  | zne\\_mitigation |  | Whether to turn on Zero Noise Extrapolation error mitigation method. Refer to [Error suppression and mitigation techniques](/guides/error-mitigation-and-suppression-techniques#zero-noise-extrapolation-zne) for the explanation of the method.  | True/False | False |\n",
    "|  | zne | amplifier | Which technique to use for amplifying noise. One of: <br /> - `gate_folding` (default) uses 2-qubit gate folding to amplify noise. If the noise factor requires amplifying only a subset of the gates, then these gates are chosen randomly.<br /><br /> - `gate_folding_front` uses 2-qubit gate folding to amplify noise. If the noise factor requires amplifying only a subset of the gates, then these gates are selected from the front of the topologically ordered DAG circuit.<br /><br /> - `gate_folding_back` uses 2-qubit gate folding to amplify noise. If the noise factor requires amplifying only a subset of the gates, then these gates are selected from the back of the topologically ordered DAG circuit.<br /><br /> - `pea` uses a technique called Probabilistic error amplification (PEA) to amplify noise. Refer to [Error suppression and mitigation techniques](/guides/error-mitigation-and-suppression-techniques#probabilistic-error-amplification-pea) for the explanation of the method.  | gate\\_folding / gate\\_folding\\_front / gate\\_folding\\_back / pea | gate\\_folding |\n",
    "|  |  | noise\\_factors | Noise factors to use for noise amplification. | list of floats; each float >= 1 | (1, 1.5, 2) for PEA, and (1, 3, 5) otherwise. |\n",
    "|  |  | extrapolator | Noise factors to evaluate the fit extrapolation models at. This option does not affect execution or model fitting in any way; it only determines the points at which the `extrapolator`s are evaluated to be returned in the data fields called `evs_extrapolated` and `stds_extrapolated`. | one or more of `exponential`,`linear`, `double_exponential`,`polynomial_degree_(1 <= k <= 7)` | (`exponential`, `linear`) |\n",
    "|  | pec\\_mitigation |  | Whether to turn on Probabilistic Error Cancellation error mitigation method. Refer to [Error suppression and mitigation techniques](/guides/error-mitigation-and-suppression-techniques#probabilistic-error-cancellation-pec) for the explanation of the method.  | True/False | False |\n",
    "|  | pec | max\\_overhead | The maximum circuit sampling overhead allowed, or `None` for no maximum. | None/ integer >1 | 100 |\n",
    "\n",
    "次の例では、mitigation level を 1 に設定すると、最初は ZNE 緩和がオフになりますが、`zne_mitigation`を`True`に設定すると、`mitigation_level`からの関連設定が上書きされます。"
   ]
  },
  {
   "cell_type": "code",
   "execution_count": 8,
   "id": "b2632bd9",
   "metadata": {},
   "outputs": [],
   "source": [
    "options = {\n",
    "  \"mitigation_level\": 1,\n",
    "  \"resilience\": {\"zne_mitigation\": True}\n",
    "}"
   ]
  },
  {
   "cell_type": "markdown",
   "id": "997c3779",
   "metadata": {},
   "source": [
    "## 出力\n"
   ]
  },
  {
   "cell_type": "markdown",
   "id": "75d7cbba",
   "metadata": {},
   "source": [
    "Circuit functionの出力は[PrimitiveResult](/api/qiskit/qiskit.primitives.PrimitiveResult)であり、これには次の 2 つのフィールドが含まれます：\n",
    "\n",
    "*   1 つ以上の[PubResult](/api/qiskit/qiskit.primitives.PubResult)オブジェクト。これらは`PrimitiveResult`から直接インデックス付けできます。\n",
    "\n",
    "*   ジョブレベルのメタデータ。\n",
    "\n",
    "それぞれの`PubResult`に `data` と `metadata` フィールドが含まれます。\n",
    "\n",
    "*   この `data` フィールドには、少なくとも期待値の配列 (`PubResult.data.evs`)  と標準誤差の配列 (`PubResult.data.stds`)が含まれます。また、使用するオプションに応じて、さらに多くのデータが含まれる場合もあります。\n",
    "\n",
    "*  この`metadata`フィールドには PUB レベルのメタデータ (`PubResult.metadata`) が含まれます。\n",
    "\n",
    "次のコード スニペットは、`PrimitiveResult` (および関連する`PubResult`) 形式について説明します。\n"
   ]
  },
  {
   "cell_type": "code",
   "execution_count": 9,
   "id": "6e3f86aa",
   "metadata": {},
   "outputs": [
    {
     "name": "stdout",
     "output_type": "stream",
     "text": [
      "The result of the submitted job had 1 PUB\n",
      "The expectation values measured from this PUB are: \n",
      "0.961499493414387\n",
      "And the associated metadata is: \n",
      "{'shots': 4096, 'target_precision': 0.015625, 'circuit_metadata': {}, 'resilience': {}, 'num_randomizations': 32}\n"
     ]
    }
   ],
   "source": [
    "print(f'The result of the submitted job had {len(result)} PUB')\n",
    "print(f'The expectation values measured from this PUB are: \\n{result[0].data.evs}')\n",
    "print(f'And the associated metadata is: \\n{result[0].metadata}')"
   ]
  },
  {
   "cell_type": "markdown",
   "id": "02295f5d",
   "metadata": {},
   "source": [
    "## エラーメッセージの取得\n",
    "ワークロードのステータスが  `ERROR`の場合、`job.result()`で、デバッグに役立つエラー メッセージを取得します：\n",
    "\n"
   ]
  },
  {
   "cell_type": "code",
   "execution_count": 8,
   "id": "4070e592",
   "metadata": {},
   "outputs": [
    {
     "name": "stdout",
     "output_type": "stream",
     "text": [
      "Traceback (most recent call last):\n",
      "  File \"/runner/runner.py\", line 10, in run\n",
      "    func = CircuitFunction(**arguments)\n",
      "           ^^^^^^^^^^^^^^^^^^^^^^^^^^^^\n",
      "  File \"/runner/circuit_function/circuit_function.py\", line 86, in __init__\n",
      "    self._backend = self._service.backend(\n",
      "                    ^^^^^^^^^^^^^^^^^^^^^^\n",
      "  File \"/usr/local/lib/python3.11/site-packages/qiskit_ibm_runtime/qiskit_runtime_service.py\", line 787, in backend\n",
      "    backends = self.backends(name, instance=instance, use_fractional_gates=use_fractional_gates)\n",
      "               ^^^^^^^^^^^^^^^^^^^^^^^^^^^^^^^^^^^^^^^^^^^^^^^^^^^^^^^^^^^^^^^^^^^^^^^^^^^^^^^^^\n",
      "  File \"/usr/local/lib/python3.11/site-packages/qiskit_ibm_runtime/qiskit_runtime_service.py\", line 536, in backends\n",
      "    raise QiskitBackendNotFoundError(\"No backend matches the criteria.\")\n",
      "qiskit.providers.exceptions.QiskitBackendNotFoundError: 'No backend matches the criteria.'\n",
      "\n"
     ]
    }
   ],
   "source": [
    "job = function.run(\n",
    "  backend_name=\"bad_backend_name\",\n",
    "  pubs=pubs,\n",
    "  options=options\n",
    ")\n",
    "\n",
    "print(job.result())"
   ]
  },
  {
   "cell_type": "markdown",
   "id": "32db1269",
   "metadata": {},
   "source": [
    "## サポートを受ける\n",
    "\n",
    "[IBM Quantum support](https://docs.quantum.ibm.com/support)に連絡し、次の情報を伝えてください。\n",
    "\n",
    "\n",
    "\n",
    "*   Qiskit Function Job ID (`qiskit-ibm-catalog`), `job.job_id`\n",
    "\n",
    "*   問題の詳細な説明\n",
    "\n",
    "*   関連するエラーメッセージまたはコード\n",
    "   \n",
    "*   問題を再現する手順\n"
   ]
  },
  {
   "cell_type": "markdown",
   "id": "0439eef4",
   "metadata": {},
   "source": [
    "## 次のステップ\n",
    "\n",
    " * [IBM Circuit functionを使用したワークフローの構築](https://learning.quantum.ibm.com/tutorial/building-workflows-with-the-ibm-circuit-function)チュートリアルをお試しください。\n"
   ]
  }
 ],
 "metadata": {
  "description": "Explore how to use the IBM Circuit function, with AI-driven transpilation and advanced error mitigation (TREX, ZNE, PEA)",
  "kernelspec": {
   "display_name": "Python 3 (ipykernel)",
   "language": "python",
   "name": "python3"
  },
  "language_info": {
   "codemirror_mode": {
    "name": "ipython",
    "version": 3
   },
   "file_extension": ".py",
   "mimetype": "text/x-python",
   "name": "python",
   "nbconvert_exporter": "python",
   "pygments_lexer": "ipython3",
   "version": "3.12.3"
  },
  "title": "IBM Circuit function"
 },
 "nbformat": 4,
 "nbformat_minor": 5
}
