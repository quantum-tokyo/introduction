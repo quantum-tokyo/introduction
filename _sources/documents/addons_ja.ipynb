{
 "cells": [
  {
   "cell_type": "markdown",
   "id": "eff86571-7ad1-4bf5-b1bb-9bddcfcbc3a4",
   "metadata": {},
   "source": [
    "# Qiskit addons\n",
    "\n",
    "Qiskit addonsは、ユーティリティ規模でアルゴリズム発見を可能にする研究機能のコレクションです。\n",
    "これらの機能は、量子アルゴリズムの作成および実行のためのQiskitの高性能な基盤ツールを基に構築されています。\n",
    "アドオンはモジュール化されたソフトウェアコンポーネントとして提供され、[workflow](https://docs.quantum.ibm.com/guides/intro-to-patterns)に\n",
    "組み込むことで、新しい量子アルゴリズムのスケールアップや設計を可能にします。\n",
    "\n",
    "## マッピング用のAddons\n",
    "\n",
    "### テンソルネットワークによる近似量子コンパイル\n",
    "\n",
    "テンソルネットワークによる近似量子コンパイル（Approximate quantum compilation with tensor networks, AQC-Tensor）は、高忠実度の回路を低い深さで構築することを可能にします。\n",
    "- [GitHub repository](https://github.com/Qiskit/qiskit-addon-aqc-tensor)を参照する。\n",
    "- [documentation](https://quantum.cloud.ibm.com/docs/guides/qiskit-addons-aqc)を読む。\n",
    "- AQC を使用して[トロッター時間発展の改善(和訳)](https://quantum-tokyo.github.io/introduction/tutorial/improved-trotterized-time-evolution-with-approximate-quantum-compilation-ja.html)のチュートリアルを読む。\n",
    "\n",
    "\n",
    "### マルチプロダクト公式\n",
    "\n",
    "マルチプロダクト公式（MPF）は、いくつかの回路実行を加重組み合わせすることで、ハミルトニアン力学のトロッター誤差を低減します。\n",
    "\n",
    "- [GitHub repository](https://github.com/Qiskit/qiskit-addon-mpf)を参照する。\n",
    "- [documentation](https://qiskit.github.io/qiskit-addon-mpf)を読む。\n",
    "\n",
    "## 最適化用の Addons\n",
    "\n",
    "### 演算子のバックプロパゲーション\n",
    "\n",
    "演算子のバックプロパゲーション（OBP）は、より多くの演算子測定を必要とする代わりに、\n",
    "末尾の操作をトリミングすることで回路の深さを削減します。\n",
    "\n",
    "- [GitHub repository](https://github.com/Qiskit/qiskit-addon-obp)を参照する。\n",
    "- [documentation](https://quantum.cloud.ibm.com/docs/guides/qiskit-addons-obp)を読む。\n",
    "- [OBPを使って期待値を改善する](https://learning.quantum.ibm.com/tutorial/improving-estimation-of-expectation-values-with-operator-backpropagation)チュートリアルを読む。\n",
    "\n",
    "### 回路のカット\n",
    "\n",
    "回路のカットは、非隣接量子ビット間の絡み合いゲートを分解することで、トランスパイルされた回路の深さを削減します。\n",
    "- [GitHub repository](https://github.com/Qiskit/qiskit-addon-cutting)を参照する。\n",
    "- [documentation](https://qiskit.github.io/qiskit-addon-cutting)を読む。\n",
    "\n",
    "##  後処理用のAddons \n",
    "\n",
    "### サンプルベースの量子対角化\n",
    "\n",
    "サンプルベースの量子対角化（SQD）は、ノイズを含む量子サンプルを古典的に後処理し、\n",
    "例えば化学アプリケーションにおける量子系ハミルトニアンのより正確な固有値推定を提供します。\n",
    "\n",
    "- [GitHub repository](https://github.com/Qiskit/qiskit-addon-sqd)を参照する。\n",
    "- [documentation(和訳)](https://quantum-tokyo.github.io/introduction/documents/qiskit-addons-sqd_ja.html)を読む。\n",
    "- [SQDを使ったエネルギー推定の改善(和訳)](https://quantum-tokyo.github.io/introduction/tutorial/improving-energy-estimation-of-a-fermionic-hamiltonian-with-sqd-ja.html)のチュートリアルを読む。\n"
   ]
  },
  {
   "cell_type": "code",
   "execution_count": null,
   "id": "f923c280-ac5d-4e45-8e16-b9ee0d45b40a",
   "metadata": {},
   "outputs": [],
   "source": []
  }
 ],
 "metadata": {
  "kernelspec": {
   "display_name": "Python 3 (ipykernel)",
   "language": "python",
   "name": "python3"
  },
  "language_info": {
   "codemirror_mode": {
    "name": "ipython",
    "version": 3
   },
   "file_extension": ".py",
   "mimetype": "text/x-python",
   "name": "python",
   "nbconvert_exporter": "python",
   "pygments_lexer": "ipython3",
   "version": "3.12.3"
  }
 },
 "nbformat": 4,
 "nbformat_minor": 5
}
