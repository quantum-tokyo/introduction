{
 "cells": [
  {
   "attachments": {},
   "cell_type": "markdown",
   "metadata": {},
   "source": [
    "# Introduction to Qiskit Functions\n",
    "\n",
    "<Admonition type=\"note\">\n",
    "  Qiskit Functionsは、IBM Quantum™ Premium Plan ユーザーのみが利用できる実験的な機能です。プレビュー リリースの状態であり、変更される可能性があります。\n",
    "</Admonition>\n",
    "\n",
    "\n",
    "Qiskit Functions は、量子ソフトウェア開発ワークフローの一部を抽象化することで、ユーティリティ規模のアルゴリズムの発見とアプリケーション開発を簡素化および加速します。このようにして、Qiskit Functions は、通常は手動でのコード作成や実験の微調整に費やされる時間を解放します。\n",
    "\n",
    "![Overview of Qiskit Functions](./images/guides/functions/functions-overview.svg)\n",
    "\n",
    "関数には 2 つのタイプがあります。:\n",
    "\n",
    "| タイプ | 何をするのか? | 入力と出力の例 | 誰のためのものか? |\n",
    "| - | - | - | - |\n",
    "| Circuit function | 回路を実行するための簡素化されたインターフェース。トランスパイル、エラー抑制、エラー軽減を抽象化します。| **Input**: 抽象化された `PUB`s <br /> **Output**: 緩和された期待値 | 研究者は、ハードウェアの最適化やエラー処理に重点を置くことなく、Qiskit を使用して新しいアルゴリズムやアプリケーションを発見できます。回路関数を使用して、カスタム アプリケーション関数を構築できます。 |\n",
    "| Application function | アルゴリズムやドメイン固有のユースケースの探索など、より高レベルのタスクをカバーします。古典的な入力と出力を使用して、タスクを解決するための量子ワークフローを抽象化します。 | **Input**: 分子、グラフ <br /> **Output**: エネルギー、コスト | 非量子領域の研究者は、古典データを量子回路にマッピングする必要なく、既存の大規模な古典ワークフローに量子を統合します。 |\n"
   ]
  },
  {
   "cell_type": "markdown",
   "metadata": {},
   "source": [
    "Functionsは IBM® およびサード パーティー パートナーによって提供されます。各Functionsは特定のワークロード特性に合わせてパフォーマンスが調整され、独自のパフォーマンス チューニング オプションがあります。プレミアム プランのユーザーは、IBM Qiskit Functions を無料で使い始めることも、カタログに関数を提供しているパートナーからライセンスを取得することもできます。\n",
    "\n",
    "\n",
    "\n",
    "## Get started with Qiskit Functions\n",
    "\n",
    "### Qiskit Functions Catalogクライアントをインストールする\n",
    "\n",
    "Qiskit Functions の使用を開始するには、IBM Qiskit Functions Catalog クライアントをインストールします。\n",
    "\n",
    "`pip install qiskit-ibm-catalog`\n",
    "\n",
    "\n",
    "インストールが完了したら、次のように[IBM Quantum Platform API token](http://quantum.ibm.com/) を使用して認証します。"
   ]
  },
  {
   "cell_type": "code",
   "execution_count": 2,
   "metadata": {},
   "outputs": [],
   "source": [
    "#!pip install qiskit-ibm-catalog"
   ]
  },
  {
   "cell_type": "code",
   "execution_count": 1,
   "metadata": {},
   "outputs": [],
   "source": [
    "from qiskit_ibm_catalog import QiskitFunctionsCatalog\n",
    "\n",
    "catalog = QiskitFunctionsCatalog(token='2e3c9b01ed7d8788964de9238b932e9f7828418afa373dd180fcbad2da42ece4513aa23ac879c28ea24a3092cb15f476d24b8920b3d0239fd521f645a72c8f8e')"
   ]
  },
  {
   "cell_type": "code",
   "execution_count": 2,
   "metadata": {},
   "outputs": [],
   "source": [
    "from qiskit_ibm_catalog import QiskitFunctionsCatalog\n",
    "\n",
    "catalog = QiskitFunctionsCatalog(token='<YOUR_IQP_API_TOKEN>')"
   ]
  },
  {
   "cell_type": "markdown",
   "metadata": {},
   "source": [
    "オプションとして、 サービスを初期化する前に、 `save_account()` メソッドを使用して資格情報を保存し、後で簡単にアクセスできるようにすることができます。これは `QiskitRuntimeService.save_account()` と同じ場所に認証情報を保存するので、 `QiskitRuntimeService` を使ってアカウントを保存していた場合はこの手順を省略することができる。*アカウントの認証情報はプレーンテキストで保存されるので、信頼できるデバイスを使用している場合のみ、この手順を実行してください。*"
   ]
  },
  {
   "cell_type": "code",
   "execution_count": null,
   "metadata": {},
   "outputs": [],
   "source": [
    "from qiskit_ibm_catalog import QiskitFunctionsCatalog\n",
    "\n",
    "# This can be skipped if you previously did QiskitRuntimeService.save_account()\n",
    "QiskitFunctionsCatalog.save_account(token=\"<YOUR_IQP_API_TOKEN>\")"
   ]
  },
  {
   "cell_type": "markdown",
   "metadata": {},
   "source": [
    "認証が完了すると、アクセスできる Qiskit Functionsカタログの関数を一覧表示できます。"
   ]
  },
  {
   "cell_type": "code",
   "execution_count": 2,
   "metadata": {},
   "outputs": [
    {
     "data": {
      "text/plain": [
       "[QiskitFunction(qedma/qesem-dev),\n",
       " QiskitFunction(qunasys/quri-chemistry),\n",
       " QiskitFunction(qunasys/qce),\n",
       " QiskitFunction(algorithmiq/tem),\n",
       " QiskitFunction(qunasys/qsci-vqe),\n",
       " QiskitFunction(qedma/qesem),\n",
       " QiskitFunction(multiverse/singularity),\n",
       " QiskitFunction(q-ctrl/performance-management-dev),\n",
       " QiskitFunction(qunasys/quri-chemistry-dev),\n",
       " QiskitFunction(ibm/circuit-function),\n",
       " QiskitFunction(q-ctrl/optimization-solver),\n",
       " QiskitFunction(q-ctrl/performance-management),\n",
       " QiskitFunction(algorithmiq/tem-dev),\n",
       " QiskitFunction(q-ctrl/optimization-solver-dev)]"
      ]
     },
     "execution_count": 2,
     "metadata": {},
     "output_type": "execute_result"
    }
   ],
   "source": [
    "catalog.list()"
   ]
  },
  {
   "cell_type": "markdown",
   "metadata": {},
   "source": [
    "### 有効な機能を実行する\n",
    "カタログ オブジェクトがインスタンス化されたら、`catalog.load(provider/function-name)` でfunctionを選択できます\n"
   ]
  },
  {
   "cell_type": "code",
   "execution_count": 3,
   "metadata": {},
   "outputs": [],
   "source": [
    "ibm_cf = catalog.load('ibm/circuit-function')"
   ]
  },
  {
   "cell_type": "markdown",
   "metadata": {},
   "source": [
    "各 Qiskit Function には、カスタム入力、オプション、および出力があります。詳細については、実行するfunctionの特定のドキュメント ページを確認してください。デフォルトでは、すべてのユーザーが一度に実行できるfunctionジョブは 1 つだけです。"
   ]
  },
  {
   "cell_type": "code",
   "execution_count": 7,
   "metadata": {},
   "outputs": [
    {
     "name": "stdout",
     "output_type": "stream",
     "text": [
      "0ede4d0f-06d6-4360-86a1-5028ca511b3f\n"
     ]
    }
   ],
   "source": [
    "job = ibm_cf.run(\n",
    "    instance=...,\n",
    "    pubs=[],\n",
    "    backend=\"backend_name\"\n",
    ")\n",
    "\n",
    "job.job_id"
   ]
  },
  {
   "cell_type": "markdown",
   "metadata": {},
   "source": [
    "### ジョブステータスを確認する\n",
    "\n",
    "<Admonition type=\"tip\">\n",
    "  現在、IBM Quantum ワークロード テーブルには、Qiskit Runtime  ワークロードのみが反映されています。Qiskit Functionワークロードの現在のステータスを確認するには、`job.status()` を使用します。\n",
    "</Admonition>\n",
    "\n",
    "Qiskit Function `job_id` を使用すると、実行中のジョブのステータスを確認できます。これには次のステータスが含まれます:\n",
    "\n",
    "*   **`QUEUED`**: リモート プログラムは Qiskit  Function キューにあります。キューの優先順位は、Qiskit  Functionの使用頻度に基づいて決まります。\n",
    "    \n",
    "*   **`INITIALIZING`**: リモート プログラムが起動しています。これには、リモート環境のセットアップと依存関係のインストールが含まれます。\n",
    "\n",
    "*   **`RUNNING`**: プログラムが実行中です。\n",
    "\n",
    "*   **`DONE`**:プログラムが完了し、 `job.results()` を使用して結果データを取得できます。\n",
    "\n",
    "*   **`ERROR`**: 問題のためプログラムの実行が停止しました。  `job.result()` を使用してエラー メッセージを取得します。\n",
    "\n",
    "*   **`CANCELED`**: プログラムは、ユーザー、サービス、またはサーバーによってキャンセルされました。\n"
   ]
  },
  {
   "cell_type": "code",
   "execution_count": 8,
   "metadata": {},
   "outputs": [
    {
     "name": "stdout",
     "output_type": "stream",
     "text": [
      "'DONE'\n"
     ]
    }
   ],
   "source": [
    "job.status()"
   ]
  },
  {
   "cell_type": "markdown",
   "metadata": {},
   "source": [
    "### 結果を取得\n",
    "\n",
    "プログラムが  `DONE`になったら、 `job.results()`  を使用して結果を取得できます。この出力形式は関数ごとに異なるため、特定のドキュメントに従ってください。\n",
    "\n"
   ]
  },
  {
   "cell_type": "code",
   "execution_count": 9,
   "metadata": {},
   "outputs": [
    {
     "name": "stdout",
     "output_type": "stream",
     "text": [
      "\n",
      "PubResult(data=DataBin(evs=np.ndarray(<shape=(20,), dtype=float64>), stds=np.ndarray(<shape=(20,), dtype=float64>), evs_noise_factors=np.ndarray(<shape=(20, 3), dtype=float64>), stds_noise_factors=np.ndarray(<shape=(20, 3), dtype=float64>), ensemble_stds_noise_factors=np.ndarray(<shape=(20, 3), dtype=float64>), evs_extrapolated=np.ndarray(<shape=(20, 2, 4), dtype=float64>), stds_extrapolated=np.ndarray(<shape=(20, 2, 4), dtype=float64>), shape=(20,)), metadata={'shots': 4096, 'target_precision': 0.015625, 'circuit_metadata': {}, 'resilience': {'zne': {'extrapolator': array(['exponential', 'exponential', 'exponential', 'exponential',\n",
      "       'exponential', 'exponential', 'exponential', 'exponential',\n",
      "       'exponential', 'exponential', 'exponential', 'exponential',\n",
      "       'exponential', 'exponential', 'exponential', 'exponential',\n",
      "       'exponential', 'exponential', 'exponential', 'exponential'],\n",
      "      dtype='<U11')}, 'layer_noise': {'noise_overhead': 1, 'total_mitigated_layers': 0, 'unique_mitigated_layers': 0, 'unique_mitigated_layers_noise_overhead': []}}, 'num_randomizations': 32})\n",
      "      \n"
     ]
    }
   ],
   "source": [
    "result = job.result()\n",
    "print(result)"
   ]
  },
  {
   "cell_type": "markdown",
   "metadata": {},
   "source": [
    "いつでもジョブをキャンセルすることもできます。\n"
   ]
  },
  {
   "cell_type": "code",
   "execution_count": 10,
   "metadata": {},
   "outputs": [
    {
     "name": "stdout",
     "output_type": "stream",
     "text": [
      "'Job has been stopped.'\n"
     ]
    }
   ],
   "source": [
    "job.stop()"
   ]
  },
  {
   "cell_type": "markdown",
   "metadata": {},
   "source": [
    "### Qiskit Functionsで以前に実行されたジョブを一覧表示する\n",
    "Qiskit Functions に送信されたすべてのジョブを一覧表示するには、`jobs()` のコマンドを使用できます。\n"
   ]
  },
  {
   "cell_type": "code",
   "execution_count": 11,
   "metadata": {},
   "outputs": [
    {
     "name": "stdout",
     "output_type": "stream",
     "text": [
      "[<Job | 0ede4d0f-06d6-4360-86a1-5028ca511b3f>,\n",
      " <Job | abf78e9a-b554-4e38-966a-f99cff877b8c>,\n",
      " <Job | 90e1109e-809f-4768-a2dc-f45bf71a97b4>,\n",
      " <Job | 313050f2-aa78-4d7d-99f4-44bdfe98e4d7>]\n"
     ]
    }
   ],
   "source": [
    "old_jobs = catalog.jobs()\n",
    "old_jobs"
   ]
  },
  {
   "cell_type": "markdown",
   "metadata": {},
   "source": [
    "### エラーメッセージを取得する\n",
    "プログラム ステータスが  `ERROR`の場合、`job.result()`　でデバッグに役立つエラー メッセージを取得します。\n",
    "\n",
    "\n"
   ]
  },
  {
   "cell_type": "code",
   "execution_count": null,
   "metadata": {},
   "outputs": [],
   "source": [
    "print(job.result())"
   ]
  },
  {
   "cell_type": "markdown",
   "metadata": {},
   "source": [
    "## 次のステップ\n",
    "\n",
    "<Admonition type=\"info\" title=\"Recommendations\">\n",
    "\n",
    "  *   [circuit functionsの探索](./ibm-circuit-function)を使って、新しいアルゴリズムやアプリケーションを構築することができます。\n",
    "\n",
    "  *   [application functionsの探索](./q-ctrl-optimization-solver) で古典的な入力と出力で、ドメイン固有のタスクを解決します。\n",
    "</Admonition>\n"
   ]
  }
 ],
 "metadata": {
  "description": "Explore IBM Qiskit Functions Catalog, abstracted circuit function and application function services designed to accelerate research and application prototyping.",
  "kernelspec": {
   "display_name": "Python 3 (ipykernel)",
   "language": "python",
   "name": "python3"
  },
  "language_info": {
   "codemirror_mode": {
    "name": "ipython",
    "version": 3
   },
   "file_extension": ".py",
   "mimetype": "text/x-python",
   "name": "python",
   "nbconvert_exporter": "python",
   "pygments_lexer": "ipython3",
   "version": "3.12.3"
  },
  "title": "Introduction to Qiskit Functions"
 },
 "nbformat": 4,
 "nbformat_minor": 4
}
