{
 "cells": [
  {
   "cell_type": "markdown",
   "metadata": {},
   "source": [
    "# Qiskit Global Summer School （Qiskit夏の学校） 資料 日本語版\n",
    "\n",
    "- [Qiskit Global Summer School 2020](https://github.com/Qiskit/textbook/tree/main/translations/ja/summer-school/2020)\n",
    "- [Qiskit Global Summer School 2021 (日本語版翻訳中)](https://github.com/Qiskit/textbook/tree/main/translations/ja/summer-school/2021)・[（英語版）](https://github.com/Qiskit/platypus/tree/main/notebooks/summer-school/2021)・[日本語版notebook](https://github.com/quantum-tokyo/introduction/tree/main/materials/QiskitGlobalSummerSchool2021)\n",
    "- [Qiskit Global Summer School 2022](https://github.com/Qiskit/textbook/tree/main/translations/ja/summer-school/2022)・[日本語版notebook (翻訳中)](https://github.com/Qiskit/textbook/tree/main/translations/ja/summer-school/2022/resources/lab-notebooks)・[英語版notebook](https://github.com/Qiskit/platypus/tree/main/notebooks/summer-school/2022/resources/lab-notebooks)\n",
    "- [Qiskit Global Summer School 2023 (未翻訳)](https://github.com/qiskit-community/qgss-2023)\n",
    "-  [Qiskit Global Summer School 2024 (未翻訳)](https://github.com/qiskit-community/qgss-2024)"
   ]
  }
 ],
 "metadata": {
  "kernelspec": {
   "display_name": "Python 3",
   "language": "python",
   "name": "python3"
  },
  "language_info": {
   "codemirror_mode": {
    "name": "ipython",
    "version": 3
   },
   "file_extension": ".py",
   "mimetype": "text/x-python",
   "name": "python",
   "nbconvert_exporter": "python",
   "pygments_lexer": "ipython3",
   "version": "3.8.0"
  },
  "widgets": {
   "application/vnd.jupyter.widget-state+json": {
    "state": {},
    "version_major": 2,
    "version_minor": 0
   }
  }
 },
 "nbformat": 4,
 "nbformat_minor": 4
}
