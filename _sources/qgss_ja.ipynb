{
 "cells": [
  {
   "cell_type": "markdown",
   "metadata": {},
   "source": [
    "# Qiskit 夏の学校 資料 日本語版\n",
    "\n",
    "- [Qiskit 夏の学校 2020](https://ja.learn.qiskit.org/summer-school/2020/qubits-states-circuits-measurements)\n",
    "- [Qiskit 夏の学校 2021 (翻訳中)](https://ja.learn.qiskit.org/summer-school/2021/lec1-1-vector-spaces-tensor-products-qubits)・[日本語版notebook](https://github.com/quantum-tokyo/introduction/tree/main/materials/QiskitGlobalSummerSchool2021)\n",
    "- [Qiskit 夏の学校 2022](https://ja.learn.qiskit.org/summer-school/2022/history-quantum-computing-motivation-quantum-simulation)・[日本語版notebook (翻訳中)](https://github.com/Qiskit/platypus/tree/main/translations/ja/summer-school/2022/resources/lab-notebooks)\n",
    "- [Qiskit 夏の学校 2023 (未翻訳)](https://github.com/qiskit-community/qgss-2023)"
   ]
  },
  {
   "cell_type": "markdown",
   "metadata": {},
   "source": []
  }
 ],
 "metadata": {
  "kernelspec": {
   "display_name": "Python 3",
   "language": "python",
   "name": "python3"
  },
  "language_info": {
   "codemirror_mode": {
    "name": "ipython",
    "version": 3
   },
   "file_extension": ".py",
   "mimetype": "text/x-python",
   "name": "python",
   "nbconvert_exporter": "python",
   "pygments_lexer": "ipython3",
   "version": "3.8.0"
  },
  "widgets": {
   "application/vnd.jupyter.widget-state+json": {
    "state": {},
    "version_major": 2,
    "version_minor": 0
   }
  }
 },
 "nbformat": 4,
 "nbformat_minor": 4
}
