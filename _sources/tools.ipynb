{
 "cells": [
  {
   "cell_type": "markdown",
   "metadata": {},
   "source": [
    "# その他： IBM Quantum の便利なツール\n",
    "\n",
    "\n",
    "## [IBM Quantum Composer(無料)](https://quantum-computing.ibm.com/composer)\n",
    "クラウド型量子コンピューターIBM Quantum Systemsを使ってブラウザー上で量子回路の設計・実行・結果表示が簡単にできるGUIのある初心者におすすめのツールです。<br>\n",
    "    ご参考：<br>\n",
    "        - [IBM Quantum Composerの登録（くわしいバージョン）](https://qiita.com/kifumi/items/7ac33ab7939d2dd796d0)<br>\n",
    "        - [量子コンピューター入門 IBM Quantum Composer編](https://qiita.com/kifumi/items/1c1a3438db214f369b97)\n",
    "\n",
    "\n",
    "## [IBM Quantum Lab(無料)](https://lab.quantum-computing.ibm.com)\n",
    "量子計算用開発キットQiskitをインストールなしで実行できるJupyter Notebook環境です。"
   ]
  },
  {
   "cell_type": "markdown",
   "metadata": {},
   "source": []
  },
  {
   "cell_type": "code",
   "execution_count": null,
   "metadata": {
    "vscode": {
     "languageId": "plaintext"
    }
   },
   "outputs": [],
   "source": []
  },
  {
   "cell_type": "code",
   "execution_count": null,
   "metadata": {
    "vscode": {
     "languageId": "plaintext"
    }
   },
   "outputs": [],
   "source": []
  }
 ],
 "metadata": {
  "kernelspec": {
   "display_name": "Python 3",
   "language": "python",
   "name": "python3"
  },
  "language_info": {
   "codemirror_mode": {
    "name": "ipython",
    "version": 3
   },
   "file_extension": ".py",
   "mimetype": "text/x-python",
   "name": "python",
   "nbconvert_exporter": "python",
   "pygments_lexer": "ipython3",
   "version": "3.8.0"
  },
  "widgets": {
   "application/vnd.jupyter.widget-state+json": {
    "state": {},
    "version_major": 2,
    "version_minor": 0
   }
  }
 },
 "nbformat": 4,
 "nbformat_minor": 4
}
