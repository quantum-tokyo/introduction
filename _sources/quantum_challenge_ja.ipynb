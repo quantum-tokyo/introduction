{
 "cells": [
  {
   "cell_type": "markdown",
   "metadata": {},
   "source": [
    "# IBM Quantum Challenge 一覧\n",
    "\n",
    "IBM Quantum Challeng は、初心者から学習できる量子プログラミング教材です。\n",
    "\n",
    "- [2019年](https://github.com/quantum-challenge/2019#ibm-quantum-challenge%E3%81%B8%E3%82%88%E3%81%86%E3%81%93%E3%81%9D)(全notebook和訳あり)\n",
    "- [2020年春](https://github.com/qiskit-community/may4_challenge_exercises)\n",
    "- [2020年秋](https://github.com/qiskit-community/IBMQuantumChallenge2020#ibm-quantum-challenge%E3%81%B8%E3%82%88%E3%81%86%E3%81%93%E3%81%9D)(全notebook和訳あり)\n",
    "- [2021年春](https://github.com/qiskit-community/ibm-quantum-challenge-2021)(全notebook和訳あり)\n",
    "- [2021年アフリカ](https://github.com/qiskit-community/ibm-quantum-challenge-africa-2021) ([Lab1：リョウコと量子コンピューターで農地収穫量の最適化](https://github.com/purepureclub/IFCO2021DEC/blob/main/IFCO2021Dec_qiskit_handson.ipynb), [Lab3](https://github.com/kifumi/introduction/blob/main/materials/QuantumChallengeAfrica2021/lab3/lab3_ja.ipynb)のみ和訳あり)\n",
    "- [2021年秋](https://github.com/qiskit-community/ibm-quantum-challenge-fall-2021)(全notebook和訳あり)\n",
    "- [2022年春](https://github.com/qiskit-community/ibm-quantum-spring-challenge-2022)(全notebook和訳あり)\n",
    "- [2022年秋](https://github.com/qiskit-community/ibm-quantum-challenge-fall-22)(全notebook和訳あり)\n",
    "- [2023年春](https://github.com/qiskit-community/ibm-quantum-challenge-spring-2023)(全notebook和訳あり)\n",
    "\n",
    "\n",
    "こちらで日本語解説を作成中です：https://quantum-tokyo.github.io/iqc-textbook/intro.html"
   ]
  },
  {
   "cell_type": "markdown",
   "metadata": {},
   "source": []
  }
 ],
 "metadata": {
  "kernelspec": {
   "display_name": "Python 3",
   "language": "python",
   "name": "python3"
  },
  "language_info": {
   "codemirror_mode": {
    "name": "ipython",
    "version": 3
   },
   "file_extension": ".py",
   "mimetype": "text/x-python",
   "name": "python",
   "nbconvert_exporter": "python",
   "pygments_lexer": "ipython3",
   "version": "3.8.0"
  },
  "widgets": {
   "application/vnd.jupyter.widget-state+json": {
    "state": {},
    "version_major": 2,
    "version_minor": 0
   }
  }
 },
 "nbformat": 4,
 "nbformat_minor": 4
}
